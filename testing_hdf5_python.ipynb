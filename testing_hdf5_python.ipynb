{
 "cells": [
  {
   "cell_type": "code",
   "execution_count": 1,
   "metadata": {
    "collapsed": true
   },
   "outputs": [],
   "source": [
    "import h5py"
   ]
  },
  {
   "cell_type": "code",
   "execution_count": 2,
   "metadata": {
    "collapsed": true
   },
   "outputs": [],
   "source": [
    "fn = \"/home/test.h5\""
   ]
  },
  {
   "cell_type": "code",
   "execution_count": 3,
   "metadata": {
    "collapsed": false
   },
   "outputs": [],
   "source": [
    "test = h5py.File(fn, \"w\")"
   ]
  },
  {
   "cell_type": "code",
   "execution_count": 4,
   "metadata": {
    "collapsed": true
   },
   "outputs": [],
   "source": [
    "import random, string"
   ]
  },
  {
   "cell_type": "code",
   "execution_count": 5,
   "metadata": {
    "collapsed": true
   },
   "outputs": [],
   "source": [
    "import numpy as np"
   ]
  },
  {
   "cell_type": "code",
   "execution_count": 6,
   "metadata": {
    "collapsed": true
   },
   "outputs": [],
   "source": [
    "def random_string(n=10):\n",
    "    return ''.join(random.SystemRandom().choice(string.digits + string.ascii_uppercase) \n",
    "                   for _ in range(n))"
   ]
  },
  {
   "cell_type": "code",
   "execution_count": 7,
   "metadata": {
    "collapsed": false
   },
   "outputs": [],
   "source": [
    "standard_ascii = \"mar231-21y ha131d a litt321le lamb its Fleece As Wh31ite as snow\".split()"
   ]
  },
  {
   "cell_type": "code",
   "execution_count": 8,
   "metadata": {
    "collapsed": false
   },
   "outputs": [],
   "source": [
    "random_strings = [random_string() for _ in range(20)]"
   ]
  },
  {
   "cell_type": "code",
   "execution_count": 9,
   "metadata": {
    "collapsed": false
   },
   "outputs": [
    {
     "data": {
      "text/plain": [
       "<HDF5 dataset \"ascii\": shape (11,), type \"|S10\">"
      ]
     },
     "execution_count": 9,
     "metadata": {},
     "output_type": "execute_result"
    }
   ],
   "source": [
    "codedb = np.array(standard_ascii, dtype=\"a10\")\n",
    "test.create_dataset(\"/test/ascii\", data=codedb)"
   ]
  },
  {
   "cell_type": "code",
   "execution_count": 10,
   "metadata": {
    "collapsed": false
   },
   "outputs": [
    {
     "data": {
      "text/plain": [
       "<HDF5 dataset \"randomalphashort\": shape (20,), type \"|S10\">"
      ]
     },
     "execution_count": 10,
     "metadata": {},
     "output_type": "execute_result"
    }
   ],
   "source": [
    "codedc = np.array(random_strings, dtype=\"a11\")\n",
    "test.create_dataset(\"/test/randomalpha\", data=codedc)\n",
    "\n",
    "\n",
    "codedd = np.array(random_strings, dtype=\"a10\")\n",
    "test.create_dataset(\"/test/randomalphashort\", data=codedd)"
   ]
  },
  {
   "cell_type": "code",
   "execution_count": 11,
   "metadata": {
    "collapsed": true
   },
   "outputs": [],
   "source": [
    "test.close()"
   ]
  },
  {
   "cell_type": "markdown",
   "metadata": {},
   "source": [
    "## Read back"
   ]
  },
  {
   "cell_type": "code",
   "execution_count": 12,
   "metadata": {
    "collapsed": true
   },
   "outputs": [],
   "source": [
    "readback = h5py.File(fn, \"r\")"
   ]
  },
  {
   "cell_type": "code",
   "execution_count": 14,
   "metadata": {
    "collapsed": false
   },
   "outputs": [
    {
     "data": {
      "text/plain": [
       "array([b'mar231-21y', b'ha131d', b'a', b'litt321le', b'lamb', b'its',\n",
       "       b'Fleece', b'As', b'Wh31ite', b'as', b'snow'], \n",
       "      dtype='|S10')"
      ]
     },
     "execution_count": 14,
     "metadata": {},
     "output_type": "execute_result"
    }
   ],
   "source": [
    "readback[\"/test/ascii\"][:]"
   ]
  },
  {
   "cell_type": "code",
   "execution_count": 15,
   "metadata": {
    "collapsed": false
   },
   "outputs": [
    {
     "data": {
      "text/plain": [
       "array([b'SJAUSXNRID', b'T41L14YK26', b'C8R1C7FDTF', b'6197XIYAJI',\n",
       "       b'B2OMSWNB6G', b'EGHRUT4PZJ', b'MGQG5WZ9L8', b'IQ07YVRH2B',\n",
       "       b'TA76KAOIFP', b'Y0LCLPDTM7', b'AUK4PIC0F5', b'PA4I1T4G8W',\n",
       "       b'E12IAB321V', b'PEECNYZLH5', b'PW1OYN9YCQ', b'5R5FXRIUGT',\n",
       "       b'BFNQJDW1FN', b'0ET8QN214V', b'FWIR5BFC7K', b'U9OGDM99RA'], \n",
       "      dtype='|S11')"
      ]
     },
     "execution_count": 15,
     "metadata": {},
     "output_type": "execute_result"
    }
   ],
   "source": [
    "readback[\"/test/randomalpha\"][:]"
   ]
  },
  {
   "cell_type": "code",
   "execution_count": 16,
   "metadata": {
    "collapsed": false
   },
   "outputs": [
    {
     "data": {
      "text/plain": [
       "array([b'SJAUSXNRID', b'T41L14YK26', b'C8R1C7FDTF', b'6197XIYAJI',\n",
       "       b'B2OMSWNB6G', b'EGHRUT4PZJ', b'MGQG5WZ9L8', b'IQ07YVRH2B',\n",
       "       b'TA76KAOIFP', b'Y0LCLPDTM7', b'AUK4PIC0F5', b'PA4I1T4G8W',\n",
       "       b'E12IAB321V', b'PEECNYZLH5', b'PW1OYN9YCQ', b'5R5FXRIUGT',\n",
       "       b'BFNQJDW1FN', b'0ET8QN214V', b'FWIR5BFC7K', b'U9OGDM99RA'], \n",
       "      dtype='|S10')"
      ]
     },
     "execution_count": 16,
     "metadata": {},
     "output_type": "execute_result"
    }
   ],
   "source": [
    "readback[\"/test/randomalphashort\"][:]"
   ]
  }
 ],
 "metadata": {
  "kernelspec": {
   "display_name": "Python 3",
   "language": "python",
   "name": "python3"
  },
  "language_info": {
   "codemirror_mode": {
    "name": "ipython",
    "version": 3
   },
   "file_extension": ".py",
   "mimetype": "text/x-python",
   "name": "python",
   "nbconvert_exporter": "python",
   "pygments_lexer": "ipython3",
   "version": "3.4.0"
  }
 },
 "nbformat": 4,
 "nbformat_minor": 0
}

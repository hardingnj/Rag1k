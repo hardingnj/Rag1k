{
 "cells": [
  {
   "cell_type": "code",
   "execution_count": 1,
   "metadata": {
    "collapsed": true
   },
   "outputs": [],
   "source": [
    "r = 3"
   ]
  },
  {
   "cell_type": "code",
   "execution_count": 2,
   "metadata": {
    "collapsed": false
   },
   "outputs": [
    {
     "data": {
      "text/html": [
       "3"
      ],
      "text/latex": [
       "3"
      ],
      "text/markdown": [
       "3"
      ],
      "text/plain": [
       "[1] 3"
      ]
     },
     "execution_count": 2,
     "metadata": {},
     "output_type": "execute_result"
    }
   ],
   "source": [
    "r"
   ]
  },
  {
   "cell_type": "code",
   "execution_count": 12,
   "metadata": {
    "collapsed": false
   },
   "outputs": [
    {
     "name": "stderr",
     "output_type": "stream",
     "text": [
      "Bioconductor version 3.1 (BiocInstaller 1.18.4), ?biocLite for help\n"
     ]
    },
    {
     "name": "stdout",
     "output_type": "stream",
     "text": [
      "\n",
      "The downloaded source packages are in\n",
      "\t‘/tmp/RtmpoIuTwn/downloaded_packages’\n"
     ]
    },
    {
     "name": "stderr",
     "output_type": "stream",
     "text": [
      "Bioconductor version 3.1 (BiocInstaller 1.18.5), ?biocLite for help\n",
      "A newer version of Bioconductor is available for this version of R,\n",
      "  ?BiocUpgrade for help\n",
      "'BiocInstaller' updated to version 1.18.5\n",
      "BioC_mirror: http://bioconductor.org\n",
      "Using Bioconductor version 3.1 (BiocInstaller 1.18.5), R version 3.2.2.\n",
      "Installing package(s) ‘rhdf5’\n",
      "also installing the dependency ‘zlibbioc’\n",
      "\n"
     ]
    },
    {
     "name": "stdout",
     "output_type": "stream",
     "text": [
      "\n",
      "The downloaded source packages are in\n",
      "\t‘/tmp/RtmpoIuTwn/downloaded_packages’\n"
     ]
    },
    {
     "name": "stderr",
     "output_type": "stream",
     "text": [
      "Old packages: 'data.table', 'doParallel', 'foreach', 'GenomeInfoDb', 'Hmisc',\n",
      "  'IRanges', 'irlba', 'iterators', 'optparse', 'RUnit', 'S4Vectors', 'stringi',\n",
      "  'testthat', 'spatial'\n"
     ]
    }
   ],
   "source": [
    "source(\"http://bioconductor.org/biocLite.R\")\n",
    "biocLite(\"rhdf5\")"
   ]
  },
  {
   "cell_type": "code",
   "execution_count": 16,
   "metadata": {
    "collapsed": false
   },
   "outputs": [],
   "source": [
    "fn = file.path(\"/data/coluzzi/ag1000g/data/phase1\",\n",
    "               \"release/AR3/variation/main/hdf5/ag1000g.phase1.ar3.3L.h5\")"
   ]
  },
  {
   "cell_type": "code",
   "execution_count": 23,
   "metadata": {
    "collapsed": true
   },
   "outputs": [],
   "source": [
    "library(rhdf5)\n",
    "library(ggplot2)"
   ]
  },
  {
   "cell_type": "code",
   "execution_count": 27,
   "metadata": {
    "collapsed": false
   },
   "outputs": [
    {
     "name": "stderr",
     "output_type": "stream",
     "text": [
      "Warning message:\n",
      "In h5checktypeOrOpenLoc(file, readonly = TRUE): An open HDF5 file handle exists. If the file has changed on disk meanwhile, the function may not work properly. Run 'H5close()' to close all open HDF5 object handles.Warning message:\n",
      "In `[<-.factor`(`*tmp*`, ri, value = \"⋮\"): invalid factor level, NA generatedWarning message:\n",
      "In `[<-.factor`(`*tmp*`, ri, value = \"⋮\"): invalid factor level, NA generated"
     ]
    },
    {
     "data": {
      "text/html": [
       "<table>\n",
       "<thead><tr><th></th><th scope=col>group</th><th scope=col>name</th><th scope=col>otype</th><th scope=col>dclass</th><th scope=col>dim</th></tr></thead>\n",
       "<tbody>\n",
       "\t<tr><th scope=row>0</th><td>/</td><td>3L</td><td>H5I_GROUP</td><td></td><td></td></tr>\n",
       "\t<tr><th scope=row>1</th><td>/3L</td><td>calldata</td><td>H5I_GROUP</td><td></td><td></td></tr>\n",
       "\t<tr><th scope=row>2</th><td>/3L/calldata</td><td>AD</td><td>H5I_DATASET</td><td>INTEGER</td><td>4 x 765 x 16437135</td></tr>\n",
       "\t<tr><th scope=row>3</th><td>/3L/calldata</td><td>DP</td><td>H5I_DATASET</td><td>INTEGER</td><td>765 x 16437135</td></tr>\n",
       "\t<tr><th scope=row>4</th><td>/3L/calldata</td><td>GQ</td><td>H5I_DATASET</td><td>INTEGER</td><td>765 x 16437135</td></tr>\n",
       "\t<tr><th scope=row>5</th><td>/3L/calldata</td><td>genotype</td><td>H5I_DATASET</td><td>INTEGER</td><td>2 x 765 x 16437135</td></tr>\n",
       "\t<tr><th scope=row>6</th><td>/3L/calldata</td><td>is_called</td><td>H5I_DATASET</td><td>ENUM</td><td>765 x 16437135</td></tr>\n",
       "\t<tr><th scope=row>7</th><td>/3L</td><td>samples</td><td>H5I_DATASET</td><td>STRING</td><td>765</td></tr>\n",
       "\t<tr><th scope=row>8</th><td>/3L</td><td>variants</td><td>H5I_GROUP</td><td></td><td></td></tr>\n",
       "\t<tr><th scope=row>9</th><td>/3L/variants</td><td>ABHet</td><td>H5I_DATASET</td><td>FLOAT</td><td>16437135</td></tr>\n",
       "\t<tr><th scope=row>10</th><td>/3L/variants</td><td>ABHom</td><td>H5I_DATASET</td><td>FLOAT</td><td>16437135</td></tr>\n",
       "\t<tr><th scope=row>11</th><td>/3L/variants</td><td>AC</td><td>H5I_DATASET</td><td>INTEGER</td><td>3 x 16437135</td></tr>\n",
       "\t<tr><th scope=row>12</th><td>/3L/variants</td><td>AF</td><td>H5I_DATASET</td><td>FLOAT</td><td>3 x 16437135</td></tr>\n",
       "\t<tr><th scope=row>13</th><td>/3L/variants</td><td>ALT</td><td>H5I_DATASET</td><td>STRING</td><td>3 x 16437135</td></tr>\n",
       "\t<tr><th scope=row>14</th><td>/3L/variants</td><td>AN</td><td>H5I_DATASET</td><td>INTEGER</td><td>16437135</td></tr>\n",
       "\t<tr><th scope=row>15</th><td>/3L/variants</td><td>ANN</td><td>H5I_DATASET</td><td>COMPOUND</td><td>16437135</td></tr>\n",
       "\t<tr><th scope=row>16</th><td>/3L/variants</td><td>Accessible</td><td>H5I_DATASET</td><td>ENUM</td><td>16437135</td></tr>\n",
       "\t<tr><th scope=row>17</th><td>/3L/variants</td><td>BaseCounts</td><td>H5I_DATASET</td><td>INTEGER</td><td>4 x 16437135</td></tr>\n",
       "\t<tr><th scope=row>18</th><td>/3L/variants</td><td>BaseQRankSum</td><td>H5I_DATASET</td><td>FLOAT</td><td>16437135</td></tr>\n",
       "\t<tr><th scope=row>19</th><td>/3L/variants</td><td>CHROM</td><td>H5I_DATASET</td><td>STRING</td><td>16437135</td></tr>\n",
       "\t<tr><th scope=row>20</th><td>/3L/variants</td><td>Coverage</td><td>H5I_DATASET</td><td>INTEGER</td><td>16437135</td></tr>\n",
       "\t<tr><th scope=row>21</th><td>/3L/variants</td><td>CoverageMQ0</td><td>H5I_DATASET</td><td>INTEGER</td><td>16437135</td></tr>\n",
       "\t<tr><th scope=row>22</th><td>/3L/variants</td><td>DP</td><td>H5I_DATASET</td><td>INTEGER</td><td>16437135</td></tr>\n",
       "\t<tr><th scope=row>23</th><td>/3L/variants</td><td>DS</td><td>H5I_DATASET</td><td>ENUM</td><td>16437135</td></tr>\n",
       "\t<tr><th scope=row>24</th><td>/3L/variants</td><td>Dels</td><td>H5I_DATASET</td><td>FLOAT</td><td>16437135</td></tr>\n",
       "\t<tr><th scope=row>25</th><td>/3L/variants</td><td>FILTER_FS</td><td>H5I_DATASET</td><td>ENUM</td><td>16437135</td></tr>\n",
       "\t<tr><th scope=row>26</th><td>/3L/variants</td><td>FILTER_HRun</td><td>H5I_DATASET</td><td>ENUM</td><td>16437135</td></tr>\n",
       "\t<tr><th scope=row>27</th><td>/3L/variants</td><td>FILTER_HighCoverage</td><td>H5I_DATASET</td><td>ENUM</td><td>16437135</td></tr>\n",
       "\t<tr><th scope=row>28</th><td>/3L/variants</td><td>FILTER_HighMQ0</td><td>H5I_DATASET</td><td>ENUM</td><td>16437135</td></tr>\n",
       "\t<tr><th scope=row>29</th><td>/3L/variants</td><td>FILTER_LowCoverage</td><td>H5I_DATASET</td><td>ENUM</td><td>16437135</td></tr>\n",
       "\t<tr><th scope=row>31</th><td>⋮</td><td>⋮</td><td>NA</td><td>⋮</td><td>⋮</td></tr>\n",
       "\t<tr><th scope=row>45</th><td>/3L/variants</td><td>LOF</td><td>H5I_DATASET</td><td>STRING</td><td>16437135</td></tr>\n",
       "\t<tr><th scope=row>46</th><td>/3L/variants</td><td>LowCoverage</td><td>H5I_DATASET</td><td>INTEGER</td><td>16437135</td></tr>\n",
       "\t<tr><th scope=row>47</th><td>/3L/variants</td><td>LowMQ</td><td>H5I_DATASET</td><td>INTEGER</td><td>16437135</td></tr>\n",
       "\t<tr><th scope=row>48</th><td>/3L/variants</td><td>LowPairing</td><td>H5I_DATASET</td><td>INTEGER</td><td>16437135</td></tr>\n",
       "\t<tr><th scope=row>49</th><td>/3L/variants</td><td>MLEAC</td><td>H5I_DATASET</td><td>INTEGER</td><td>3 x 16437135</td></tr>\n",
       "\t<tr><th scope=row>50</th><td>/3L/variants</td><td>MLEAF</td><td>H5I_DATASET</td><td>FLOAT</td><td>3 x 16437135</td></tr>\n",
       "\t<tr><th scope=row>51</th><td>/3L/variants</td><td>MQ</td><td>H5I_DATASET</td><td>FLOAT</td><td>16437135</td></tr>\n",
       "\t<tr><th scope=row>52</th><td>/3L/variants</td><td>MQ0</td><td>H5I_DATASET</td><td>INTEGER</td><td>16437135</td></tr>\n",
       "\t<tr><th scope=row>53</th><td>/3L/variants</td><td>MQRankSum</td><td>H5I_DATASET</td><td>FLOAT</td><td>16437135</td></tr>\n",
       "\t<tr><th scope=row>54</th><td>/3L/variants</td><td>NDA</td><td>H5I_DATASET</td><td>INTEGER</td><td>16437135</td></tr>\n",
       "\t<tr><th scope=row>55</th><td>/3L/variants</td><td>NMD</td><td>H5I_DATASET</td><td>STRING</td><td>16437135</td></tr>\n",
       "\t<tr><th scope=row>56</th><td>/3L/variants</td><td>NoCoverage</td><td>H5I_DATASET</td><td>INTEGER</td><td>16437135</td></tr>\n",
       "\t<tr><th scope=row>57</th><td>/3L/variants</td><td>OND</td><td>H5I_DATASET</td><td>FLOAT</td><td>16437135</td></tr>\n",
       "\t<tr><th scope=row>58</th><td>/3L/variants</td><td>POS</td><td>H5I_DATASET</td><td>INTEGER</td><td>16437135</td></tr>\n",
       "\t<tr><th scope=row>59</th><td>/3L/variants</td><td>QD</td><td>H5I_DATASET</td><td>FLOAT</td><td>16437135</td></tr>\n",
       "\t<tr><th scope=row>60</th><td>/3L/variants</td><td>QUAL</td><td>H5I_DATASET</td><td>FLOAT</td><td>16437135</td></tr>\n",
       "\t<tr><th scope=row>61</th><td>/3L/variants</td><td>REF</td><td>H5I_DATASET</td><td>STRING</td><td>16437135</td></tr>\n",
       "\t<tr><th scope=row>62</th><td>/3L/variants</td><td>RPA</td><td>H5I_DATASET</td><td>INTEGER</td><td>16437135</td></tr>\n",
       "\t<tr><th scope=row>63</th><td>/3L/variants</td><td>RU</td><td>H5I_DATASET</td><td>STRING</td><td>16437135</td></tr>\n",
       "\t<tr><th scope=row>64</th><td>/3L/variants</td><td>ReadPosRankSum</td><td>H5I_DATASET</td><td>FLOAT</td><td>16437135</td></tr>\n",
       "\t<tr><th scope=row>65</th><td>/3L/variants</td><td>RefMasked</td><td>H5I_DATASET</td><td>ENUM</td><td>16437135</td></tr>\n",
       "\t<tr><th scope=row>66</th><td>/3L/variants</td><td>RefN</td><td>H5I_DATASET</td><td>ENUM</td><td>16437135</td></tr>\n",
       "\t<tr><th scope=row>67</th><td>/3L/variants</td><td>RepeatDUST</td><td>H5I_DATASET</td><td>ENUM</td><td>16437135</td></tr>\n",
       "\t<tr><th scope=row>68</th><td>/3L/variants</td><td>RepeatMasker</td><td>H5I_DATASET</td><td>ENUM</td><td>16437135</td></tr>\n",
       "\t<tr><th scope=row>69</th><td>/3L/variants</td><td>RepeatTRF</td><td>H5I_DATASET</td><td>ENUM</td><td>16437135</td></tr>\n",
       "\t<tr><th scope=row>70</th><td>/3L/variants</td><td>STR</td><td>H5I_DATASET</td><td>ENUM</td><td>16437135</td></tr>\n",
       "\t<tr><th scope=row>71</th><td>/3L/variants</td><td>VariantType</td><td>H5I_DATASET</td><td>STRING</td><td>16437135</td></tr>\n",
       "\t<tr><th scope=row>72</th><td>/3L/variants</td><td>is_snp</td><td>H5I_DATASET</td><td>ENUM</td><td>16437135</td></tr>\n",
       "\t<tr><th scope=row>73</th><td>/3L/variants</td><td>num_alleles</td><td>H5I_DATASET</td><td>INTEGER</td><td>16437135</td></tr>\n",
       "\t<tr><th scope=row>74</th><td>/3L/variants</td><td>svlen</td><td>H5I_DATASET</td><td>INTEGER</td><td>16437135</td></tr>\n",
       "</tbody>\n",
       "</table>\n"
      ],
      "text/latex": [
       "\\begin{tabular}{r|lllll}\n",
       "  & group & name & otype & dclass & dim\\\\\n",
       "\\hline\n",
       "\t0 & / & 3L & H5I_GROUP &  & \\\\\n",
       "\t1 & /3L & calldata & H5I_GROUP &  & \\\\\n",
       "\t2 & /3L/calldata & AD & H5I_DATASET & INTEGER & 4 x 765 x 16437135\\\\\n",
       "\t3 & /3L/calldata & DP & H5I_DATASET & INTEGER & 765 x 16437135\\\\\n",
       "\t4 & /3L/calldata & GQ & H5I_DATASET & INTEGER & 765 x 16437135\\\\\n",
       "\t5 & /3L/calldata & genotype & H5I_DATASET & INTEGER & 2 x 765 x 16437135\\\\\n",
       "\t6 & /3L/calldata & is_called & H5I_DATASET & ENUM & 765 x 16437135\\\\\n",
       "\t7 & /3L & samples & H5I_DATASET & STRING & 765\\\\\n",
       "\t8 & /3L & variants & H5I_GROUP &  & \\\\\n",
       "\t9 & /3L/variants & ABHet & H5I_DATASET & FLOAT & 16437135\\\\\n",
       "\t10 & /3L/variants & ABHom & H5I_DATASET & FLOAT & 16437135\\\\\n",
       "\t11 & /3L/variants & AC & H5I_DATASET & INTEGER & 3 x 16437135\\\\\n",
       "\t12 & /3L/variants & AF & H5I_DATASET & FLOAT & 3 x 16437135\\\\\n",
       "\t13 & /3L/variants & ALT & H5I_DATASET & STRING & 3 x 16437135\\\\\n",
       "\t14 & /3L/variants & AN & H5I_DATASET & INTEGER & 16437135\\\\\n",
       "\t15 & /3L/variants & ANN & H5I_DATASET & COMPOUND & 16437135\\\\\n",
       "\t16 & /3L/variants & Accessible & H5I_DATASET & ENUM & 16437135\\\\\n",
       "\t17 & /3L/variants & BaseCounts & H5I_DATASET & INTEGER & 4 x 16437135\\\\\n",
       "\t18 & /3L/variants & BaseQRankSum & H5I_DATASET & FLOAT & 16437135\\\\\n",
       "\t19 & /3L/variants & CHROM & H5I_DATASET & STRING & 16437135\\\\\n",
       "\t20 & /3L/variants & Coverage & H5I_DATASET & INTEGER & 16437135\\\\\n",
       "\t21 & /3L/variants & CoverageMQ0 & H5I_DATASET & INTEGER & 16437135\\\\\n",
       "\t22 & /3L/variants & DP & H5I_DATASET & INTEGER & 16437135\\\\\n",
       "\t23 & /3L/variants & DS & H5I_DATASET & ENUM & 16437135\\\\\n",
       "\t24 & /3L/variants & Dels & H5I_DATASET & FLOAT & 16437135\\\\\n",
       "\t25 & /3L/variants & FILTER_FS & H5I_DATASET & ENUM & 16437135\\\\\n",
       "\t26 & /3L/variants & FILTER_HRun & H5I_DATASET & ENUM & 16437135\\\\\n",
       "\t27 & /3L/variants & FILTER_HighCoverage & H5I_DATASET & ENUM & 16437135\\\\\n",
       "\t28 & /3L/variants & FILTER_HighMQ0 & H5I_DATASET & ENUM & 16437135\\\\\n",
       "\t29 & /3L/variants & FILTER_LowCoverage & H5I_DATASET & ENUM & 16437135\\\\\n",
       "\t31 & ⋮ & ⋮ & NA & ⋮ & ⋮\\\\\n",
       "\t45 & /3L/variants & LOF & H5I_DATASET & STRING & 16437135\\\\\n",
       "\t46 & /3L/variants & LowCoverage & H5I_DATASET & INTEGER & 16437135\\\\\n",
       "\t47 & /3L/variants & LowMQ & H5I_DATASET & INTEGER & 16437135\\\\\n",
       "\t48 & /3L/variants & LowPairing & H5I_DATASET & INTEGER & 16437135\\\\\n",
       "\t49 & /3L/variants & MLEAC & H5I_DATASET & INTEGER & 3 x 16437135\\\\\n",
       "\t50 & /3L/variants & MLEAF & H5I_DATASET & FLOAT & 3 x 16437135\\\\\n",
       "\t51 & /3L/variants & MQ & H5I_DATASET & FLOAT & 16437135\\\\\n",
       "\t52 & /3L/variants & MQ0 & H5I_DATASET & INTEGER & 16437135\\\\\n",
       "\t53 & /3L/variants & MQRankSum & H5I_DATASET & FLOAT & 16437135\\\\\n",
       "\t54 & /3L/variants & NDA & H5I_DATASET & INTEGER & 16437135\\\\\n",
       "\t55 & /3L/variants & NMD & H5I_DATASET & STRING & 16437135\\\\\n",
       "\t56 & /3L/variants & NoCoverage & H5I_DATASET & INTEGER & 16437135\\\\\n",
       "\t57 & /3L/variants & OND & H5I_DATASET & FLOAT & 16437135\\\\\n",
       "\t58 & /3L/variants & POS & H5I_DATASET & INTEGER & 16437135\\\\\n",
       "\t59 & /3L/variants & QD & H5I_DATASET & FLOAT & 16437135\\\\\n",
       "\t60 & /3L/variants & QUAL & H5I_DATASET & FLOAT & 16437135\\\\\n",
       "\t61 & /3L/variants & REF & H5I_DATASET & STRING & 16437135\\\\\n",
       "\t62 & /3L/variants & RPA & H5I_DATASET & INTEGER & 16437135\\\\\n",
       "\t63 & /3L/variants & RU & H5I_DATASET & STRING & 16437135\\\\\n",
       "\t64 & /3L/variants & ReadPosRankSum & H5I_DATASET & FLOAT & 16437135\\\\\n",
       "\t65 & /3L/variants & RefMasked & H5I_DATASET & ENUM & 16437135\\\\\n",
       "\t66 & /3L/variants & RefN & H5I_DATASET & ENUM & 16437135\\\\\n",
       "\t67 & /3L/variants & RepeatDUST & H5I_DATASET & ENUM & 16437135\\\\\n",
       "\t68 & /3L/variants & RepeatMasker & H5I_DATASET & ENUM & 16437135\\\\\n",
       "\t69 & /3L/variants & RepeatTRF & H5I_DATASET & ENUM & 16437135\\\\\n",
       "\t70 & /3L/variants & STR & H5I_DATASET & ENUM & 16437135\\\\\n",
       "\t71 & /3L/variants & VariantType & H5I_DATASET & STRING & 16437135\\\\\n",
       "\t72 & /3L/variants & is_snp & H5I_DATASET & ENUM & 16437135\\\\\n",
       "\t73 & /3L/variants & num_alleles & H5I_DATASET & INTEGER & 16437135\\\\\n",
       "\t74 & /3L/variants & svlen & H5I_DATASET & INTEGER & 16437135\\\\\n",
       "\\end{tabular}\n"
      ],
      "text/plain": [
       "          group                  name       otype   dclass                dim\n",
       "0             /                    3L   H5I_GROUP                            \n",
       "1           /3L              calldata   H5I_GROUP                            \n",
       "2  /3L/calldata                    AD H5I_DATASET  INTEGER 4 x 765 x 16437135\n",
       "3  /3L/calldata                    DP H5I_DATASET  INTEGER     765 x 16437135\n",
       "4  /3L/calldata                    GQ H5I_DATASET  INTEGER     765 x 16437135\n",
       "5  /3L/calldata              genotype H5I_DATASET  INTEGER 2 x 765 x 16437135\n",
       "6  /3L/calldata             is_called H5I_DATASET     ENUM     765 x 16437135\n",
       "7           /3L               samples H5I_DATASET   STRING                765\n",
       "8           /3L              variants   H5I_GROUP                            \n",
       "9  /3L/variants                 ABHet H5I_DATASET    FLOAT           16437135\n",
       "10 /3L/variants                 ABHom H5I_DATASET    FLOAT           16437135\n",
       "11 /3L/variants                    AC H5I_DATASET  INTEGER       3 x 16437135\n",
       "12 /3L/variants                    AF H5I_DATASET    FLOAT       3 x 16437135\n",
       "13 /3L/variants                   ALT H5I_DATASET   STRING       3 x 16437135\n",
       "14 /3L/variants                    AN H5I_DATASET  INTEGER           16437135\n",
       "15 /3L/variants                   ANN H5I_DATASET COMPOUND           16437135\n",
       "16 /3L/variants            Accessible H5I_DATASET     ENUM           16437135\n",
       "17 /3L/variants            BaseCounts H5I_DATASET  INTEGER       4 x 16437135\n",
       "18 /3L/variants          BaseQRankSum H5I_DATASET    FLOAT           16437135\n",
       "19 /3L/variants                 CHROM H5I_DATASET   STRING           16437135\n",
       "20 /3L/variants              Coverage H5I_DATASET  INTEGER           16437135\n",
       "21 /3L/variants           CoverageMQ0 H5I_DATASET  INTEGER           16437135\n",
       "22 /3L/variants                    DP H5I_DATASET  INTEGER           16437135\n",
       "23 /3L/variants                    DS H5I_DATASET     ENUM           16437135\n",
       "24 /3L/variants                  Dels H5I_DATASET    FLOAT           16437135\n",
       "25 /3L/variants             FILTER_FS H5I_DATASET     ENUM           16437135\n",
       "26 /3L/variants           FILTER_HRun H5I_DATASET     ENUM           16437135\n",
       "27 /3L/variants   FILTER_HighCoverage H5I_DATASET     ENUM           16437135\n",
       "28 /3L/variants        FILTER_HighMQ0 H5I_DATASET     ENUM           16437135\n",
       "29 /3L/variants    FILTER_LowCoverage H5I_DATASET     ENUM           16437135\n",
       "30 /3L/variants          FILTER_LowMQ H5I_DATASET     ENUM           16437135\n",
       "31 /3L/variants        FILTER_LowQual H5I_DATASET     ENUM           16437135\n",
       "32 /3L/variants     FILTER_NoCoverage H5I_DATASET     ENUM           16437135\n",
       "33 /3L/variants           FILTER_PASS H5I_DATASET     ENUM           16437135\n",
       "34 /3L/variants             FILTER_QD H5I_DATASET     ENUM           16437135\n",
       "35 /3L/variants FILTER_ReadPosRankSum H5I_DATASET     ENUM           16437135\n",
       "36 /3L/variants           FILTER_RefN H5I_DATASET     ENUM           16437135\n",
       "37 /3L/variants     FILTER_RepeatDUST H5I_DATASET     ENUM           16437135\n",
       "38 /3L/variants                    FS H5I_DATASET    FLOAT           16437135\n",
       "39 /3L/variants                  HRun H5I_DATASET  INTEGER           16437135\n",
       "40 /3L/variants                    HW H5I_DATASET    FLOAT           16437135\n",
       "41 /3L/variants        HaplotypeScore H5I_DATASET    FLOAT           16437135\n",
       "42 /3L/variants          HighCoverage H5I_DATASET  INTEGER           16437135\n",
       "43 /3L/variants               HighMQ0 H5I_DATASET  INTEGER           16437135\n",
       "44 /3L/variants       InbreedingCoeff H5I_DATASET    FLOAT           16437135\n",
       "45 /3L/variants                   LOF H5I_DATASET   STRING           16437135\n",
       "46 /3L/variants           LowCoverage H5I_DATASET  INTEGER           16437135\n",
       "47 /3L/variants                 LowMQ H5I_DATASET  INTEGER           16437135\n",
       "48 /3L/variants            LowPairing H5I_DATASET  INTEGER           16437135\n",
       "49 /3L/variants                 MLEAC H5I_DATASET  INTEGER       3 x 16437135\n",
       "50 /3L/variants                 MLEAF H5I_DATASET    FLOAT       3 x 16437135\n",
       "51 /3L/variants                    MQ H5I_DATASET    FLOAT           16437135\n",
       "52 /3L/variants                   MQ0 H5I_DATASET  INTEGER           16437135\n",
       "53 /3L/variants             MQRankSum H5I_DATASET    FLOAT           16437135\n",
       "54 /3L/variants                   NDA H5I_DATASET  INTEGER           16437135\n",
       "55 /3L/variants                   NMD H5I_DATASET   STRING           16437135\n",
       "56 /3L/variants            NoCoverage H5I_DATASET  INTEGER           16437135\n",
       "57 /3L/variants                   OND H5I_DATASET    FLOAT           16437135\n",
       "58 /3L/variants                   POS H5I_DATASET  INTEGER           16437135\n",
       "59 /3L/variants                    QD H5I_DATASET    FLOAT           16437135\n",
       "60 /3L/variants                  QUAL H5I_DATASET    FLOAT           16437135\n",
       "61 /3L/variants                   REF H5I_DATASET   STRING           16437135\n",
       "62 /3L/variants                   RPA H5I_DATASET  INTEGER           16437135\n",
       "63 /3L/variants                    RU H5I_DATASET   STRING           16437135\n",
       "64 /3L/variants        ReadPosRankSum H5I_DATASET    FLOAT           16437135\n",
       "65 /3L/variants             RefMasked H5I_DATASET     ENUM           16437135\n",
       "66 /3L/variants                  RefN H5I_DATASET     ENUM           16437135\n",
       "67 /3L/variants            RepeatDUST H5I_DATASET     ENUM           16437135\n",
       "68 /3L/variants          RepeatMasker H5I_DATASET     ENUM           16437135\n",
       "69 /3L/variants             RepeatTRF H5I_DATASET     ENUM           16437135\n",
       "70 /3L/variants                   STR H5I_DATASET     ENUM           16437135\n",
       "71 /3L/variants           VariantType H5I_DATASET   STRING           16437135\n",
       "72 /3L/variants                is_snp H5I_DATASET     ENUM           16437135\n",
       "73 /3L/variants           num_alleles H5I_DATASET  INTEGER           16437135\n",
       "74 /3L/variants                 svlen H5I_DATASET  INTEGER           16437135"
      ]
     },
     "execution_count": 27,
     "metadata": {},
     "output_type": "execute_result"
    }
   ],
   "source": [
    "h5ls(fn)"
   ]
  },
  {
   "cell_type": "code",
   "execution_count": 19,
   "metadata": {
    "collapsed": false
   },
   "outputs": [],
   "source": [
    "pos = h5read(fn,\"/3L/variants/POS\")"
   ]
  },
  {
   "cell_type": "code",
   "execution_count": 24,
   "metadata": {
    "collapsed": false
   },
   "outputs": [
    {
     "data": {
      "text/html": [
       "'array'"
      ],
      "text/latex": [
       "'array'"
      ],
      "text/markdown": [
       "'array'"
      ],
      "text/plain": [
       "[1] \"array\""
      ]
     },
     "execution_count": 24,
     "metadata": {},
     "output_type": "execute_result"
    }
   ],
   "source": [
    "class(pos)"
   ]
  },
  {
   "cell_type": "markdown",
   "metadata": {},
   "source": [
    "# Make a plot of variant density"
   ]
  },
  {
   "cell_type": "markdown",
   "metadata": {},
   "source": [
    "# Find variants fixed in GWA vs BFM"
   ]
  },
  {
   "cell_type": "markdown",
   "metadata": {},
   "source": [
    "# Plot hz in a KES sample vs CMS sample"
   ]
  },
  {
   "cell_type": "code",
   "execution_count": null,
   "metadata": {
    "collapsed": true
   },
   "outputs": [],
   "source": []
  }
 ],
 "metadata": {
  "kernelspec": {
   "display_name": "R",
   "language": "R",
   "name": "ir"
  },
  "language_info": {
   "codemirror_mode": "r",
   "file_extension": ".r",
   "mimetype": "text/x-r-source",
   "name": "R",
   "pygments_lexer": "r",
   "version": "3.2.2"
  }
 },
 "nbformat": 4,
 "nbformat_minor": 0
}

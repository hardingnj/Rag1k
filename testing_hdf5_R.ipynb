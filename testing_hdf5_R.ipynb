{
 "cells": [
  {
   "cell_type": "code",
   "execution_count": 1,
   "metadata": {
    "collapsed": true
   },
   "outputs": [],
   "source": [
    "library(h5)\n",
    "library(ggplot2)"
   ]
  },
  {
   "cell_type": "code",
   "execution_count": 10,
   "metadata": {
    "collapsed": false
   },
   "outputs": [
    {
     "data": {
      "text/plain": [
       "R version 3.2.2 (2015-08-14)\n",
       "Platform: x86_64-pc-linux-gnu (64-bit)\n",
       "Running under: Ubuntu 14.04.3 LTS\n",
       "\n",
       "locale:\n",
       " [1] LC_CTYPE=en_US.UTF-8       LC_NUMERIC=C              \n",
       " [3] LC_TIME=en_US.UTF-8        LC_COLLATE=en_US.UTF-8    \n",
       " [5] LC_MONETARY=en_US.UTF-8    LC_MESSAGES=en_US.UTF-8   \n",
       " [7] LC_PAPER=en_US.UTF-8       LC_NAME=C                 \n",
       " [9] LC_ADDRESS=C               LC_TELEPHONE=C            \n",
       "[11] LC_MEASUREMENT=en_US.UTF-8 LC_IDENTIFICATION=C       \n",
       "\n",
       "attached base packages:\n",
       "[1] stats     graphics  grDevices utils     datasets  methods   base     \n",
       "\n",
       "other attached packages:\n",
       "[1] ggplot2_1.0.1 h5_0.9.4     \n",
       "\n",
       "loaded via a namespace (and not attached):\n",
       " [1] Rcpp_0.12.1          digest_0.6.8         MASS_7.3-44         \n",
       " [4] IRdisplay_0.3.0.9000 plyr_1.8.3           repr_0.4            \n",
       " [7] grid_3.2.2           jsonlite_0.9.17      gtable_0.1.2        \n",
       "[10] magrittr_1.5         scales_0.3.0         evaluate_0.8        \n",
       "[13] stringi_0.5-5        reshape2_1.4.1       uuid_0.1-2          \n",
       "[16] IRkernel_0.4         proto_0.3-10         tools_3.2.2         \n",
       "[19] stringr_1.0.0        munsell_0.4.2        colorspace_1.2-6    \n",
       "[22] base64enc_0.1-3      rzmq_0.7.8          "
      ]
     },
     "execution_count": 10,
     "metadata": {},
     "output_type": "execute_result"
    }
   ],
   "source": [
    "sessionInfo()"
   ]
  },
  {
   "cell_type": "code",
   "execution_count": 2,
   "metadata": {
    "collapsed": true
   },
   "outputs": [],
   "source": [
    "filename = \"/home/test.h5\"\n",
    "fh = h5file(filename, \"r\")"
   ]
  },
  {
   "cell_type": "code",
   "execution_count": 3,
   "metadata": {
    "collapsed": false
   },
   "outputs": [
    {
     "data": {
      "text/plain": [
       "DataSet 'ascii' (11)\n",
       "type: character\n",
       "chunksize: NA\n",
       "maxdim: 11"
      ]
     },
     "execution_count": 3,
     "metadata": {},
     "output_type": "execute_result"
    }
   ],
   "source": [
    "ascii = fh[\"/test/ascii\"]\n",
    "ascii"
   ]
  },
  {
   "cell_type": "code",
   "execution_count": 4,
   "metadata": {
    "collapsed": false
   },
   "outputs": [
    {
     "data": {
      "text/html": [
       "<ol class=list-inline>\n",
       "\t<li>'mar231-21yha131d'</li>\n",
       "\t<li>'ha131d'</li>\n",
       "\t<li>'a'</li>\n",
       "\t<li>'litt321le'</li>\n",
       "\t<li>'lamb'</li>\n",
       "\t<li>'its'</li>\n",
       "\t<li>'Fleece'</li>\n",
       "\t<li>'As'</li>\n",
       "\t<li>'Wh31ite'</li>\n",
       "\t<li>'as'</li>\n",
       "\t<li>'snow'</li>\n",
       "</ol>\n"
      ],
      "text/latex": [
       "\\begin{enumerate*}\n",
       "\\item 'mar231-21yha131d'\n",
       "\\item 'ha131d'\n",
       "\\item 'a'\n",
       "\\item 'litt321le'\n",
       "\\item 'lamb'\n",
       "\\item 'its'\n",
       "\\item 'Fleece'\n",
       "\\item 'As'\n",
       "\\item 'Wh31ite'\n",
       "\\item 'as'\n",
       "\\item 'snow'\n",
       "\\end{enumerate*}\n"
      ],
      "text/markdown": [
       "1. 'mar231-21yha131d'\n",
       "2. 'ha131d'\n",
       "3. 'a'\n",
       "4. 'litt321le'\n",
       "5. 'lamb'\n",
       "6. 'its'\n",
       "7. 'Fleece'\n",
       "8. 'As'\n",
       "9. 'Wh31ite'\n",
       "10. 'as'\n",
       "11. 'snow'\n",
       "\n",
       "\n"
      ],
      "text/plain": [
       " [1] \"mar231-21yha131d\" \"ha131d\"           \"a\"                \"litt321le\"       \n",
       " [5] \"lamb\"             \"its\"              \"Fleece\"           \"As\"              \n",
       " [9] \"Wh31ite\"          \"as\"               \"snow\"            "
      ]
     },
     "execution_count": 4,
     "metadata": {},
     "output_type": "execute_result"
    }
   ],
   "source": [
    "ascii[1:11]"
   ]
  },
  {
   "cell_type": "code",
   "execution_count": 5,
   "metadata": {
    "collapsed": false
   },
   "outputs": [
    {
     "data": {
      "text/plain": [
       "DataSet 'randomalpha' (20)\n",
       "type: character\n",
       "chunksize: NA\n",
       "maxdim: 20"
      ]
     },
     "execution_count": 5,
     "metadata": {},
     "output_type": "execute_result"
    }
   ],
   "source": [
    "randstr = fh[\"/test/randomalpha\"]\n",
    "randstr"
   ]
  },
  {
   "cell_type": "code",
   "execution_count": 6,
   "metadata": {
    "collapsed": false
   },
   "outputs": [
    {
     "data": {
      "text/html": [
       "<ol class=list-inline>\n",
       "\t<li>'76S6PB87VY'</li>\n",
       "\t<li>'Z6EWZ5PCAN'</li>\n",
       "\t<li>'WX957PDR4H'</li>\n",
       "\t<li>'QV771BOXIS'</li>\n",
       "\t<li>'78ABPUNSNS'</li>\n",
       "\t<li>'8ZSD0WZ16L'</li>\n",
       "\t<li>'U2MV64ADW4'</li>\n",
       "\t<li>'1AU1K9ZRK0'</li>\n",
       "\t<li>'B9152ZU73F'</li>\n",
       "\t<li>'WFQJSBBN2K'</li>\n",
       "\t<li>'1G548NQUBO'</li>\n",
       "\t<li>'3DBGKK2DZQ'</li>\n",
       "\t<li>'TC0OMN3CA1'</li>\n",
       "\t<li>'WEAB9E69RO'</li>\n",
       "\t<li>'BYQF70JJOC'</li>\n",
       "\t<li>'SQI68ETPVX'</li>\n",
       "\t<li>'40825SM13B'</li>\n",
       "\t<li>'9DP0HJZNPP'</li>\n",
       "\t<li>'RGMJVT9W07'</li>\n",
       "\t<li>'B2R1QT5DHH'</li>\n",
       "</ol>\n"
      ],
      "text/latex": [
       "\\begin{enumerate*}\n",
       "\\item '76S6PB87VY'\n",
       "\\item 'Z6EWZ5PCAN'\n",
       "\\item 'WX957PDR4H'\n",
       "\\item 'QV771BOXIS'\n",
       "\\item '78ABPUNSNS'\n",
       "\\item '8ZSD0WZ16L'\n",
       "\\item 'U2MV64ADW4'\n",
       "\\item '1AU1K9ZRK0'\n",
       "\\item 'B9152ZU73F'\n",
       "\\item 'WFQJSBBN2K'\n",
       "\\item '1G548NQUBO'\n",
       "\\item '3DBGKK2DZQ'\n",
       "\\item 'TC0OMN3CA1'\n",
       "\\item 'WEAB9E69RO'\n",
       "\\item 'BYQF70JJOC'\n",
       "\\item 'SQI68ETPVX'\n",
       "\\item '40825SM13B'\n",
       "\\item '9DP0HJZNPP'\n",
       "\\item 'RGMJVT9W07'\n",
       "\\item 'B2R1QT5DHH'\n",
       "\\end{enumerate*}\n"
      ],
      "text/markdown": [
       "1. '76S6PB87VY'\n",
       "2. 'Z6EWZ5PCAN'\n",
       "3. 'WX957PDR4H'\n",
       "4. 'QV771BOXIS'\n",
       "5. '78ABPUNSNS'\n",
       "6. '8ZSD0WZ16L'\n",
       "7. 'U2MV64ADW4'\n",
       "8. '1AU1K9ZRK0'\n",
       "9. 'B9152ZU73F'\n",
       "10. 'WFQJSBBN2K'\n",
       "11. '1G548NQUBO'\n",
       "12. '3DBGKK2DZQ'\n",
       "13. 'TC0OMN3CA1'\n",
       "14. 'WEAB9E69RO'\n",
       "15. 'BYQF70JJOC'\n",
       "16. 'SQI68ETPVX'\n",
       "17. '40825SM13B'\n",
       "18. '9DP0HJZNPP'\n",
       "19. 'RGMJVT9W07'\n",
       "20. 'B2R1QT5DHH'\n",
       "\n",
       "\n"
      ],
      "text/plain": [
       " [1] \"76S6PB87VY\" \"Z6EWZ5PCAN\" \"WX957PDR4H\" \"QV771BOXIS\" \"78ABPUNSNS\"\n",
       " [6] \"8ZSD0WZ16L\" \"U2MV64ADW4\" \"1AU1K9ZRK0\" \"B9152ZU73F\" \"WFQJSBBN2K\"\n",
       "[11] \"1G548NQUBO\" \"3DBGKK2DZQ\" \"TC0OMN3CA1\" \"WEAB9E69RO\" \"BYQF70JJOC\"\n",
       "[16] \"SQI68ETPVX\" \"40825SM13B\" \"9DP0HJZNPP\" \"RGMJVT9W07\" \"B2R1QT5DHH\""
      ]
     },
     "execution_count": 6,
     "metadata": {},
     "output_type": "execute_result"
    }
   ],
   "source": [
    "randstr[]"
   ]
  },
  {
   "cell_type": "code",
   "execution_count": 7,
   "metadata": {
    "collapsed": false
   },
   "outputs": [
    {
     "data": {
      "text/plain": [
       "DataSet 'randomalphashort' (20)\n",
       "type: character\n",
       "chunksize: NA\n",
       "maxdim: 20"
      ]
     },
     "execution_count": 7,
     "metadata": {},
     "output_type": "execute_result"
    }
   ],
   "source": [
    "randstrshort = fh[\"/test/randomalphashort\"]\n",
    "randstrshort"
   ]
  },
  {
   "cell_type": "code",
   "execution_count": 8,
   "metadata": {
    "collapsed": false
   },
   "outputs": [
    {
     "data": {
      "text/html": [
       "<ol class=list-inline>\n",
       "\t<li>'76S6PB87VYZ6EWZ5PCANWX957PDR4HQV771BOXIS78ABPUNSNS8ZSD0WZ16LU2MV64ADW41AU1K9ZRK0B9152ZU73FWFQJSBBN2K1G548NQUBO3DBGKK2DZQTC0OMN3CA1WEAB9E69ROBYQF70JJOCSQI68ETPVX40825SM13B9DP0HJZNPPRGMJVT9W07B2R1QT5DHH'</li>\n",
       "\t<li>'Z6EWZ5PCANWX957PDR4HQV771BOXIS78ABPUNSNS8ZSD0WZ16LU2MV64ADW41AU1K9ZRK0B9152ZU73FWFQJSBBN2K1G548NQUBO3DBGKK2DZQTC0OMN3CA1WEAB9E69ROBYQF70JJOCSQI68ETPVX40825SM13B9DP0HJZNPPRGMJVT9W07B2R1QT5DHH'</li>\n",
       "\t<li>'WX957PDR4HQV771BOXIS78ABPUNSNS8ZSD0WZ16LU2MV64ADW41AU1K9ZRK0B9152ZU73FWFQJSBBN2K1G548NQUBO3DBGKK2DZQTC0OMN3CA1WEAB9E69ROBYQF70JJOCSQI68ETPVX40825SM13B9DP0HJZNPPRGMJVT9W07B2R1QT5DHH'</li>\n",
       "\t<li>'QV771BOXIS78ABPUNSNS8ZSD0WZ16LU2MV64ADW41AU1K9ZRK0B9152ZU73FWFQJSBBN2K1G548NQUBO3DBGKK2DZQTC0OMN3CA1WEAB9E69ROBYQF70JJOCSQI68ETPVX40825SM13B9DP0HJZNPPRGMJVT9W07B2R1QT5DHH'</li>\n",
       "\t<li>'78ABPUNSNS8ZSD0WZ16LU2MV64ADW41AU1K9ZRK0B9152ZU73FWFQJSBBN2K1G548NQUBO3DBGKK2DZQTC0OMN3CA1WEAB9E69ROBYQF70JJOCSQI68ETPVX40825SM13B9DP0HJZNPPRGMJVT9W07B2R1QT5DHH'</li>\n",
       "\t<li>'8ZSD0WZ16LU2MV64ADW41AU1K9ZRK0B9152ZU73FWFQJSBBN2K1G548NQUBO3DBGKK2DZQTC0OMN3CA1WEAB9E69ROBYQF70JJOCSQI68ETPVX40825SM13B9DP0HJZNPPRGMJVT9W07B2R1QT5DHH'</li>\n",
       "\t<li>'U2MV64ADW41AU1K9ZRK0B9152ZU73FWFQJSBBN2K1G548NQUBO3DBGKK2DZQTC0OMN3CA1WEAB9E69ROBYQF70JJOCSQI68ETPVX40825SM13B9DP0HJZNPPRGMJVT9W07B2R1QT5DHH'</li>\n",
       "\t<li>'1AU1K9ZRK0B9152ZU73FWFQJSBBN2K1G548NQUBO3DBGKK2DZQTC0OMN3CA1WEAB9E69ROBYQF70JJOCSQI68ETPVX40825SM13B9DP0HJZNPPRGMJVT9W07B2R1QT5DHH'</li>\n",
       "\t<li>'B9152ZU73FWFQJSBBN2K1G548NQUBO3DBGKK2DZQTC0OMN3CA1WEAB9E69ROBYQF70JJOCSQI68ETPVX40825SM13B9DP0HJZNPPRGMJVT9W07B2R1QT5DHH'</li>\n",
       "\t<li>'WFQJSBBN2K1G548NQUBO3DBGKK2DZQTC0OMN3CA1WEAB9E69ROBYQF70JJOCSQI68ETPVX40825SM13B9DP0HJZNPPRGMJVT9W07B2R1QT5DHH'</li>\n",
       "\t<li>'1G548NQUBO3DBGKK2DZQTC0OMN3CA1WEAB9E69ROBYQF70JJOCSQI68ETPVX40825SM13B9DP0HJZNPPRGMJVT9W07B2R1QT5DHH'</li>\n",
       "\t<li>'3DBGKK2DZQTC0OMN3CA1WEAB9E69ROBYQF70JJOCSQI68ETPVX40825SM13B9DP0HJZNPPRGMJVT9W07B2R1QT5DHH'</li>\n",
       "\t<li>'TC0OMN3CA1WEAB9E69ROBYQF70JJOCSQI68ETPVX40825SM13B9DP0HJZNPPRGMJVT9W07B2R1QT5DHH'</li>\n",
       "\t<li>'WEAB9E69ROBYQF70JJOCSQI68ETPVX40825SM13B9DP0HJZNPPRGMJVT9W07B2R1QT5DHH'</li>\n",
       "\t<li>'BYQF70JJOCSQI68ETPVX40825SM13B9DP0HJZNPPRGMJVT9W07B2R1QT5DHH'</li>\n",
       "\t<li>'SQI68ETPVX40825SM13B9DP0HJZNPPRGMJVT9W07B2R1QT5DHH'</li>\n",
       "\t<li>'40825SM13B9DP0HJZNPPRGMJVT9W07B2R1QT5DHH'</li>\n",
       "\t<li>'9DP0HJZNPPRGMJVT9W07B2R1QT5DHH'</li>\n",
       "\t<li>'RGMJVT9W07B2R1QT5DHH'</li>\n",
       "\t<li>'B2R1QT5DHH'</li>\n",
       "</ol>\n"
      ],
      "text/latex": [
       "\\begin{enumerate*}\n",
       "\\item '76S6PB87VYZ6EWZ5PCANWX957PDR4HQV771BOXIS78ABPUNSNS8ZSD0WZ16LU2MV64ADW41AU1K9ZRK0B9152ZU73FWFQJSBBN2K1G548NQUBO3DBGKK2DZQTC0OMN3CA1WEAB9E69ROBYQF70JJOCSQI68ETPVX40825SM13B9DP0HJZNPPRGMJVT9W07B2R1QT5DHH'\n",
       "\\item 'Z6EWZ5PCANWX957PDR4HQV771BOXIS78ABPUNSNS8ZSD0WZ16LU2MV64ADW41AU1K9ZRK0B9152ZU73FWFQJSBBN2K1G548NQUBO3DBGKK2DZQTC0OMN3CA1WEAB9E69ROBYQF70JJOCSQI68ETPVX40825SM13B9DP0HJZNPPRGMJVT9W07B2R1QT5DHH'\n",
       "\\item 'WX957PDR4HQV771BOXIS78ABPUNSNS8ZSD0WZ16LU2MV64ADW41AU1K9ZRK0B9152ZU73FWFQJSBBN2K1G548NQUBO3DBGKK2DZQTC0OMN3CA1WEAB9E69ROBYQF70JJOCSQI68ETPVX40825SM13B9DP0HJZNPPRGMJVT9W07B2R1QT5DHH'\n",
       "\\item 'QV771BOXIS78ABPUNSNS8ZSD0WZ16LU2MV64ADW41AU1K9ZRK0B9152ZU73FWFQJSBBN2K1G548NQUBO3DBGKK2DZQTC0OMN3CA1WEAB9E69ROBYQF70JJOCSQI68ETPVX40825SM13B9DP0HJZNPPRGMJVT9W07B2R1QT5DHH'\n",
       "\\item '78ABPUNSNS8ZSD0WZ16LU2MV64ADW41AU1K9ZRK0B9152ZU73FWFQJSBBN2K1G548NQUBO3DBGKK2DZQTC0OMN3CA1WEAB9E69ROBYQF70JJOCSQI68ETPVX40825SM13B9DP0HJZNPPRGMJVT9W07B2R1QT5DHH'\n",
       "\\item '8ZSD0WZ16LU2MV64ADW41AU1K9ZRK0B9152ZU73FWFQJSBBN2K1G548NQUBO3DBGKK2DZQTC0OMN3CA1WEAB9E69ROBYQF70JJOCSQI68ETPVX40825SM13B9DP0HJZNPPRGMJVT9W07B2R1QT5DHH'\n",
       "\\item 'U2MV64ADW41AU1K9ZRK0B9152ZU73FWFQJSBBN2K1G548NQUBO3DBGKK2DZQTC0OMN3CA1WEAB9E69ROBYQF70JJOCSQI68ETPVX40825SM13B9DP0HJZNPPRGMJVT9W07B2R1QT5DHH'\n",
       "\\item '1AU1K9ZRK0B9152ZU73FWFQJSBBN2K1G548NQUBO3DBGKK2DZQTC0OMN3CA1WEAB9E69ROBYQF70JJOCSQI68ETPVX40825SM13B9DP0HJZNPPRGMJVT9W07B2R1QT5DHH'\n",
       "\\item 'B9152ZU73FWFQJSBBN2K1G548NQUBO3DBGKK2DZQTC0OMN3CA1WEAB9E69ROBYQF70JJOCSQI68ETPVX40825SM13B9DP0HJZNPPRGMJVT9W07B2R1QT5DHH'\n",
       "\\item 'WFQJSBBN2K1G548NQUBO3DBGKK2DZQTC0OMN3CA1WEAB9E69ROBYQF70JJOCSQI68ETPVX40825SM13B9DP0HJZNPPRGMJVT9W07B2R1QT5DHH'\n",
       "\\item '1G548NQUBO3DBGKK2DZQTC0OMN3CA1WEAB9E69ROBYQF70JJOCSQI68ETPVX40825SM13B9DP0HJZNPPRGMJVT9W07B2R1QT5DHH'\n",
       "\\item '3DBGKK2DZQTC0OMN3CA1WEAB9E69ROBYQF70JJOCSQI68ETPVX40825SM13B9DP0HJZNPPRGMJVT9W07B2R1QT5DHH'\n",
       "\\item 'TC0OMN3CA1WEAB9E69ROBYQF70JJOCSQI68ETPVX40825SM13B9DP0HJZNPPRGMJVT9W07B2R1QT5DHH'\n",
       "\\item 'WEAB9E69ROBYQF70JJOCSQI68ETPVX40825SM13B9DP0HJZNPPRGMJVT9W07B2R1QT5DHH'\n",
       "\\item 'BYQF70JJOCSQI68ETPVX40825SM13B9DP0HJZNPPRGMJVT9W07B2R1QT5DHH'\n",
       "\\item 'SQI68ETPVX40825SM13B9DP0HJZNPPRGMJVT9W07B2R1QT5DHH'\n",
       "\\item '40825SM13B9DP0HJZNPPRGMJVT9W07B2R1QT5DHH'\n",
       "\\item '9DP0HJZNPPRGMJVT9W07B2R1QT5DHH'\n",
       "\\item 'RGMJVT9W07B2R1QT5DHH'\n",
       "\\item 'B2R1QT5DHH'\n",
       "\\end{enumerate*}\n"
      ],
      "text/markdown": [
       "1. '76S6PB87VYZ6EWZ5PCANWX957PDR4HQV771BOXIS78ABPUNSNS8ZSD0WZ16LU2MV64ADW41AU1K9ZRK0B9152ZU73FWFQJSBBN2K1G548NQUBO3DBGKK2DZQTC0OMN3CA1WEAB9E69ROBYQF70JJOCSQI68ETPVX40825SM13B9DP0HJZNPPRGMJVT9W07B2R1QT5DHH'\n",
       "2. 'Z6EWZ5PCANWX957PDR4HQV771BOXIS78ABPUNSNS8ZSD0WZ16LU2MV64ADW41AU1K9ZRK0B9152ZU73FWFQJSBBN2K1G548NQUBO3DBGKK2DZQTC0OMN3CA1WEAB9E69ROBYQF70JJOCSQI68ETPVX40825SM13B9DP0HJZNPPRGMJVT9W07B2R1QT5DHH'\n",
       "3. 'WX957PDR4HQV771BOXIS78ABPUNSNS8ZSD0WZ16LU2MV64ADW41AU1K9ZRK0B9152ZU73FWFQJSBBN2K1G548NQUBO3DBGKK2DZQTC0OMN3CA1WEAB9E69ROBYQF70JJOCSQI68ETPVX40825SM13B9DP0HJZNPPRGMJVT9W07B2R1QT5DHH'\n",
       "4. 'QV771BOXIS78ABPUNSNS8ZSD0WZ16LU2MV64ADW41AU1K9ZRK0B9152ZU73FWFQJSBBN2K1G548NQUBO3DBGKK2DZQTC0OMN3CA1WEAB9E69ROBYQF70JJOCSQI68ETPVX40825SM13B9DP0HJZNPPRGMJVT9W07B2R1QT5DHH'\n",
       "5. '78ABPUNSNS8ZSD0WZ16LU2MV64ADW41AU1K9ZRK0B9152ZU73FWFQJSBBN2K1G548NQUBO3DBGKK2DZQTC0OMN3CA1WEAB9E69ROBYQF70JJOCSQI68ETPVX40825SM13B9DP0HJZNPPRGMJVT9W07B2R1QT5DHH'\n",
       "6. '8ZSD0WZ16LU2MV64ADW41AU1K9ZRK0B9152ZU73FWFQJSBBN2K1G548NQUBO3DBGKK2DZQTC0OMN3CA1WEAB9E69ROBYQF70JJOCSQI68ETPVX40825SM13B9DP0HJZNPPRGMJVT9W07B2R1QT5DHH'\n",
       "7. 'U2MV64ADW41AU1K9ZRK0B9152ZU73FWFQJSBBN2K1G548NQUBO3DBGKK2DZQTC0OMN3CA1WEAB9E69ROBYQF70JJOCSQI68ETPVX40825SM13B9DP0HJZNPPRGMJVT9W07B2R1QT5DHH'\n",
       "8. '1AU1K9ZRK0B9152ZU73FWFQJSBBN2K1G548NQUBO3DBGKK2DZQTC0OMN3CA1WEAB9E69ROBYQF70JJOCSQI68ETPVX40825SM13B9DP0HJZNPPRGMJVT9W07B2R1QT5DHH'\n",
       "9. 'B9152ZU73FWFQJSBBN2K1G548NQUBO3DBGKK2DZQTC0OMN3CA1WEAB9E69ROBYQF70JJOCSQI68ETPVX40825SM13B9DP0HJZNPPRGMJVT9W07B2R1QT5DHH'\n",
       "10. 'WFQJSBBN2K1G548NQUBO3DBGKK2DZQTC0OMN3CA1WEAB9E69ROBYQF70JJOCSQI68ETPVX40825SM13B9DP0HJZNPPRGMJVT9W07B2R1QT5DHH'\n",
       "11. '1G548NQUBO3DBGKK2DZQTC0OMN3CA1WEAB9E69ROBYQF70JJOCSQI68ETPVX40825SM13B9DP0HJZNPPRGMJVT9W07B2R1QT5DHH'\n",
       "12. '3DBGKK2DZQTC0OMN3CA1WEAB9E69ROBYQF70JJOCSQI68ETPVX40825SM13B9DP0HJZNPPRGMJVT9W07B2R1QT5DHH'\n",
       "13. 'TC0OMN3CA1WEAB9E69ROBYQF70JJOCSQI68ETPVX40825SM13B9DP0HJZNPPRGMJVT9W07B2R1QT5DHH'\n",
       "14. 'WEAB9E69ROBYQF70JJOCSQI68ETPVX40825SM13B9DP0HJZNPPRGMJVT9W07B2R1QT5DHH'\n",
       "15. 'BYQF70JJOCSQI68ETPVX40825SM13B9DP0HJZNPPRGMJVT9W07B2R1QT5DHH'\n",
       "16. 'SQI68ETPVX40825SM13B9DP0HJZNPPRGMJVT9W07B2R1QT5DHH'\n",
       "17. '40825SM13B9DP0HJZNPPRGMJVT9W07B2R1QT5DHH'\n",
       "18. '9DP0HJZNPPRGMJVT9W07B2R1QT5DHH'\n",
       "19. 'RGMJVT9W07B2R1QT5DHH'\n",
       "20. 'B2R1QT5DHH'\n",
       "\n",
       "\n"
      ],
      "text/plain": [
       " [1] \"76S6PB87VYZ6EWZ5PCANWX957PDR4HQV771BOXIS78ABPUNSNS8ZSD0WZ16LU2MV64ADW41AU1K9ZRK0B9152ZU73FWFQJSBBN2K1G548NQUBO3DBGKK2DZQTC0OMN3CA1WEAB9E69ROBYQF70JJOCSQI68ETPVX40825SM13B9DP0HJZNPPRGMJVT9W07B2R1QT5DHH\"\n",
       " [2] \"Z6EWZ5PCANWX957PDR4HQV771BOXIS78ABPUNSNS8ZSD0WZ16LU2MV64ADW41AU1K9ZRK0B9152ZU73FWFQJSBBN2K1G548NQUBO3DBGKK2DZQTC0OMN3CA1WEAB9E69ROBYQF70JJOCSQI68ETPVX40825SM13B9DP0HJZNPPRGMJVT9W07B2R1QT5DHH\"          \n",
       " [3] \"WX957PDR4HQV771BOXIS78ABPUNSNS8ZSD0WZ16LU2MV64ADW41AU1K9ZRK0B9152ZU73FWFQJSBBN2K1G548NQUBO3DBGKK2DZQTC0OMN3CA1WEAB9E69ROBYQF70JJOCSQI68ETPVX40825SM13B9DP0HJZNPPRGMJVT9W07B2R1QT5DHH\"                    \n",
       " [4] \"QV771BOXIS78ABPUNSNS8ZSD0WZ16LU2MV64ADW41AU1K9ZRK0B9152ZU73FWFQJSBBN2K1G548NQUBO3DBGKK2DZQTC0OMN3CA1WEAB9E69ROBYQF70JJOCSQI68ETPVX40825SM13B9DP0HJZNPPRGMJVT9W07B2R1QT5DHH\"                              \n",
       " [5] \"78ABPUNSNS8ZSD0WZ16LU2MV64ADW41AU1K9ZRK0B9152ZU73FWFQJSBBN2K1G548NQUBO3DBGKK2DZQTC0OMN3CA1WEAB9E69ROBYQF70JJOCSQI68ETPVX40825SM13B9DP0HJZNPPRGMJVT9W07B2R1QT5DHH\"                                        \n",
       " [6] \"8ZSD0WZ16LU2MV64ADW41AU1K9ZRK0B9152ZU73FWFQJSBBN2K1G548NQUBO3DBGKK2DZQTC0OMN3CA1WEAB9E69ROBYQF70JJOCSQI68ETPVX40825SM13B9DP0HJZNPPRGMJVT9W07B2R1QT5DHH\"                                                  \n",
       " [7] \"U2MV64ADW41AU1K9ZRK0B9152ZU73FWFQJSBBN2K1G548NQUBO3DBGKK2DZQTC0OMN3CA1WEAB9E69ROBYQF70JJOCSQI68ETPVX40825SM13B9DP0HJZNPPRGMJVT9W07B2R1QT5DHH\"                                                            \n",
       " [8] \"1AU1K9ZRK0B9152ZU73FWFQJSBBN2K1G548NQUBO3DBGKK2DZQTC0OMN3CA1WEAB9E69ROBYQF70JJOCSQI68ETPVX40825SM13B9DP0HJZNPPRGMJVT9W07B2R1QT5DHH\"                                                                      \n",
       " [9] \"B9152ZU73FWFQJSBBN2K1G548NQUBO3DBGKK2DZQTC0OMN3CA1WEAB9E69ROBYQF70JJOCSQI68ETPVX40825SM13B9DP0HJZNPPRGMJVT9W07B2R1QT5DHH\"                                                                                \n",
       "[10] \"WFQJSBBN2K1G548NQUBO3DBGKK2DZQTC0OMN3CA1WEAB9E69ROBYQF70JJOCSQI68ETPVX40825SM13B9DP0HJZNPPRGMJVT9W07B2R1QT5DHH\"                                                                                          \n",
       "[11] \"1G548NQUBO3DBGKK2DZQTC0OMN3CA1WEAB9E69ROBYQF70JJOCSQI68ETPVX40825SM13B9DP0HJZNPPRGMJVT9W07B2R1QT5DHH\"                                                                                                    \n",
       "[12] \"3DBGKK2DZQTC0OMN3CA1WEAB9E69ROBYQF70JJOCSQI68ETPVX40825SM13B9DP0HJZNPPRGMJVT9W07B2R1QT5DHH\"                                                                                                              \n",
       "[13] \"TC0OMN3CA1WEAB9E69ROBYQF70JJOCSQI68ETPVX40825SM13B9DP0HJZNPPRGMJVT9W07B2R1QT5DHH\"                                                                                                                        \n",
       "[14] \"WEAB9E69ROBYQF70JJOCSQI68ETPVX40825SM13B9DP0HJZNPPRGMJVT9W07B2R1QT5DHH\"                                                                                                                                  \n",
       "[15] \"BYQF70JJOCSQI68ETPVX40825SM13B9DP0HJZNPPRGMJVT9W07B2R1QT5DHH\"                                                                                                                                            \n",
       "[16] \"SQI68ETPVX40825SM13B9DP0HJZNPPRGMJVT9W07B2R1QT5DHH\"                                                                                                                                                      \n",
       "[17] \"40825SM13B9DP0HJZNPPRGMJVT9W07B2R1QT5DHH\"                                                                                                                                                                \n",
       "[18] \"9DP0HJZNPPRGMJVT9W07B2R1QT5DHH\"                                                                                                                                                                          \n",
       "[19] \"RGMJVT9W07B2R1QT5DHH\"                                                                                                                                                                                    \n",
       "[20] \"B2R1QT5DHH\"                                                                                                                                                                                              "
      ]
     },
     "execution_count": 8,
     "metadata": {},
     "output_type": "execute_result"
    }
   ],
   "source": [
    "randstrshort[]"
   ]
  }
 ],
 "metadata": {
  "kernelspec": {
   "display_name": "R",
   "language": "R",
   "name": "ir"
  },
  "language_info": {
   "codemirror_mode": "r",
   "file_extension": ".r",
   "mimetype": "text/x-r-source",
   "name": "R",
   "pygments_lexer": "r",
   "version": "3.2.2"
  }
 },
 "nbformat": 4,
 "nbformat_minor": 0
}

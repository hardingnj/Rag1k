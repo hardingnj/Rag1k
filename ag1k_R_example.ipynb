{
 "cells": [
  {
   "cell_type": "markdown",
   "metadata": {},
   "source": [
    "# Worked examples with Ag 1000 Genomes data\n",
    "\n",
    "### Preamble"
   ]
  },
  {
   "cell_type": "code",
   "execution_count": 1,
   "metadata": {
    "collapsed": true
   },
   "outputs": [],
   "source": [
    "library(h5)\n",
    "library(ggplot2)"
   ]
  },
  {
   "cell_type": "code",
   "execution_count": 2,
   "metadata": {
    "collapsed": false
   },
   "outputs": [
    {
     "data": {
      "text/plain": [
       "R version 3.2.2 (2015-08-14)\n",
       "Platform: x86_64-pc-linux-gnu (64-bit)\n",
       "Running under: Ubuntu 14.04.3 LTS\n",
       "\n",
       "locale:\n",
       " [1] LC_CTYPE=en_US.UTF-8       LC_NUMERIC=C              \n",
       " [3] LC_TIME=en_US.UTF-8        LC_COLLATE=en_US.UTF-8    \n",
       " [5] LC_MONETARY=en_US.UTF-8    LC_MESSAGES=en_US.UTF-8   \n",
       " [7] LC_PAPER=en_US.UTF-8       LC_NAME=C                 \n",
       " [9] LC_ADDRESS=C               LC_TELEPHONE=C            \n",
       "[11] LC_MEASUREMENT=en_US.UTF-8 LC_IDENTIFICATION=C       \n",
       "\n",
       "attached base packages:\n",
       "[1] stats     graphics  grDevices utils     datasets  methods   base     \n",
       "\n",
       "other attached packages:\n",
       "[1] ggplot2_1.0.1 h5_0.9.6     \n",
       "\n",
       "loaded via a namespace (and not attached):\n",
       " [1] Rcpp_0.12.4          digest_0.6.8         MASS_7.3-44         \n",
       " [4] IRdisplay_0.3.0.9000 plyr_1.8.3           repr_0.4            \n",
       " [7] grid_3.2.2           jsonlite_0.9.17      gtable_0.1.2        \n",
       "[10] magrittr_1.5         scales_0.3.0         evaluate_0.8        \n",
       "[13] stringi_0.5-5        reshape2_1.4.1       uuid_0.1-2          \n",
       "[16] IRkernel_0.4         proto_0.3-10         tools_3.2.2         \n",
       "[19] stringr_1.0.0        munsell_0.4.2        colorspace_1.2-6    \n",
       "[22] base64enc_0.1-3      rzmq_0.7.8          "
      ]
     },
     "execution_count": 2,
     "metadata": {},
     "output_type": "execute_result"
    }
   ],
   "source": [
    "sessionInfo()"
   ]
  },
  {
   "cell_type": "markdown",
   "metadata": {},
   "source": [
    "## Specify filename"
   ]
  },
  {
   "cell_type": "code",
   "execution_count": 3,
   "metadata": {
    "collapsed": false
   },
   "outputs": [],
   "source": [
    "fn <- \"/home/ag1000g.phase1.ar3.pass.3L.h5\""
   ]
  },
  {
   "cell_type": "code",
   "execution_count": 4,
   "metadata": {
    "collapsed": true
   },
   "outputs": [],
   "source": [
    "# create the filehandle to access the data\n",
    "fh <- h5file(fn, \"r\")"
   ]
  },
  {
   "cell_type": "code",
   "execution_count": null,
   "metadata": {
    "collapsed": true
   },
   "outputs": [],
   "source": [
    "list.datasets(fh)"
   ]
  },
  {
   "cell_type": "code",
   "execution_count": 5,
   "metadata": {
    "collapsed": false
   },
   "outputs": [
    {
     "data": {
      "text/plain": [
       "DataSet 'samples' (765)\n",
       "type: character\n",
       "chunksize: NA\n",
       "maxdim: 765"
      ]
     },
     "execution_count": 5,
     "metadata": {},
     "output_type": "execute_result"
    }
   ],
   "source": [
    "samples <- fh[\"/3L/samples\"]\n",
    "samples"
   ]
  },
  {
   "cell_type": "code",
   "execution_count": 6,
   "metadata": {
    "collapsed": false
   },
   "outputs": [
    {
     "data": {
      "text/html": [
       "<ol class=list-inline>\n",
       "\t<li>'AB0085-C'</li>\n",
       "\t<li>'AB0087-C'</li>\n",
       "\t<li>'AB0088-C'</li>\n",
       "\t<li>'AB0089-C'</li>\n",
       "\t<li>'AB0090-C'</li>\n",
       "\t<li>'AB0091-C'</li>\n",
       "\t<li>'AB0092-C'</li>\n",
       "\t<li>'AB0094-C'</li>\n",
       "\t<li>'AB0095-C'</li>\n",
       "\t<li>'AB0097-C'</li>\n",
       "\t<li>'AB0098-C'</li>\n",
       "\t<li>'AB0099-C'</li>\n",
       "\t<li>'AB0100-C'</li>\n",
       "\t<li>'AB0101-C'</li>\n",
       "\t<li>'AB0103-C'</li>\n",
       "\t<li>'AB0104-C'</li>\n",
       "\t<li>'AB0109-C'</li>\n",
       "\t<li>'AB0110-C'</li>\n",
       "\t<li>'AB0111-C'</li>\n",
       "\t<li>'AB0112-C'</li>\n",
       "</ol>\n"
      ],
      "text/latex": [
       "\\begin{enumerate*}\n",
       "\\item 'AB0085-C'\n",
       "\\item 'AB0087-C'\n",
       "\\item 'AB0088-C'\n",
       "\\item 'AB0089-C'\n",
       "\\item 'AB0090-C'\n",
       "\\item 'AB0091-C'\n",
       "\\item 'AB0092-C'\n",
       "\\item 'AB0094-C'\n",
       "\\item 'AB0095-C'\n",
       "\\item 'AB0097-C'\n",
       "\\item 'AB0098-C'\n",
       "\\item 'AB0099-C'\n",
       "\\item 'AB0100-C'\n",
       "\\item 'AB0101-C'\n",
       "\\item 'AB0103-C'\n",
       "\\item 'AB0104-C'\n",
       "\\item 'AB0109-C'\n",
       "\\item 'AB0110-C'\n",
       "\\item 'AB0111-C'\n",
       "\\item 'AB0112-C'\n",
       "\\end{enumerate*}\n"
      ],
      "text/markdown": [
       "1. 'AB0085-C'\n",
       "2. 'AB0087-C'\n",
       "3. 'AB0088-C'\n",
       "4. 'AB0089-C'\n",
       "5. 'AB0090-C'\n",
       "6. 'AB0091-C'\n",
       "7. 'AB0092-C'\n",
       "8. 'AB0094-C'\n",
       "9. 'AB0095-C'\n",
       "10. 'AB0097-C'\n",
       "11. 'AB0098-C'\n",
       "12. 'AB0099-C'\n",
       "13. 'AB0100-C'\n",
       "14. 'AB0101-C'\n",
       "15. 'AB0103-C'\n",
       "16. 'AB0104-C'\n",
       "17. 'AB0109-C'\n",
       "18. 'AB0110-C'\n",
       "19. 'AB0111-C'\n",
       "20. 'AB0112-C'\n",
       "\n",
       "\n"
      ],
      "text/plain": [
       " [1] \"AB0085-C\" \"AB0087-C\" \"AB0088-C\" \"AB0089-C\" \"AB0090-C\" \"AB0091-C\"\n",
       " [7] \"AB0092-C\" \"AB0094-C\" \"AB0095-C\" \"AB0097-C\" \"AB0098-C\" \"AB0099-C\"\n",
       "[13] \"AB0100-C\" \"AB0101-C\" \"AB0103-C\" \"AB0104-C\" \"AB0109-C\" \"AB0110-C\"\n",
       "[19] \"AB0111-C\" \"AB0112-C\""
      ]
     },
     "execution_count": 6,
     "metadata": {},
     "output_type": "execute_result"
    }
   ],
   "source": [
    "samples[1:20]"
   ]
  },
  {
   "cell_type": "code",
   "execution_count": 7,
   "metadata": {
    "collapsed": false
   },
   "outputs": [
    {
     "data": {
      "text/plain": [
       "DataSet 'POS' (9.6432e+06)\n",
       "type: integer\n",
       "chunksize: 32768\n",
       "maxdim: UNLIMITED\n",
       "compression: H5Z_FILTER_DEFLATE"
      ]
     },
     "execution_count": 7,
     "metadata": {},
     "output_type": "execute_result"
    }
   ],
   "source": [
    "fh[\"/3L/variants/POS\"]"
   ]
  },
  {
   "cell_type": "code",
   "execution_count": 12,
   "metadata": {
    "collapsed": false
   },
   "outputs": [],
   "source": [
    "## Function to apply a function f, to values based on windows of positions\n",
    "# NOTE: The final incomplete window is not included\n",
    "windowed_analysis <- function(positions, values, f, win_size=100000, ...){\n",
    "\n",
    "    windows <- seq(0, positions[attr(positions, \"dim\")], by=100000)\n",
    "    ix = findInterval(windows, positions[], all.inside=TRUE)\n",
    "    x = rep(NA, length(windows) - 1)\n",
    "\n",
    "    for (i in 1:(length(ix)-1)){\n",
    "        start = ix[i]\n",
    "        stop  = ix[i + 1]\n",
    "\n",
    "        v = values[start:stop]\n",
    "        x[i] = f(v, ...)\n",
    "    }\n",
    "    return(list(\"values\"=x, \"windows\"=windows))\n",
    "}"
   ]
  },
  {
   "cell_type": "code",
   "execution_count": 13,
   "metadata": {
    "collapsed": false
   },
   "outputs": [],
   "source": [
    "get_midpoint <- function(windows){\n",
    "    \n",
    "    x = rep(NA, length(windows) - 1)\n",
    "    \n",
    "    for (i in 1:length(x)){\n",
    "        x[i] = mean(c(windows[i], windows[i+1]))\n",
    "    }\n",
    "    return(x)\n",
    "}"
   ]
  },
  {
   "cell_type": "markdown",
   "metadata": {},
   "source": [
    "## Plot mean mq0 in windows across the genome"
   ]
  },
  {
   "cell_type": "code",
   "execution_count": 14,
   "metadata": {
    "collapsed": false
   },
   "outputs": [],
   "source": [
    "mq0_variants <- windowed_analysis(fh[\"/3L/variants/POS\"], \n",
    "                                  fh[\"/3L/variants/CoverageMQ0\"], \n",
    "                                  mean)"
   ]
  },
  {
   "cell_type": "code",
   "execution_count": 15,
   "metadata": {
    "collapsed": false
   },
   "outputs": [
    {
     "data": {
      "image/png": "[encoded data removed]",
      "image/svg+xml": [
       "<?xml version=\"1.0\" encoding=\"UTF-8\"?>\n",
       "<svg xmlns=\"http://www.w3.org/2000/svg\" xmlns:xlink=\"http://www.w3.org/1999/xlink\" width=\"504pt\" height=\"504pt\" viewBox=\"0 0 504 504\" version=\"1.1\">\n",
       "<defs>\n",
       "<g>\n",
       "<symbol overflow=\"visible\" id=\"glyph0-0\">\n",
       "<path style=\"stroke:none;\" d=\"\"/>\n",
       "</symbol>\n",
       "<symbol overflow=\"visible\" id=\"glyph0-1\">\n",
       "<path style=\"stroke:none;\" d=\"M 4.5625 -6.796875 L 1.0625 -6.796875 L 0.546875 -3.09375 L 1.328125 -3.09375 C 1.71875 -3.5625 2.046875 -3.734375 2.578125 -3.734375 C 3.484375 -3.734375 4.0625 -3.109375 4.0625 -2.09375 C 4.0625 -1.125 3.484375 -0.53125 2.578125 -0.53125 C 1.828125 -0.53125 1.375 -0.90625 1.1875 -1.671875 L 0.328125 -1.671875 C 0.453125 -1.109375 0.546875 -0.84375 0.75 -0.59375 C 1.125 -0.078125 1.828125 0.21875 2.59375 0.21875 C 3.96875 0.21875 4.921875 -0.78125 4.921875 -2.21875 C 4.921875 -3.5625 4.03125 -4.484375 2.71875 -4.484375 C 2.25 -4.484375 1.859375 -4.359375 1.46875 -4.0625 L 1.734375 -5.96875 L 4.5625 -5.96875 Z M 4.5625 -6.796875 \"/>\n",
       "</symbol>\n",
       "<symbol overflow=\"visible\" id=\"glyph0-2\">\n",
       "<path style=\"stroke:none;\" d=\"M 2.484375 -4.84375 L 2.484375 0 L 3.328125 0 L 3.328125 -6.796875 L 2.765625 -6.796875 C 2.46875 -5.75 2.28125 -5.609375 0.984375 -5.453125 L 0.984375 -4.84375 Z M 2.484375 -4.84375 \"/>\n",
       "</symbol>\n",
       "<symbol overflow=\"visible\" id=\"glyph0-3\">\n",
       "<path style=\"stroke:none;\" d=\"M 2.640625 -6.796875 C 2 -6.796875 1.421875 -6.53125 1.078125 -6.046875 C 0.640625 -5.453125 0.40625 -4.546875 0.40625 -3.296875 C 0.40625 -1 1.1875 0.21875 2.640625 0.21875 C 4.078125 0.21875 4.859375 -1 4.859375 -3.234375 C 4.859375 -4.5625 4.65625 -5.4375 4.203125 -6.046875 C 3.84375 -6.53125 3.28125 -6.796875 2.640625 -6.796875 Z M 2.640625 -6.046875 C 3.546875 -6.046875 4 -5.125 4 -3.3125 C 4 -1.375 3.5625 -0.484375 2.625 -0.484375 C 1.734375 -0.484375 1.28125 -1.421875 1.28125 -3.28125 C 1.28125 -5.140625 1.734375 -6.046875 2.640625 -6.046875 Z M 2.640625 -6.046875 \"/>\n",
       "</symbol>\n",
       "<symbol overflow=\"visible\" id=\"glyph0-4\">\n",
       "<path style=\"stroke:none;\" d=\"M 4.859375 -0.828125 L 1.28125 -0.828125 C 1.359375 -1.390625 1.671875 -1.75 2.5 -2.234375 L 3.46875 -2.75 C 4.40625 -3.265625 4.90625 -3.96875 4.90625 -4.8125 C 4.90625 -5.375 4.671875 -5.90625 4.265625 -6.265625 C 3.859375 -6.625 3.375 -6.796875 2.71875 -6.796875 C 1.859375 -6.796875 1.21875 -6.5 0.84375 -5.921875 C 0.609375 -5.5625 0.5 -5.125 0.484375 -4.4375 L 1.328125 -4.4375 C 1.359375 -4.90625 1.40625 -5.1875 1.53125 -5.40625 C 1.75 -5.8125 2.1875 -6.0625 2.703125 -6.0625 C 3.46875 -6.0625 4.03125 -5.515625 4.03125 -4.78125 C 4.03125 -4.25 3.71875 -3.796875 3.125 -3.4375 L 2.234375 -2.9375 C 0.8125 -2.140625 0.40625 -1.5 0.328125 0 L 4.859375 0 Z M 4.859375 -0.828125 \"/>\n",
       "</symbol>\n",
       "<symbol overflow=\"visible\" id=\"glyph0-5\">\n",
       "<path style=\"stroke:none;\" d=\"M 4.921875 -2.25 C 4.921875 -3.015625 4.859375 -3.46875 4.71875 -3.84375 C 4.390625 -4.671875 3.625 -5.171875 2.6875 -5.171875 C 1.28125 -5.171875 0.390625 -4.09375 0.390625 -2.453125 C 0.390625 -0.796875 1.25 0.21875 2.671875 0.21875 C 3.8125 0.21875 4.609375 -0.4375 4.8125 -1.53125 L 4.015625 -1.53125 C 3.796875 -0.859375 3.34375 -0.515625 2.703125 -0.515625 C 2.1875 -0.515625 1.75 -0.75 1.484375 -1.171875 C 1.296875 -1.453125 1.234375 -1.75 1.21875 -2.25 Z M 1.234375 -2.890625 C 1.3125 -3.828125 1.875 -4.4375 2.671875 -4.4375 C 3.46875 -4.4375 4.0625 -3.78125 4.0625 -2.953125 C 4.0625 -2.9375 4.0625 -2.921875 4.0625 -2.890625 Z M 1.234375 -2.890625 \"/>\n",
       "</symbol>\n",
       "<symbol overflow=\"visible\" id=\"glyph0-6\">\n",
       "<path style=\"stroke:none;\" d=\"M 5.125 -2.5625 L 3.140625 -2.5625 L 3.140625 -4.546875 L 2.46875 -4.546875 L 2.46875 -2.5625 L 0.484375 -2.5625 L 0.484375 -1.890625 L 2.46875 -1.890625 L 2.46875 0.09375 L 3.140625 0.09375 L 3.140625 -1.890625 L 5.125 -1.890625 Z M 5.125 -2.5625 \"/>\n",
       "</symbol>\n",
       "<symbol overflow=\"visible\" id=\"glyph0-7\">\n",
       "<path style=\"stroke:none;\" d=\"M 4.984375 -6.796875 L 0.4375 -6.796875 L 0.4375 -5.96875 L 4.109375 -5.96875 C 2.5 -3.65625 1.828125 -2.234375 1.328125 0 L 2.21875 0 C 2.59375 -2.171875 3.453125 -4.046875 4.984375 -6.09375 Z M 4.984375 -6.796875 \"/>\n",
       "</symbol>\n",
       "<symbol overflow=\"visible\" id=\"glyph0-8\">\n",
       "<path style=\"stroke:none;\" d=\"M 2.125 -3.125 L 2.578125 -3.125 C 3.515625 -3.125 3.984375 -2.703125 3.984375 -1.890625 C 3.984375 -1.03125 3.46875 -0.53125 2.578125 -0.53125 C 1.65625 -0.53125 1.203125 -0.984375 1.15625 -1.96875 L 0.3125 -1.96875 C 0.34375 -1.421875 0.4375 -1.078125 0.609375 -0.765625 C 0.953125 -0.109375 1.625 0.21875 2.546875 0.21875 C 3.953125 0.21875 4.859375 -0.609375 4.859375 -1.90625 C 4.859375 -2.765625 4.515625 -3.25 3.703125 -3.515625 C 4.34375 -3.765625 4.65625 -4.25 4.65625 -4.9375 C 4.65625 -6.109375 3.875 -6.796875 2.578125 -6.796875 C 1.203125 -6.796875 0.484375 -6.046875 0.453125 -4.609375 L 1.296875 -4.609375 C 1.3125 -5.015625 1.34375 -5.25 1.453125 -5.453125 C 1.640625 -5.828125 2.0625 -6.0625 2.59375 -6.0625 C 3.34375 -6.0625 3.796875 -5.625 3.796875 -4.90625 C 3.796875 -4.421875 3.609375 -4.140625 3.25 -3.984375 C 3.015625 -3.890625 2.71875 -3.84375 2.125 -3.84375 Z M 2.125 -3.125 \"/>\n",
       "</symbol>\n",
       "<symbol overflow=\"visible\" id=\"glyph0-9\">\n",
       "<path style=\"stroke:none;\" d=\"M 3.140625 -1.625 L 3.140625 0 L 3.984375 0 L 3.984375 -1.625 L 4.984375 -1.625 L 4.984375 -2.390625 L 3.984375 -2.390625 L 3.984375 -6.796875 L 3.359375 -6.796875 L 0.265625 -2.515625 L 0.265625 -1.625 Z M 3.140625 -2.390625 L 1 -2.390625 L 3.140625 -5.359375 Z M 3.140625 -2.390625 \"/>\n",
       "</symbol>\n",
       "<symbol overflow=\"visible\" id=\"glyph1-0\">\n",
       "<path style=\"stroke:none;\" d=\"\"/>\n",
       "</symbol>\n",
       "<symbol overflow=\"visible\" id=\"glyph1-1\">\n",
       "<path style=\"stroke:none;\" d=\"M 0.640625 2.609375 L 1.65625 2.609375 L 1.65625 -0.65625 C 2.1875 -0.015625 2.765625 0.28125 3.59375 0.28125 C 5.203125 0.28125 6.28125 -1.03125 6.28125 -3.03125 C 6.28125 -5.140625 5.25 -6.46875 3.578125 -6.46875 C 2.71875 -6.46875 2.046875 -6.078125 1.578125 -5.34375 L 1.578125 -6.28125 L 0.640625 -6.28125 Z M 3.40625 -5.53125 C 4.515625 -5.53125 5.234375 -4.5625 5.234375 -3.0625 C 5.234375 -1.625 4.5 -0.65625 3.40625 -0.65625 C 2.359375 -0.65625 1.65625 -1.625 1.65625 -3.09375 C 1.65625 -4.578125 2.359375 -5.53125 3.40625 -5.53125 Z M 3.40625 -5.53125 \"/>\n",
       "</symbol>\n",
       "<symbol overflow=\"visible\" id=\"glyph1-2\">\n",
       "<path style=\"stroke:none;\" d=\"M 3.265625 -6.46875 C 1.5 -6.46875 0.4375 -5.203125 0.4375 -3.09375 C 0.4375 -0.984375 1.484375 0.28125 3.28125 0.28125 C 5.046875 0.28125 6.125 -0.984375 6.125 -3.046875 C 6.125 -5.21875 5.078125 -6.46875 3.265625 -6.46875 Z M 3.28125 -5.546875 C 4.40625 -5.546875 5.078125 -4.625 5.078125 -3.0625 C 5.078125 -1.578125 4.375 -0.640625 3.28125 -0.640625 C 2.15625 -0.640625 1.46875 -1.578125 1.46875 -3.09375 C 1.46875 -4.609375 2.15625 -5.546875 3.28125 -5.546875 Z M 3.28125 -5.546875 \"/>\n",
       "</symbol>\n",
       "<symbol overflow=\"visible\" id=\"glyph1-3\">\n",
       "<path style=\"stroke:none;\" d=\"M 5.25 -4.53125 C 5.25 -5.765625 4.421875 -6.46875 2.96875 -6.46875 C 1.515625 -6.46875 0.5625 -5.71875 0.5625 -4.546875 C 0.5625 -3.5625 1.0625 -3.09375 2.5625 -2.734375 L 3.484375 -2.515625 C 4.1875 -2.34375 4.46875 -2.09375 4.46875 -1.625 C 4.46875 -1.046875 3.875 -0.640625 3 -0.640625 C 2.453125 -0.640625 2 -0.796875 1.75 -1.0625 C 1.59375 -1.25 1.53125 -1.421875 1.46875 -1.875 L 0.40625 -1.875 C 0.453125 -0.421875 1.265625 0.28125 2.921875 0.28125 C 4.5 0.28125 5.515625 -0.5 5.515625 -1.71875 C 5.515625 -2.65625 4.984375 -3.171875 3.734375 -3.46875 L 2.765625 -3.703125 C 1.953125 -3.890625 1.609375 -4.15625 1.609375 -4.59375 C 1.609375 -5.171875 2.125 -5.546875 2.9375 -5.546875 C 3.75 -5.546875 4.171875 -5.203125 4.203125 -4.53125 Z M 5.25 -4.53125 \"/>\n",
       "</symbol>\n",
       "<symbol overflow=\"visible\" id=\"glyph1-4\">\n",
       "<path style=\"stroke:none;\" d=\"M 1.796875 -6.28125 L 0.796875 -6.28125 L 0.796875 0 L 1.796875 0 Z M 1.796875 -8.75 L 0.796875 -8.75 L 0.796875 -7.484375 L 1.796875 -7.484375 Z M 1.796875 -8.75 \"/>\n",
       "</symbol>\n",
       "<symbol overflow=\"visible\" id=\"glyph1-5\">\n",
       "<path style=\"stroke:none;\" d=\"M 3.046875 -6.28125 L 2.015625 -6.28125 L 2.015625 -8.015625 L 1.015625 -8.015625 L 1.015625 -6.28125 L 0.171875 -6.28125 L 0.171875 -5.46875 L 1.015625 -5.46875 L 1.015625 -0.71875 C 1.015625 -0.078125 1.453125 0.28125 2.234375 0.28125 C 2.46875 0.28125 2.71875 0.25 3.046875 0.1875 L 3.046875 -0.640625 C 2.921875 -0.609375 2.765625 -0.59375 2.5625 -0.59375 C 2.140625 -0.59375 2.015625 -0.71875 2.015625 -1.15625 L 2.015625 -5.46875 L 3.046875 -5.46875 Z M 3.046875 -6.28125 \"/>\n",
       "</symbol>\n",
       "<symbol overflow=\"visible\" id=\"glyph1-6\">\n",
       "<path style=\"stroke:none;\" d=\"M 0.84375 -6.28125 L 0.84375 0 L 1.84375 0 L 1.84375 -3.46875 C 1.84375 -4.75 2.515625 -5.59375 3.546875 -5.59375 C 4.34375 -5.59375 4.84375 -5.109375 4.84375 -4.359375 L 4.84375 0 L 5.84375 0 L 5.84375 -4.75 C 5.84375 -5.796875 5.0625 -6.46875 3.859375 -6.46875 C 2.921875 -6.46875 2.3125 -6.109375 1.765625 -5.234375 L 1.765625 -6.28125 Z M 0.84375 -6.28125 \"/>\n",
       "</symbol>\n",
       "<symbol overflow=\"visible\" id=\"glyph2-0\">\n",
       "<path style=\"stroke:none;\" d=\"\"/>\n",
       "</symbol>\n",
       "<symbol overflow=\"visible\" id=\"glyph2-1\">\n",
       "<path style=\"stroke:none;\" d=\"M 0 -3.421875 L -6.28125 -5.828125 L -6.28125 -4.703125 L -1.1875 -2.921875 L -6.28125 -1.25 L -6.28125 -0.125 L 0 -2.328125 Z M 0 -3.421875 \"/>\n",
       "</symbol>\n",
       "<symbol overflow=\"visible\" id=\"glyph2-2\">\n",
       "<path style=\"stroke:none;\" d=\"M -0.59375 -6.421875 C -0.5625 -6.3125 -0.5625 -6.265625 -0.5625 -6.203125 C -0.5625 -5.859375 -0.75 -5.65625 -1.0625 -5.65625 L -4.75 -5.65625 C -5.875 -5.65625 -6.46875 -4.84375 -6.46875 -3.296875 C -6.46875 -2.390625 -6.203125 -1.625 -5.734375 -1.21875 C -5.40625 -0.921875 -5.046875 -0.796875 -4.421875 -0.78125 L -4.421875 -1.78125 C -5.203125 -1.875 -5.546875 -2.328125 -5.546875 -3.265625 C -5.546875 -4.15625 -5.203125 -4.671875 -4.609375 -4.671875 L -4.34375 -4.671875 C -3.921875 -4.671875 -3.75 -4.421875 -3.640625 -3.625 C -3.46875 -2.203125 -3.421875 -1.984375 -3.265625 -1.609375 C -2.96875 -0.875 -2.40625 -0.5 -1.578125 -0.5 C -0.4375 -0.5 0.28125 -1.296875 0.28125 -2.5625 C 0.28125 -3.359375 0 -4 -0.640625 -4.703125 C -0.015625 -4.78125 0.28125 -5.09375 0.28125 -5.734375 C 0.28125 -5.9375 0.25 -6.09375 0.171875 -6.421875 Z M -1.984375 -4.671875 C -1.640625 -4.671875 -1.4375 -4.578125 -1.15625 -4.265625 C -0.796875 -3.859375 -0.59375 -3.375 -0.59375 -2.78125 C -0.59375 -2 -0.96875 -1.546875 -1.609375 -1.546875 C -2.265625 -1.546875 -2.609375 -1.984375 -2.765625 -3.0625 C -2.90625 -4.109375 -2.953125 -4.328125 -3.109375 -4.671875 Z M -1.984375 -4.671875 \"/>\n",
       "</symbol>\n",
       "<symbol overflow=\"visible\" id=\"glyph2-3\">\n",
       "<path style=\"stroke:none;\" d=\"M -6.28125 -0.828125 L 0 -0.828125 L 0 -1.84375 L -3.265625 -1.84375 C -4.15625 -1.84375 -4.75 -2.0625 -5.09375 -2.546875 C -5.328125 -2.859375 -5.40625 -3.15625 -5.40625 -3.859375 L -6.4375 -3.859375 C -6.453125 -3.6875 -6.46875 -3.59375 -6.46875 -3.46875 C -6.46875 -2.8125 -6.078125 -2.328125 -5.140625 -1.75 L -6.28125 -1.75 Z M -6.28125 -0.828125 \"/>\n",
       "</symbol>\n",
       "<symbol overflow=\"visible\" id=\"glyph2-4\">\n",
       "<path style=\"stroke:none;\" d=\"M -6.28125 -1.796875 L -6.28125 -0.796875 L 0 -0.796875 L 0 -1.796875 Z M -8.75 -1.796875 L -8.75 -0.796875 L -7.484375 -0.796875 L -7.484375 -1.796875 Z M -8.75 -1.796875 \"/>\n",
       "</symbol>\n",
       "<symbol overflow=\"visible\" id=\"glyph2-5\">\n",
       "<path style=\"stroke:none;\" d=\"M -6.28125 -0.84375 L 0 -0.84375 L 0 -1.84375 L -3.46875 -1.84375 C -4.75 -1.84375 -5.59375 -2.515625 -5.59375 -3.546875 C -5.59375 -4.34375 -5.109375 -4.84375 -4.359375 -4.84375 L 0 -4.84375 L 0 -5.84375 L -4.75 -5.84375 C -5.796875 -5.84375 -6.46875 -5.0625 -6.46875 -3.859375 C -6.46875 -2.921875 -6.109375 -2.3125 -5.234375 -1.765625 L -6.28125 -1.765625 Z M -6.28125 -0.84375 \"/>\n",
       "</symbol>\n",
       "<symbol overflow=\"visible\" id=\"glyph2-6\">\n",
       "<path style=\"stroke:none;\" d=\"M -6.28125 -3.046875 L -6.28125 -2.015625 L -8.015625 -2.015625 L -8.015625 -1.015625 L -6.28125 -1.015625 L -6.28125 -0.171875 L -5.46875 -0.171875 L -5.46875 -1.015625 L -0.71875 -1.015625 C -0.078125 -1.015625 0.28125 -1.453125 0.28125 -2.234375 C 0.28125 -2.46875 0.25 -2.71875 0.1875 -3.046875 L -0.640625 -3.046875 C -0.609375 -2.921875 -0.59375 -2.765625 -0.59375 -2.5625 C -0.59375 -2.140625 -0.71875 -2.015625 -1.15625 -2.015625 L -5.46875 -2.015625 L -5.46875 -3.046875 Z M -6.28125 -3.046875 \"/>\n",
       "</symbol>\n",
       "<symbol overflow=\"visible\" id=\"glyph2-7\">\n",
       "<path style=\"stroke:none;\" d=\"M 1.515625 -6.9375 L 1.515625 0.265625 L 2.109375 0.265625 L 2.109375 -6.9375 Z M 1.515625 -6.9375 \"/>\n",
       "</symbol>\n",
       "<symbol overflow=\"visible\" id=\"glyph2-8\">\n",
       "<path style=\"stroke:none;\" d=\"M -4.171875 -5.65625 C -4.78125 -5.609375 -5.1875 -5.46875 -5.53125 -5.234375 C -6.125 -4.796875 -6.46875 -4.046875 -6.46875 -3.171875 C -6.46875 -1.46875 -5.125 -0.375 -3.03125 -0.375 C -1.015625 -0.375 0.28125 -1.453125 0.28125 -3.15625 C 0.28125 -4.65625 -0.625 -5.609375 -2.15625 -5.71875 L -2.15625 -4.71875 C -1.15625 -4.546875 -0.640625 -4.03125 -0.640625 -3.1875 C -0.640625 -2.078125 -1.546875 -1.421875 -3.03125 -1.421875 C -4.609375 -1.421875 -5.546875 -2.0625 -5.546875 -3.15625 C -5.546875 -4 -5.046875 -4.53125 -4.171875 -4.640625 Z M -4.171875 -5.65625 \"/>\n",
       "</symbol>\n",
       "<symbol overflow=\"visible\" id=\"glyph2-9\">\n",
       "<path style=\"stroke:none;\" d=\"M -6.46875 -3.265625 C -6.46875 -1.5 -5.203125 -0.4375 -3.09375 -0.4375 C -0.984375 -0.4375 0.28125 -1.484375 0.28125 -3.28125 C 0.28125 -5.046875 -0.984375 -6.125 -3.046875 -6.125 C -5.21875 -6.125 -6.46875 -5.078125 -6.46875 -3.265625 Z M -5.546875 -3.28125 C -5.546875 -4.40625 -4.625 -5.078125 -3.0625 -5.078125 C -1.578125 -5.078125 -0.640625 -4.375 -0.640625 -3.28125 C -0.640625 -2.15625 -1.578125 -1.46875 -3.09375 -1.46875 C -4.609375 -1.46875 -5.546875 -2.15625 -5.546875 -3.28125 Z M -5.546875 -3.28125 \"/>\n",
       "</symbol>\n",
       "<symbol overflow=\"visible\" id=\"glyph2-10\">\n",
       "<path style=\"stroke:none;\" d=\"M 0 -5.78125 L -6.28125 -5.78125 L -6.28125 -4.78125 L -2.71875 -4.78125 C -1.4375 -4.78125 -0.59375 -4.109375 -0.59375 -3.078125 C -0.59375 -2.28125 -1.078125 -1.78125 -1.84375 -1.78125 L -6.28125 -1.78125 L -6.28125 -0.78125 L -1.4375 -0.78125 C -0.390625 -0.78125 0.28125 -1.5625 0.28125 -2.78125 C 0.28125 -3.703125 -0.046875 -4.296875 -0.875 -4.890625 L 0 -4.890625 Z M 0 -5.78125 \"/>\n",
       "</symbol>\n",
       "</g>\n",
       "<clipPath id=\"clip1\">\n",
       "  <path d=\"M 0 158.839844 L 504 158.839844 L 504 346 L 0 346 Z M 0 158.839844 \"/>\n",
       "</clipPath>\n",
       "<clipPath id=\"clip2\">\n",
       "  <path d=\"M 41.488281 173.238281 L 490 173.238281 L 490 308 L 41.488281 308 Z M 41.488281 173.238281 \"/>\n",
       "</clipPath>\n",
       "<clipPath id=\"clip3\">\n",
       "  <path d=\"M 41.488281 294 L 490 294 L 490 296 L 41.488281 296 Z M 41.488281 294 \"/>\n",
       "</clipPath>\n",
       "<clipPath id=\"clip4\">\n",
       "  <path d=\"M 41.488281 268 L 490 268 L 490 270 L 41.488281 270 Z M 41.488281 268 \"/>\n",
       "</clipPath>\n",
       "<clipPath id=\"clip5\">\n",
       "  <path d=\"M 41.488281 243 L 490 243 L 490 244 L 41.488281 244 Z M 41.488281 243 \"/>\n",
       "</clipPath>\n",
       "<clipPath id=\"clip6\">\n",
       "  <path d=\"M 41.488281 217 L 490 217 L 490 218 L 41.488281 218 Z M 41.488281 217 \"/>\n",
       "</clipPath>\n",
       "<clipPath id=\"clip7\">\n",
       "  <path d=\"M 41.488281 191 L 490 191 L 490 193 L 41.488281 193 Z M 41.488281 191 \"/>\n",
       "</clipPath>\n",
       "<clipPath id=\"clip8\">\n",
       "  <path d=\"M 109 173.238281 L 111 173.238281 L 111 308 L 109 308 Z M 109 173.238281 \"/>\n",
       "</clipPath>\n",
       "<clipPath id=\"clip9\">\n",
       "  <path d=\"M 207 173.238281 L 208 173.238281 L 208 308 L 207 308 Z M 207 173.238281 \"/>\n",
       "</clipPath>\n",
       "<clipPath id=\"clip10\">\n",
       "  <path d=\"M 304 173.238281 L 306 173.238281 L 306 308 L 304 308 Z M 304 173.238281 \"/>\n",
       "</clipPath>\n",
       "<clipPath id=\"clip11\">\n",
       "  <path d=\"M 402 173.238281 L 403 173.238281 L 403 308 L 402 308 Z M 402 173.238281 \"/>\n",
       "</clipPath>\n",
       "<clipPath id=\"clip12\">\n",
       "  <path d=\"M 41.488281 281 L 490.601562 281 L 490.601562 283 L 41.488281 283 Z M 41.488281 281 \"/>\n",
       "</clipPath>\n",
       "<clipPath id=\"clip13\">\n",
       "  <path d=\"M 41.488281 255 L 490.601562 255 L 490.601562 257 L 41.488281 257 Z M 41.488281 255 \"/>\n",
       "</clipPath>\n",
       "<clipPath id=\"clip14\">\n",
       "  <path d=\"M 41.488281 230 L 490.601562 230 L 490.601562 232 L 41.488281 232 Z M 41.488281 230 \"/>\n",
       "</clipPath>\n",
       "<clipPath id=\"clip15\">\n",
       "  <path d=\"M 41.488281 204 L 490.601562 204 L 490.601562 206 L 41.488281 206 Z M 41.488281 204 \"/>\n",
       "</clipPath>\n",
       "<clipPath id=\"clip16\">\n",
       "  <path d=\"M 41.488281 178 L 490.601562 178 L 490.601562 180 L 41.488281 180 Z M 41.488281 178 \"/>\n",
       "</clipPath>\n",
       "<clipPath id=\"clip17\">\n",
       "  <path d=\"M 60 173.238281 L 62 173.238281 L 62 308.671875 L 60 308.671875 Z M 60 173.238281 \"/>\n",
       "</clipPath>\n",
       "<clipPath id=\"clip18\">\n",
       "  <path d=\"M 158 173.238281 L 160 173.238281 L 160 308.671875 L 158 308.671875 Z M 158 173.238281 \"/>\n",
       "</clipPath>\n",
       "<clipPath id=\"clip19\">\n",
       "  <path d=\"M 255 173.238281 L 257 173.238281 L 257 308.671875 L 255 308.671875 Z M 255 173.238281 \"/>\n",
       "</clipPath>\n",
       "<clipPath id=\"clip20\">\n",
       "  <path d=\"M 353 173.238281 L 355 173.238281 L 355 308.671875 L 353 308.671875 Z M 353 173.238281 \"/>\n",
       "</clipPath>\n",
       "<clipPath id=\"clip21\">\n",
       "  <path d=\"M 450 173.238281 L 452 173.238281 L 452 308.671875 L 450 308.671875 Z M 450 173.238281 \"/>\n",
       "</clipPath>\n",
       "</defs>\n",
       "<g id=\"surface39\">\n",
       "<rect x=\"0\" y=\"0\" width=\"504\" height=\"504\" style=\"fill:rgb(100%,100%,100%);fill-opacity:1;stroke:none;\"/>\n",
       "<g clip-path=\"url(#clip1)\" clip-rule=\"nonzero\">\n",
       "<path style=\"fill-rule:nonzero;fill:rgb(100%,100%,100%);fill-opacity:1;stroke-width:1.062992;stroke-linecap:round;stroke-linejoin:round;stroke:rgb(100%,100%,100%);stroke-opacity:1;stroke-miterlimit:10;\" d=\"M 0 345.160156 L 504 345.160156 L 504 158.839844 L 0 158.839844 Z M 0 345.160156 \"/>\n",
       "</g>\n",
       "<g clip-path=\"url(#clip2)\" clip-rule=\"nonzero\">\n",
       "<path style=\" stroke:none;fill-rule:nonzero;fill:rgb(89.803922%,89.803922%,89.803922%);fill-opacity:1;\" d=\"M 41.488281 307.671875 L 489.601562 307.671875 L 489.601562 173.238281 L 41.488281 173.238281 Z M 41.488281 307.671875 \"/>\n",
       "</g>\n",
       "<g clip-path=\"url(#clip3)\" clip-rule=\"nonzero\">\n",
       "<path style=\"fill:none;stroke-width:0.531496;stroke-linecap:butt;stroke-linejoin:round;stroke:rgb(94.901961%,94.901961%,94.901961%);stroke-opacity:1;stroke-miterlimit:10;\" d=\"M 41.488281 295.011719 L 489.601562 295.011719 \"/>\n",
       "</g>\n",
       "<g clip-path=\"url(#clip4)\" clip-rule=\"nonzero\">\n",
       "<path style=\"fill:none;stroke-width:0.531496;stroke-linecap:butt;stroke-linejoin:round;stroke:rgb(94.901961%,94.901961%,94.901961%);stroke-opacity:1;stroke-miterlimit:10;\" d=\"M 41.488281 269.246094 L 489.601562 269.246094 \"/>\n",
       "</g>\n",
       "<g clip-path=\"url(#clip5)\" clip-rule=\"nonzero\">\n",
       "<path style=\"fill:none;stroke-width:0.531496;stroke-linecap:butt;stroke-linejoin:round;stroke:rgb(94.901961%,94.901961%,94.901961%);stroke-opacity:1;stroke-miterlimit:10;\" d=\"M 41.488281 243.480469 L 489.601562 243.480469 \"/>\n",
       "</g>\n",
       "<g clip-path=\"url(#clip6)\" clip-rule=\"nonzero\">\n",
       "<path style=\"fill:none;stroke-width:0.531496;stroke-linecap:butt;stroke-linejoin:round;stroke:rgb(94.901961%,94.901961%,94.901961%);stroke-opacity:1;stroke-miterlimit:10;\" d=\"M 41.488281 217.714844 L 489.601562 217.714844 \"/>\n",
       "</g>\n",
       "<g clip-path=\"url(#clip7)\" clip-rule=\"nonzero\">\n",
       "<path style=\"fill:none;stroke-width:0.531496;stroke-linecap:butt;stroke-linejoin:round;stroke:rgb(94.901961%,94.901961%,94.901961%);stroke-opacity:1;stroke-miterlimit:10;\" d=\"M 41.488281 191.949219 L 489.601562 191.949219 \"/>\n",
       "</g>\n",
       "<g clip-path=\"url(#clip8)\" clip-rule=\"nonzero\">\n",
       "<path style=\"fill:none;stroke-width:0.531496;stroke-linecap:butt;stroke-linejoin:round;stroke:rgb(94.901961%,94.901961%,94.901961%);stroke-opacity:1;stroke-miterlimit:10;\" d=\"M 110.097656 307.671875 L 110.097656 173.238281 \"/>\n",
       "</g>\n",
       "<g clip-path=\"url(#clip9)\" clip-rule=\"nonzero\">\n",
       "<path style=\"fill:none;stroke-width:0.531496;stroke-linecap:butt;stroke-linejoin:round;stroke:rgb(94.901961%,94.901961%,94.901961%);stroke-opacity:1;stroke-miterlimit:10;\" d=\"M 207.554688 307.671875 L 207.554688 173.238281 \"/>\n",
       "</g>\n",
       "<g clip-path=\"url(#clip10)\" clip-rule=\"nonzero\">\n",
       "<path style=\"fill:none;stroke-width:0.531496;stroke-linecap:butt;stroke-linejoin:round;stroke:rgb(94.901961%,94.901961%,94.901961%);stroke-opacity:1;stroke-miterlimit:10;\" d=\"M 305.015625 307.671875 L 305.015625 173.238281 \"/>\n",
       "</g>\n",
       "<g clip-path=\"url(#clip11)\" clip-rule=\"nonzero\">\n",
       "<path style=\"fill:none;stroke-width:0.531496;stroke-linecap:butt;stroke-linejoin:round;stroke:rgb(94.901961%,94.901961%,94.901961%);stroke-opacity:1;stroke-miterlimit:10;\" d=\"M 402.472656 307.671875 L 402.472656 173.238281 \"/>\n",
       "</g>\n",
       "<g clip-path=\"url(#clip12)\" clip-rule=\"nonzero\">\n",
       "<path style=\"fill:none;stroke-width:1.062992;stroke-linecap:butt;stroke-linejoin:round;stroke:rgb(100%,100%,100%);stroke-opacity:1;stroke-miterlimit:10;\" d=\"M 41.488281 282.128906 L 489.601562 282.128906 \"/>\n",
       "</g>\n",
       "<g clip-path=\"url(#clip13)\" clip-rule=\"nonzero\">\n",
       "<path style=\"fill:none;stroke-width:1.062992;stroke-linecap:butt;stroke-linejoin:round;stroke:rgb(100%,100%,100%);stroke-opacity:1;stroke-miterlimit:10;\" d=\"M 41.488281 256.363281 L 489.601562 256.363281 \"/>\n",
       "</g>\n",
       "<g clip-path=\"url(#clip14)\" clip-rule=\"nonzero\">\n",
       "<path style=\"fill:none;stroke-width:1.062992;stroke-linecap:butt;stroke-linejoin:round;stroke:rgb(100%,100%,100%);stroke-opacity:1;stroke-miterlimit:10;\" d=\"M 41.488281 230.597656 L 489.601562 230.597656 \"/>\n",
       "</g>\n",
       "<g clip-path=\"url(#clip15)\" clip-rule=\"nonzero\">\n",
       "<path style=\"fill:none;stroke-width:1.062992;stroke-linecap:butt;stroke-linejoin:round;stroke:rgb(100%,100%,100%);stroke-opacity:1;stroke-miterlimit:10;\" d=\"M 41.488281 204.832031 L 489.601562 204.832031 \"/>\n",
       "</g>\n",
       "<g clip-path=\"url(#clip16)\" clip-rule=\"nonzero\">\n",
       "<path style=\"fill:none;stroke-width:1.062992;stroke-linecap:butt;stroke-linejoin:round;stroke:rgb(100%,100%,100%);stroke-opacity:1;stroke-miterlimit:10;\" d=\"M 41.488281 179.066406 L 489.601562 179.066406 \"/>\n",
       "</g>\n",
       "<g clip-path=\"url(#clip17)\" clip-rule=\"nonzero\">\n",
       "<path style=\"fill:none;stroke-width:1.062992;stroke-linecap:butt;stroke-linejoin:round;stroke:rgb(100%,100%,100%);stroke-opacity:1;stroke-miterlimit:10;\" d=\"M 61.367188 307.671875 L 61.367188 173.238281 \"/>\n",
       "</g>\n",
       "<g clip-path=\"url(#clip18)\" clip-rule=\"nonzero\">\n",
       "<path style=\"fill:none;stroke-width:1.062992;stroke-linecap:butt;stroke-linejoin:round;stroke:rgb(100%,100%,100%);stroke-opacity:1;stroke-miterlimit:10;\" d=\"M 158.828125 307.671875 L 158.828125 173.238281 \"/>\n",
       "</g>\n",
       "<g clip-path=\"url(#clip19)\" clip-rule=\"nonzero\">\n",
       "<path style=\"fill:none;stroke-width:1.062992;stroke-linecap:butt;stroke-linejoin:round;stroke:rgb(100%,100%,100%);stroke-opacity:1;stroke-miterlimit:10;\" d=\"M 256.285156 307.671875 L 256.285156 173.238281 \"/>\n",
       "</g>\n",
       "<g clip-path=\"url(#clip20)\" clip-rule=\"nonzero\">\n",
       "<path style=\"fill:none;stroke-width:1.062992;stroke-linecap:butt;stroke-linejoin:round;stroke:rgb(100%,100%,100%);stroke-opacity:1;stroke-miterlimit:10;\" d=\"M 353.742188 307.671875 L 353.742188 173.238281 \"/>\n",
       "</g>\n",
       "<g clip-path=\"url(#clip21)\" clip-rule=\"nonzero\">\n",
       "<path style=\"fill:none;stroke-width:1.062992;stroke-linecap:butt;stroke-linejoin:round;stroke:rgb(100%,100%,100%);stroke-opacity:1;stroke-miterlimit:10;\" d=\"M 451.203125 307.671875 L 451.203125 173.238281 \"/>\n",
       "</g>\n",
       "<path style=\"fill:none;stroke-width:1.062992;stroke-linecap:butt;stroke-linejoin:round;stroke:rgb(0%,0%,0%);stroke-opacity:1;stroke-miterlimit:1;\" d=\"M 61.855469 228.390625 L 62.828125 241.457031 L 63.804688 275.125 L 64.777344 244.234375 L 65.753906 238.722656 L 66.726562 276.257812 L 67.703125 226.554688 L 68.675781 220.488281 L 69.652344 272.488281 L 70.625 221.613281 L 71.601562 246.800781 L 72.574219 247.484375 L 73.550781 283.804688 L 74.523438 256.398438 L 75.5 232.867188 L 76.472656 275.601562 L 77.449219 289.796875 L 78.421875 279.625 L 79.398438 295.015625 L 80.371094 296.34375 L 81.347656 298.308594 L 82.320312 294.78125 L 83.296875 292.550781 L 84.269531 291.375 L 85.246094 295.300781 L 86.21875 285.863281 L 87.195312 295.867188 L 88.167969 295.804688 L 89.144531 292.25 L 90.117188 293.84375 L 91.09375 294.476562 L 92.066406 293.898438 L 93.042969 294.742188 L 94.015625 299.453125 L 94.992188 301.5625 L 95.964844 296.511719 L 96.941406 296.125 L 97.914062 296.035156 L 98.890625 295.179688 L 99.863281 294.816406 L 100.839844 293.101562 L 101.8125 291.726562 L 102.789062 281.769531 L 103.761719 245.449219 L 104.738281 212.230469 L 105.710938 254.707031 L 106.6875 179.351562 L 107.660156 262.03125 L 108.636719 291.253906 L 109.609375 277.84375 L 110.585938 296.878906 L 111.558594 295.53125 L 112.535156 298.953125 L 113.507812 299.585938 L 114.484375 295.664062 L 115.457031 288.390625 L 116.433594 295.738281 L 117.40625 300.394531 L 118.382812 292.925781 L 119.355469 295.957031 L 120.332031 297.425781 L 121.304688 289.238281 L 122.28125 287.058594 L 123.253906 292.417969 L 124.230469 293.527344 L 125.203125 294.257812 L 126.179688 300.390625 L 127.152344 297.183594 L 128.128906 285.960938 L 129.101562 293.902344 L 130.078125 290.546875 L 131.050781 282.738281 L 132.027344 242.847656 L 133 294.214844 L 133.972656 267.929688 L 134.949219 280.644531 L 135.921875 297.910156 L 136.898438 277.945312 L 137.871094 286.949219 L 138.847656 291.0625 L 139.820312 293.574219 L 140.796875 284.324219 L 141.769531 291.277344 L 142.746094 294.085938 L 143.71875 293.050781 L 144.695312 282.398438 L 145.667969 293.589844 L 146.644531 295.390625 L 147.617188 297.972656 L 148.59375 293.925781 L 149.566406 295.542969 L 150.542969 294.269531 L 151.515625 289.453125 L 152.492188 293.230469 L 153.464844 298.691406 L 154.441406 282.4375 L 155.414062 297.648438 L 156.390625 298.632812 L 157.363281 293.960938 L 158.339844 281.96875 L 159.3125 288.214844 L 160.289062 286.042969 L 161.261719 288.734375 L 162.238281 289.617188 L 163.210938 295.027344 L 164.1875 296.152344 L 165.160156 292.476562 L 166.136719 296.328125 L 167.109375 284.011719 L 168.085938 289.277344 L 169.058594 293.066406 L 170.035156 297.394531 L 171.007812 285.675781 L 171.984375 287.730469 L 172.957031 290.738281 L 173.933594 296.679688 L 174.90625 290.273438 L 175.882812 289.539062 L 176.855469 286.859375 L 177.832031 297.855469 L 178.804688 296.894531 L 179.78125 295.839844 L 180.753906 290.574219 L 181.730469 291.136719 L 182.703125 289.292969 L 183.679688 295.617188 L 184.652344 280.042969 L 185.628906 277.691406 L 186.601562 281.921875 L 187.578125 292.121094 L 188.550781 291.75 L 189.527344 292.269531 L 190.5 295.917969 L 191.476562 291.015625 L 192.449219 290.53125 L 193.425781 290.292969 L 194.398438 280.441406 L 195.375 283.425781 L 196.347656 272.625 L 197.324219 295.003906 L 198.296875 294.792969 L 199.273438 293.011719 L 200.246094 290.289062 L 201.222656 296.152344 L 202.195312 293.925781 L 203.171875 297.972656 L 204.144531 291.160156 L 205.121094 287.410156 L 206.09375 290.191406 L 207.066406 289.683594 L 208.042969 295.816406 L 209.015625 294.832031 L 209.992188 289.292969 L 210.964844 287.984375 L 211.941406 289.730469 L 212.914062 291.859375 L 213.890625 291.363281 L 214.863281 286.109375 L 215.839844 288.53125 L 216.8125 278.921875 L 217.789062 280.914062 L 218.761719 279.953125 L 219.738281 289.125 L 220.710938 289.980469 L 221.6875 287.972656 L 222.660156 289.980469 L 223.636719 293.539062 L 224.609375 294.117188 L 225.585938 292.644531 L 226.558594 293.621094 L 227.535156 286.476562 L 228.507812 288.277344 L 229.484375 292.835938 L 230.457031 287.523438 L 231.433594 289.769531 L 232.40625 286.347656 L 233.382812 287.246094 L 234.355469 285.605469 L 235.332031 282.59375 L 236.304688 276.65625 L 237.28125 283.183594 L 238.253906 284.394531 L 239.230469 296.695312 L 240.203125 289.824219 L 241.179688 293.109375 L 242.152344 287.890625 L 243.128906 293.457031 L 244.101562 291 L 245.078125 290.578125 L 246.050781 290.910156 L 247.027344 284.550781 L 248 286.484375 L 248.976562 290.375 L 249.949219 286.6875 L 250.925781 294.75 L 251.898438 292.152344 L 252.875 290.21875 L 253.847656 290.953125 L 254.824219 288.429688 L 255.796875 285.246094 L 256.773438 281.140625 L 257.746094 278.839844 L 258.722656 275.191406 L 259.695312 259.679688 L 260.671875 286.875 L 261.644531 291.621094 L 262.621094 291.097656 L 263.59375 291.734375 L 264.570312 292.789062 L 265.542969 288.292969 L 266.519531 290 L 267.492188 288.890625 L 268.46875 290.417969 L 269.441406 287.042969 L 270.417969 280.242188 L 271.390625 291.96875 L 272.367188 294.257812 L 273.339844 290.886719 L 274.316406 293.019531 L 275.289062 285.929688 L 276.265625 289.648438 L 277.238281 290.160156 L 278.210938 293.414062 L 279.1875 296.738281 L 280.160156 292.226562 L 281.136719 287.398438 L 282.109375 290.351562 L 283.085938 283.804688 L 284.058594 288.078125 L 285.035156 285.566406 L 286.007812 286.976562 L 286.984375 290.597656 L 287.957031 292.953125 L 288.933594 297.589844 L 289.90625 288.40625 L 290.882812 281.296875 L 291.855469 293.433594 L 292.832031 286.675781 L 293.804688 278.613281 L 294.78125 287.964844 L 295.753906 293.761719 L 296.730469 285.554688 L 297.703125 293.59375 L 298.679688 291.253906 L 299.652344 283.949219 L 300.628906 293.484375 L 301.601562 290.105469 L 302.578125 285.164062 L 303.550781 292.511719 L 304.527344 296.925781 L 305.5 293.660156 L 306.476562 294.785156 L 307.449219 292.160156 L 308.425781 290.273438 L 309.398438 281.332031 L 310.375 291.960938 L 311.347656 295.226562 L 312.324219 291.230469 L 313.296875 290.054688 L 314.273438 290.101562 L 315.246094 291.339844 L 316.222656 295.984375 L 317.195312 294.835938 L 318.171875 292.566406 L 319.144531 293.738281 L 320.121094 286.964844 L 321.09375 292.082031 L 322.070312 292.71875 L 323.042969 292.941406 L 324.019531 289.675781 L 324.992188 277.8125 L 325.96875 290.65625 L 326.941406 281.917969 L 327.917969 281.652344 L 328.890625 283.980469 L 329.867188 284.175781 L 330.839844 284.066406 L 331.816406 291.003906 L 332.789062 284.277344 L 333.765625 291.445312 L 334.738281 294.628906 L 335.714844 292.578125 L 336.6875 291.421875 L 337.664062 294.957031 L 338.636719 287.105469 L 339.613281 290.335938 L 340.585938 282.453125 L 341.5625 290.34375 L 342.535156 277.96875 L 343.511719 287.242188 L 344.484375 282.964844 L 345.460938 289.316406 L 346.433594 291.292969 L 347.410156 292.625 L 348.382812 287.929688 L 349.359375 289.414062 L 350.332031 292.460938 L 351.304688 289.585938 L 352.28125 288.757812 L 353.253906 292.695312 L 354.230469 293.6875 L 355.203125 293.128906 L 356.179688 286.707031 L 357.152344 290.386719 L 358.128906 286.109375 L 359.101562 288.015625 L 360.078125 289.511719 L 361.050781 291.851562 L 362.027344 290.289062 L 363 283.683594 L 363.976562 292.757812 L 364.949219 293.828125 L 365.925781 299.175781 L 366.898438 292.636719 L 367.875 291.238281 L 368.847656 289.375 L 369.824219 289.28125 L 370.796875 288.972656 L 371.773438 285.117188 L 372.746094 283.621094 L 373.722656 284.667969 L 374.695312 287.984375 L 375.671875 292.230469 L 376.644531 292.4375 L 377.621094 284.8125 L 378.59375 290.886719 L 379.570312 292.597656 L 380.542969 291.859375 L 381.519531 296.960938 L 382.492188 293.363281 L 383.46875 284.636719 L 384.441406 287.867188 L 385.417969 294.714844 L 386.390625 293.496094 L 387.367188 295.859375 L 388.339844 294.207031 L 389.316406 286.144531 L 390.289062 288.507812 L 391.265625 295.65625 L 392.238281 292.441406 L 393.214844 289.730469 L 394.1875 285.628906 L 395.164062 289.527344 L 396.136719 288.957031 L 397.113281 282.863281 L 398.085938 287.726562 L 399.0625 294.296875 L 400.035156 289.28125 L 401.011719 291.433594 L 401.984375 296.101562 L 402.960938 290.578125 L 403.933594 286.941406 L 404.910156 293.820312 L 405.882812 287.964844 L 406.859375 294.75 L 407.832031 284.804688 L 408.808594 289.449219 L 409.78125 294.660156 L 410.757812 293.53125 L 411.730469 292.792969 L 412.707031 294.375 L 413.679688 288.929688 L 414.65625 289.710938 L 415.628906 277.832031 L 416.605469 277.121094 L 417.578125 286.074219 L 418.554688 289.316406 L 419.527344 291.449219 L 420.503906 289.113281 L 421.476562 287.582031 L 422.453125 284.242188 L 423.425781 282.066406 L 424.398438 272.335938 L 425.375 292.742188 L 426.347656 284.679688 L 427.324219 280.972656 L 428.296875 280.957031 L 429.273438 289.332031 L 430.246094 287.238281 L 431.222656 291.300781 L 432.195312 288.414062 L 433.171875 288.285156 L 434.144531 290.691406 L 435.121094 294.722656 L 436.09375 285.800781 L 437.070312 287.804688 L 438.042969 286.785156 L 439.019531 284.199219 L 439.992188 287.042969 L 440.96875 281.667969 L 441.941406 282.40625 L 442.917969 283.667969 L 443.890625 281.078125 L 444.867188 282.765625 L 445.839844 290.414062 L 446.816406 291.476562 L 447.789062 294.691406 L 448.765625 288.734375 L 449.738281 279.175781 L 450.714844 292.265625 L 451.6875 290.171875 L 452.664062 287.15625 L 453.636719 292.902344 L 454.613281 288.234375 L 455.585938 289.355469 L 456.5625 291.746094 L 457.535156 295.292969 L 458.511719 287.160156 L 459.484375 279.65625 L 460.460938 294.3125 L 461.433594 290.003906 L 462.410156 297.257812 L 463.382812 297.546875 L 464.359375 297.011719 L 465.332031 296.015625 L 466.308594 294.808594 L 467.28125 288.996094 L 468.257812 298.941406 L 469.230469 278.46875 \"/>\n",
       "<g style=\"fill:rgb(49.803922%,49.803922%,49.803922%);fill-opacity:1;\">\n",
       "  <use xlink:href=\"#glyph0-1\" x=\"28.398438\" y=\"284.776367\"/>\n",
       "</g>\n",
       "<g style=\"fill:rgb(49.803922%,49.803922%,49.803922%);fill-opacity:1;\">\n",
       "  <use xlink:href=\"#glyph0-2\" x=\"23.398438\" y=\"259.010742\"/>\n",
       "  <use xlink:href=\"#glyph0-3\" x=\"28.732422\" y=\"259.010742\"/>\n",
       "</g>\n",
       "<g style=\"fill:rgb(49.803922%,49.803922%,49.803922%);fill-opacity:1;\">\n",
       "  <use xlink:href=\"#glyph0-2\" x=\"23.398438\" y=\"233.245117\"/>\n",
       "  <use xlink:href=\"#glyph0-1\" x=\"28.732422\" y=\"233.245117\"/>\n",
       "</g>\n",
       "<g style=\"fill:rgb(49.803922%,49.803922%,49.803922%);fill-opacity:1;\">\n",
       "  <use xlink:href=\"#glyph0-4\" x=\"23.398438\" y=\"207.479492\"/>\n",
       "  <use xlink:href=\"#glyph0-3\" x=\"28.732422\" y=\"207.479492\"/>\n",
       "</g>\n",
       "<g style=\"fill:rgb(49.803922%,49.803922%,49.803922%);fill-opacity:1;\">\n",
       "  <use xlink:href=\"#glyph0-4\" x=\"23.398438\" y=\"181.713867\"/>\n",
       "  <use xlink:href=\"#glyph0-1\" x=\"28.732422\" y=\"181.713867\"/>\n",
       "</g>\n",
       "<path style=\"fill:none;stroke-width:1.062992;stroke-linecap:butt;stroke-linejoin:round;stroke:rgb(49.803922%,49.803922%,49.803922%);stroke-opacity:1;stroke-miterlimit:10;\" d=\"M 37.234375 282.128906 L 41.488281 282.128906 \"/>\n",
       "<path style=\"fill:none;stroke-width:1.062992;stroke-linecap:butt;stroke-linejoin:round;stroke:rgb(49.803922%,49.803922%,49.803922%);stroke-opacity:1;stroke-miterlimit:10;\" d=\"M 37.234375 256.363281 L 41.488281 256.363281 \"/>\n",
       "<path style=\"fill:none;stroke-width:1.062992;stroke-linecap:butt;stroke-linejoin:round;stroke:rgb(49.803922%,49.803922%,49.803922%);stroke-opacity:1;stroke-miterlimit:10;\" d=\"M 37.234375 230.597656 L 41.488281 230.597656 \"/>\n",
       "<path style=\"fill:none;stroke-width:1.062992;stroke-linecap:butt;stroke-linejoin:round;stroke:rgb(49.803922%,49.803922%,49.803922%);stroke-opacity:1;stroke-miterlimit:10;\" d=\"M 37.234375 204.832031 L 41.488281 204.832031 \"/>\n",
       "<path style=\"fill:none;stroke-width:1.062992;stroke-linecap:butt;stroke-linejoin:round;stroke:rgb(49.803922%,49.803922%,49.803922%);stroke-opacity:1;stroke-miterlimit:10;\" d=\"M 37.234375 179.066406 L 41.488281 179.066406 \"/>\n",
       "<path style=\"fill:none;stroke-width:1.062992;stroke-linecap:butt;stroke-linejoin:round;stroke:rgb(49.803922%,49.803922%,49.803922%);stroke-opacity:1;stroke-miterlimit:10;\" d=\"M 61.367188 311.925781 L 61.367188 307.671875 \"/>\n",
       "<path style=\"fill:none;stroke-width:1.062992;stroke-linecap:butt;stroke-linejoin:round;stroke:rgb(49.803922%,49.803922%,49.803922%);stroke-opacity:1;stroke-miterlimit:10;\" d=\"M 158.828125 311.925781 L 158.828125 307.671875 \"/>\n",
       "<path style=\"fill:none;stroke-width:1.062992;stroke-linecap:butt;stroke-linejoin:round;stroke:rgb(49.803922%,49.803922%,49.803922%);stroke-opacity:1;stroke-miterlimit:10;\" d=\"M 256.285156 311.925781 L 256.285156 307.671875 \"/>\n",
       "<path style=\"fill:none;stroke-width:1.062992;stroke-linecap:butt;stroke-linejoin:round;stroke:rgb(49.803922%,49.803922%,49.803922%);stroke-opacity:1;stroke-miterlimit:10;\" d=\"M 353.742188 311.925781 L 353.742188 307.671875 \"/>\n",
       "<path style=\"fill:none;stroke-width:1.062992;stroke-linecap:butt;stroke-linejoin:round;stroke:rgb(49.803922%,49.803922%,49.803922%);stroke-opacity:1;stroke-miterlimit:10;\" d=\"M 451.203125 311.925781 L 451.203125 307.671875 \"/>\n",
       "<g style=\"fill:rgb(49.803922%,49.803922%,49.803922%);fill-opacity:1;\">\n",
       "  <use xlink:href=\"#glyph0-3\" x=\"47.867188\" y=\"320.90918\"/>\n",
       "  <use xlink:href=\"#glyph0-5\" x=\"53.201172\" y=\"320.90918\"/>\n",
       "  <use xlink:href=\"#glyph0-6\" x=\"58.535156\" y=\"320.90918\"/>\n",
       "  <use xlink:href=\"#glyph0-3\" x=\"64.137695\" y=\"320.90918\"/>\n",
       "  <use xlink:href=\"#glyph0-3\" x=\"69.47168\" y=\"320.90918\"/>\n",
       "</g>\n",
       "<g style=\"fill:rgb(49.803922%,49.803922%,49.803922%);fill-opacity:1;\">\n",
       "  <use xlink:href=\"#glyph0-2\" x=\"145.328125\" y=\"320.90918\"/>\n",
       "  <use xlink:href=\"#glyph0-5\" x=\"150.662109\" y=\"320.90918\"/>\n",
       "  <use xlink:href=\"#glyph0-6\" x=\"155.996094\" y=\"320.90918\"/>\n",
       "  <use xlink:href=\"#glyph0-3\" x=\"161.598633\" y=\"320.90918\"/>\n",
       "  <use xlink:href=\"#glyph0-7\" x=\"166.932617\" y=\"320.90918\"/>\n",
       "</g>\n",
       "<g style=\"fill:rgb(49.803922%,49.803922%,49.803922%);fill-opacity:1;\">\n",
       "  <use xlink:href=\"#glyph0-4\" x=\"242.785156\" y=\"320.90918\"/>\n",
       "  <use xlink:href=\"#glyph0-5\" x=\"248.119141\" y=\"320.90918\"/>\n",
       "  <use xlink:href=\"#glyph0-6\" x=\"253.453125\" y=\"320.90918\"/>\n",
       "  <use xlink:href=\"#glyph0-3\" x=\"259.055664\" y=\"320.90918\"/>\n",
       "  <use xlink:href=\"#glyph0-7\" x=\"264.389648\" y=\"320.90918\"/>\n",
       "</g>\n",
       "<g style=\"fill:rgb(49.803922%,49.803922%,49.803922%);fill-opacity:1;\">\n",
       "  <use xlink:href=\"#glyph0-8\" x=\"340.242188\" y=\"320.90918\"/>\n",
       "  <use xlink:href=\"#glyph0-5\" x=\"345.576172\" y=\"320.90918\"/>\n",
       "  <use xlink:href=\"#glyph0-6\" x=\"350.910156\" y=\"320.90918\"/>\n",
       "  <use xlink:href=\"#glyph0-3\" x=\"356.512695\" y=\"320.90918\"/>\n",
       "  <use xlink:href=\"#glyph0-7\" x=\"361.84668\" y=\"320.90918\"/>\n",
       "</g>\n",
       "<g style=\"fill:rgb(49.803922%,49.803922%,49.803922%);fill-opacity:1;\">\n",
       "  <use xlink:href=\"#glyph0-9\" x=\"437.703125\" y=\"320.90918\"/>\n",
       "  <use xlink:href=\"#glyph0-5\" x=\"443.037109\" y=\"320.90918\"/>\n",
       "  <use xlink:href=\"#glyph0-6\" x=\"448.371094\" y=\"320.90918\"/>\n",
       "  <use xlink:href=\"#glyph0-3\" x=\"453.973633\" y=\"320.90918\"/>\n",
       "  <use xlink:href=\"#glyph0-7\" x=\"459.307617\" y=\"320.90918\"/>\n",
       "</g>\n",
       "<g style=\"fill:rgb(0%,0%,0%);fill-opacity:1;\">\n",
       "  <use xlink:href=\"#glyph1-1\" x=\"244.542969\" y=\"333.794922\"/>\n",
       "  <use xlink:href=\"#glyph1-2\" x=\"251.214844\" y=\"333.794922\"/>\n",
       "  <use xlink:href=\"#glyph1-3\" x=\"257.886719\" y=\"333.794922\"/>\n",
       "  <use xlink:href=\"#glyph1-4\" x=\"263.886719\" y=\"333.794922\"/>\n",
       "  <use xlink:href=\"#glyph1-5\" x=\"266.550781\" y=\"333.794922\"/>\n",
       "  <use xlink:href=\"#glyph1-4\" x=\"269.886719\" y=\"333.794922\"/>\n",
       "  <use xlink:href=\"#glyph1-2\" x=\"272.550781\" y=\"333.794922\"/>\n",
       "  <use xlink:href=\"#glyph1-6\" x=\"279.222656\" y=\"333.794922\"/>\n",
       "</g>\n",
       "<g style=\"fill:rgb(0%,0%,0%);fill-opacity:1;\">\n",
       "  <use xlink:href=\"#glyph2-1\" x=\"19.236328\" y=\"276.957031\"/>\n",
       "  <use xlink:href=\"#glyph2-2\" x=\"19.236328\" y=\"270.957031\"/>\n",
       "  <use xlink:href=\"#glyph2-3\" x=\"19.236328\" y=\"264.285156\"/>\n",
       "  <use xlink:href=\"#glyph2-4\" x=\"19.236328\" y=\"260.289062\"/>\n",
       "  <use xlink:href=\"#glyph2-2\" x=\"19.236328\" y=\"257.625\"/>\n",
       "  <use xlink:href=\"#glyph2-5\" x=\"19.236328\" y=\"250.953125\"/>\n",
       "  <use xlink:href=\"#glyph2-6\" x=\"19.236328\" y=\"244.28125\"/>\n",
       "  <use xlink:href=\"#glyph2-7\" x=\"19.236328\" y=\"240.945312\"/>\n",
       "  <use xlink:href=\"#glyph2-8\" x=\"19.236328\" y=\"234.273438\"/>\n",
       "  <use xlink:href=\"#glyph2-9\" x=\"19.236328\" y=\"228.273438\"/>\n",
       "  <use xlink:href=\"#glyph2-10\" x=\"19.236328\" y=\"221.601562\"/>\n",
       "  <use xlink:href=\"#glyph2-5\" x=\"19.236328\" y=\"214.929688\"/>\n",
       "  <use xlink:href=\"#glyph2-6\" x=\"19.236328\" y=\"208.257812\"/>\n",
       "</g>\n",
       "</g>\n",
       "</svg>\n"
      ],
      "text/plain": [
       "plot without title"
      ]
     },
     "metadata": {
      "image/svg+xml": {
       "isolated": true
      }
     },
     "output_type": "display_data"
    }
   ],
   "source": [
    "# plot in windows\n",
    "p <- with(mq0_variants, ggplot(\n",
    "    data.frame(position=get_midpoint(windows), variant_count=values),\n",
    "    aes(x=position, y=variant_count)))\n",
    "\n",
    "p + geom_line() + theme(aspect.ratio=0.3)"
   ]
  },
  {
   "cell_type": "markdown",
   "metadata": {},
   "source": [
    "## Plot count of variants across the genome\n",
    "\n",
    "NOTE: Accessibility likely to differ"
   ]
  },
  {
   "cell_type": "code",
   "execution_count": 16,
   "metadata": {
    "collapsed": true
   },
   "outputs": [],
   "source": [
    "# as we are just taking the length use pos as the values\n",
    "count_variants <- windowed_analysis(fh[\"/3L/variants/POS\"], \n",
    "                                    fh[\"/3L/variants/POS\"], \n",
    "                                    length)"
   ]
  },
  {
   "cell_type": "code",
   "execution_count": 17,
   "metadata": {
    "collapsed": false
   },
   "outputs": [
    {
     "data": {
      "image/png": "[encoded data removed]",
      "image/svg+xml": [
       "<?xml version=\"1.0\" encoding=\"UTF-8\"?>\n",
       "<svg xmlns=\"http://www.w3.org/2000/svg\" xmlns:xlink=\"http://www.w3.org/1999/xlink\" width=\"504pt\" height=\"504pt\" viewBox=\"0 0 504 504\" version=\"1.1\">\n",
       "<defs>\n",
       "<g>\n",
       "<symbol overflow=\"visible\" id=\"glyph0-0\">\n",
       "<path style=\"stroke:none;\" d=\"\"/>\n",
       "</symbol>\n",
       "<symbol overflow=\"visible\" id=\"glyph0-1\">\n",
       "<path style=\"stroke:none;\" d=\"M 2.640625 -6.796875 C 2 -6.796875 1.421875 -6.53125 1.078125 -6.046875 C 0.640625 -5.453125 0.40625 -4.546875 0.40625 -3.296875 C 0.40625 -1 1.1875 0.21875 2.640625 0.21875 C 4.078125 0.21875 4.859375 -1 4.859375 -3.234375 C 4.859375 -4.5625 4.65625 -5.4375 4.203125 -6.046875 C 3.84375 -6.53125 3.28125 -6.796875 2.640625 -6.796875 Z M 2.640625 -6.046875 C 3.546875 -6.046875 4 -5.125 4 -3.3125 C 4 -1.375 3.5625 -0.484375 2.625 -0.484375 C 1.734375 -0.484375 1.28125 -1.421875 1.28125 -3.28125 C 1.28125 -5.140625 1.734375 -6.046875 2.640625 -6.046875 Z M 2.640625 -6.046875 \"/>\n",
       "</symbol>\n",
       "<symbol overflow=\"visible\" id=\"glyph0-2\">\n",
       "<path style=\"stroke:none;\" d=\"M 2.484375 -4.84375 L 2.484375 0 L 3.328125 0 L 3.328125 -6.796875 L 2.765625 -6.796875 C 2.46875 -5.75 2.28125 -5.609375 0.984375 -5.453125 L 0.984375 -4.84375 Z M 2.484375 -4.84375 \"/>\n",
       "</symbol>\n",
       "<symbol overflow=\"visible\" id=\"glyph0-3\">\n",
       "<path style=\"stroke:none;\" d=\"M 4.859375 -0.828125 L 1.28125 -0.828125 C 1.359375 -1.390625 1.671875 -1.75 2.5 -2.234375 L 3.46875 -2.75 C 4.40625 -3.265625 4.90625 -3.96875 4.90625 -4.8125 C 4.90625 -5.375 4.671875 -5.90625 4.265625 -6.265625 C 3.859375 -6.625 3.375 -6.796875 2.71875 -6.796875 C 1.859375 -6.796875 1.21875 -6.5 0.84375 -5.921875 C 0.609375 -5.5625 0.5 -5.125 0.484375 -4.4375 L 1.328125 -4.4375 C 1.359375 -4.90625 1.40625 -5.1875 1.53125 -5.40625 C 1.75 -5.8125 2.1875 -6.0625 2.703125 -6.0625 C 3.46875 -6.0625 4.03125 -5.515625 4.03125 -4.78125 C 4.03125 -4.25 3.71875 -3.796875 3.125 -3.4375 L 2.234375 -2.9375 C 0.8125 -2.140625 0.40625 -1.5 0.328125 0 L 4.859375 0 Z M 4.859375 -0.828125 \"/>\n",
       "</symbol>\n",
       "<symbol overflow=\"visible\" id=\"glyph0-4\">\n",
       "<path style=\"stroke:none;\" d=\"M 2.125 -3.125 L 2.578125 -3.125 C 3.515625 -3.125 3.984375 -2.703125 3.984375 -1.890625 C 3.984375 -1.03125 3.46875 -0.53125 2.578125 -0.53125 C 1.65625 -0.53125 1.203125 -0.984375 1.15625 -1.96875 L 0.3125 -1.96875 C 0.34375 -1.421875 0.4375 -1.078125 0.609375 -0.765625 C 0.953125 -0.109375 1.625 0.21875 2.546875 0.21875 C 3.953125 0.21875 4.859375 -0.609375 4.859375 -1.90625 C 4.859375 -2.765625 4.515625 -3.25 3.703125 -3.515625 C 4.34375 -3.765625 4.65625 -4.25 4.65625 -4.9375 C 4.65625 -6.109375 3.875 -6.796875 2.578125 -6.796875 C 1.203125 -6.796875 0.484375 -6.046875 0.453125 -4.609375 L 1.296875 -4.609375 C 1.3125 -5.015625 1.34375 -5.25 1.453125 -5.453125 C 1.640625 -5.828125 2.0625 -6.0625 2.59375 -6.0625 C 3.34375 -6.0625 3.796875 -5.625 3.796875 -4.90625 C 3.796875 -4.421875 3.609375 -4.140625 3.25 -3.984375 C 3.015625 -3.890625 2.71875 -3.84375 2.125 -3.84375 Z M 2.125 -3.125 \"/>\n",
       "</symbol>\n",
       "<symbol overflow=\"visible\" id=\"glyph0-5\">\n",
       "<path style=\"stroke:none;\" d=\"M 3.140625 -1.625 L 3.140625 0 L 3.984375 0 L 3.984375 -1.625 L 4.984375 -1.625 L 4.984375 -2.390625 L 3.984375 -2.390625 L 3.984375 -6.796875 L 3.359375 -6.796875 L 0.265625 -2.515625 L 0.265625 -1.625 Z M 3.140625 -2.390625 L 1 -2.390625 L 3.140625 -5.359375 Z M 3.140625 -2.390625 \"/>\n",
       "</symbol>\n",
       "<symbol overflow=\"visible\" id=\"glyph0-6\">\n",
       "<path style=\"stroke:none;\" d=\"M 4.5625 -6.796875 L 1.0625 -6.796875 L 0.546875 -3.09375 L 1.328125 -3.09375 C 1.71875 -3.5625 2.046875 -3.734375 2.578125 -3.734375 C 3.484375 -3.734375 4.0625 -3.109375 4.0625 -2.09375 C 4.0625 -1.125 3.484375 -0.53125 2.578125 -0.53125 C 1.828125 -0.53125 1.375 -0.90625 1.1875 -1.671875 L 0.328125 -1.671875 C 0.453125 -1.109375 0.546875 -0.84375 0.75 -0.59375 C 1.125 -0.078125 1.828125 0.21875 2.59375 0.21875 C 3.96875 0.21875 4.921875 -0.78125 4.921875 -2.21875 C 4.921875 -3.5625 4.03125 -4.484375 2.71875 -4.484375 C 2.25 -4.484375 1.859375 -4.359375 1.46875 -4.0625 L 1.734375 -5.96875 L 4.5625 -5.96875 Z M 4.5625 -6.796875 \"/>\n",
       "</symbol>\n",
       "<symbol overflow=\"visible\" id=\"glyph0-7\">\n",
       "<path style=\"stroke:none;\" d=\"M 4.921875 -2.25 C 4.921875 -3.015625 4.859375 -3.46875 4.71875 -3.84375 C 4.390625 -4.671875 3.625 -5.171875 2.6875 -5.171875 C 1.28125 -5.171875 0.390625 -4.09375 0.390625 -2.453125 C 0.390625 -0.796875 1.25 0.21875 2.671875 0.21875 C 3.8125 0.21875 4.609375 -0.4375 4.8125 -1.53125 L 4.015625 -1.53125 C 3.796875 -0.859375 3.34375 -0.515625 2.703125 -0.515625 C 2.1875 -0.515625 1.75 -0.75 1.484375 -1.171875 C 1.296875 -1.453125 1.234375 -1.75 1.21875 -2.25 Z M 1.234375 -2.890625 C 1.3125 -3.828125 1.875 -4.4375 2.671875 -4.4375 C 3.46875 -4.4375 4.0625 -3.78125 4.0625 -2.953125 C 4.0625 -2.9375 4.0625 -2.921875 4.0625 -2.890625 Z M 1.234375 -2.890625 \"/>\n",
       "</symbol>\n",
       "<symbol overflow=\"visible\" id=\"glyph0-8\">\n",
       "<path style=\"stroke:none;\" d=\"M 5.125 -2.5625 L 3.140625 -2.5625 L 3.140625 -4.546875 L 2.46875 -4.546875 L 2.46875 -2.5625 L 0.484375 -2.5625 L 0.484375 -1.890625 L 2.46875 -1.890625 L 2.46875 0.09375 L 3.140625 0.09375 L 3.140625 -1.890625 L 5.125 -1.890625 Z M 5.125 -2.5625 \"/>\n",
       "</symbol>\n",
       "<symbol overflow=\"visible\" id=\"glyph0-9\">\n",
       "<path style=\"stroke:none;\" d=\"M 4.984375 -6.796875 L 0.4375 -6.796875 L 0.4375 -5.96875 L 4.109375 -5.96875 C 2.5 -3.65625 1.828125 -2.234375 1.328125 0 L 2.21875 0 C 2.59375 -2.171875 3.453125 -4.046875 4.984375 -6.09375 Z M 4.984375 -6.796875 \"/>\n",
       "</symbol>\n",
       "<symbol overflow=\"visible\" id=\"glyph1-0\">\n",
       "<path style=\"stroke:none;\" d=\"\"/>\n",
       "</symbol>\n",
       "<symbol overflow=\"visible\" id=\"glyph1-1\">\n",
       "<path style=\"stroke:none;\" d=\"M 0.640625 2.609375 L 1.65625 2.609375 L 1.65625 -0.65625 C 2.1875 -0.015625 2.765625 0.28125 3.59375 0.28125 C 5.203125 0.28125 6.28125 -1.03125 6.28125 -3.03125 C 6.28125 -5.140625 5.25 -6.46875 3.578125 -6.46875 C 2.71875 -6.46875 2.046875 -6.078125 1.578125 -5.34375 L 1.578125 -6.28125 L 0.640625 -6.28125 Z M 3.40625 -5.53125 C 4.515625 -5.53125 5.234375 -4.5625 5.234375 -3.0625 C 5.234375 -1.625 4.5 -0.65625 3.40625 -0.65625 C 2.359375 -0.65625 1.65625 -1.625 1.65625 -3.09375 C 1.65625 -4.578125 2.359375 -5.53125 3.40625 -5.53125 Z M 3.40625 -5.53125 \"/>\n",
       "</symbol>\n",
       "<symbol overflow=\"visible\" id=\"glyph1-2\">\n",
       "<path style=\"stroke:none;\" d=\"M 3.265625 -6.46875 C 1.5 -6.46875 0.4375 -5.203125 0.4375 -3.09375 C 0.4375 -0.984375 1.484375 0.28125 3.28125 0.28125 C 5.046875 0.28125 6.125 -0.984375 6.125 -3.046875 C 6.125 -5.21875 5.078125 -6.46875 3.265625 -6.46875 Z M 3.28125 -5.546875 C 4.40625 -5.546875 5.078125 -4.625 5.078125 -3.0625 C 5.078125 -1.578125 4.375 -0.640625 3.28125 -0.640625 C 2.15625 -0.640625 1.46875 -1.578125 1.46875 -3.09375 C 1.46875 -4.609375 2.15625 -5.546875 3.28125 -5.546875 Z M 3.28125 -5.546875 \"/>\n",
       "</symbol>\n",
       "<symbol overflow=\"visible\" id=\"glyph1-3\">\n",
       "<path style=\"stroke:none;\" d=\"M 5.25 -4.53125 C 5.25 -5.765625 4.421875 -6.46875 2.96875 -6.46875 C 1.515625 -6.46875 0.5625 -5.71875 0.5625 -4.546875 C 0.5625 -3.5625 1.0625 -3.09375 2.5625 -2.734375 L 3.484375 -2.515625 C 4.1875 -2.34375 4.46875 -2.09375 4.46875 -1.625 C 4.46875 -1.046875 3.875 -0.640625 3 -0.640625 C 2.453125 -0.640625 2 -0.796875 1.75 -1.0625 C 1.59375 -1.25 1.53125 -1.421875 1.46875 -1.875 L 0.40625 -1.875 C 0.453125 -0.421875 1.265625 0.28125 2.921875 0.28125 C 4.5 0.28125 5.515625 -0.5 5.515625 -1.71875 C 5.515625 -2.65625 4.984375 -3.171875 3.734375 -3.46875 L 2.765625 -3.703125 C 1.953125 -3.890625 1.609375 -4.15625 1.609375 -4.59375 C 1.609375 -5.171875 2.125 -5.546875 2.9375 -5.546875 C 3.75 -5.546875 4.171875 -5.203125 4.203125 -4.53125 Z M 5.25 -4.53125 \"/>\n",
       "</symbol>\n",
       "<symbol overflow=\"visible\" id=\"glyph1-4\">\n",
       "<path style=\"stroke:none;\" d=\"M 1.796875 -6.28125 L 0.796875 -6.28125 L 0.796875 0 L 1.796875 0 Z M 1.796875 -8.75 L 0.796875 -8.75 L 0.796875 -7.484375 L 1.796875 -7.484375 Z M 1.796875 -8.75 \"/>\n",
       "</symbol>\n",
       "<symbol overflow=\"visible\" id=\"glyph1-5\">\n",
       "<path style=\"stroke:none;\" d=\"M 3.046875 -6.28125 L 2.015625 -6.28125 L 2.015625 -8.015625 L 1.015625 -8.015625 L 1.015625 -6.28125 L 0.171875 -6.28125 L 0.171875 -5.46875 L 1.015625 -5.46875 L 1.015625 -0.71875 C 1.015625 -0.078125 1.453125 0.28125 2.234375 0.28125 C 2.46875 0.28125 2.71875 0.25 3.046875 0.1875 L 3.046875 -0.640625 C 2.921875 -0.609375 2.765625 -0.59375 2.5625 -0.59375 C 2.140625 -0.59375 2.015625 -0.71875 2.015625 -1.15625 L 2.015625 -5.46875 L 3.046875 -5.46875 Z M 3.046875 -6.28125 \"/>\n",
       "</symbol>\n",
       "<symbol overflow=\"visible\" id=\"glyph1-6\">\n",
       "<path style=\"stroke:none;\" d=\"M 0.84375 -6.28125 L 0.84375 0 L 1.84375 0 L 1.84375 -3.46875 C 1.84375 -4.75 2.515625 -5.59375 3.546875 -5.59375 C 4.34375 -5.59375 4.84375 -5.109375 4.84375 -4.359375 L 4.84375 0 L 5.84375 0 L 5.84375 -4.75 C 5.84375 -5.796875 5.0625 -6.46875 3.859375 -6.46875 C 2.921875 -6.46875 2.3125 -6.109375 1.765625 -5.234375 L 1.765625 -6.28125 Z M 0.84375 -6.28125 \"/>\n",
       "</symbol>\n",
       "<symbol overflow=\"visible\" id=\"glyph2-0\">\n",
       "<path style=\"stroke:none;\" d=\"\"/>\n",
       "</symbol>\n",
       "<symbol overflow=\"visible\" id=\"glyph2-1\">\n",
       "<path style=\"stroke:none;\" d=\"M 0 -3.421875 L -6.28125 -5.828125 L -6.28125 -4.703125 L -1.1875 -2.921875 L -6.28125 -1.25 L -6.28125 -0.125 L 0 -2.328125 Z M 0 -3.421875 \"/>\n",
       "</symbol>\n",
       "<symbol overflow=\"visible\" id=\"glyph2-2\">\n",
       "<path style=\"stroke:none;\" d=\"M -0.59375 -6.421875 C -0.5625 -6.3125 -0.5625 -6.265625 -0.5625 -6.203125 C -0.5625 -5.859375 -0.75 -5.65625 -1.0625 -5.65625 L -4.75 -5.65625 C -5.875 -5.65625 -6.46875 -4.84375 -6.46875 -3.296875 C -6.46875 -2.390625 -6.203125 -1.625 -5.734375 -1.21875 C -5.40625 -0.921875 -5.046875 -0.796875 -4.421875 -0.78125 L -4.421875 -1.78125 C -5.203125 -1.875 -5.546875 -2.328125 -5.546875 -3.265625 C -5.546875 -4.15625 -5.203125 -4.671875 -4.609375 -4.671875 L -4.34375 -4.671875 C -3.921875 -4.671875 -3.75 -4.421875 -3.640625 -3.625 C -3.46875 -2.203125 -3.421875 -1.984375 -3.265625 -1.609375 C -2.96875 -0.875 -2.40625 -0.5 -1.578125 -0.5 C -0.4375 -0.5 0.28125 -1.296875 0.28125 -2.5625 C 0.28125 -3.359375 0 -4 -0.640625 -4.703125 C -0.015625 -4.78125 0.28125 -5.09375 0.28125 -5.734375 C 0.28125 -5.9375 0.25 -6.09375 0.171875 -6.421875 Z M -1.984375 -4.671875 C -1.640625 -4.671875 -1.4375 -4.578125 -1.15625 -4.265625 C -0.796875 -3.859375 -0.59375 -3.375 -0.59375 -2.78125 C -0.59375 -2 -0.96875 -1.546875 -1.609375 -1.546875 C -2.265625 -1.546875 -2.609375 -1.984375 -2.765625 -3.0625 C -2.90625 -4.109375 -2.953125 -4.328125 -3.109375 -4.671875 Z M -1.984375 -4.671875 \"/>\n",
       "</symbol>\n",
       "<symbol overflow=\"visible\" id=\"glyph2-3\">\n",
       "<path style=\"stroke:none;\" d=\"M -6.28125 -0.828125 L 0 -0.828125 L 0 -1.84375 L -3.265625 -1.84375 C -4.15625 -1.84375 -4.75 -2.0625 -5.09375 -2.546875 C -5.328125 -2.859375 -5.40625 -3.15625 -5.40625 -3.859375 L -6.4375 -3.859375 C -6.453125 -3.6875 -6.46875 -3.59375 -6.46875 -3.46875 C -6.46875 -2.8125 -6.078125 -2.328125 -5.140625 -1.75 L -6.28125 -1.75 Z M -6.28125 -0.828125 \"/>\n",
       "</symbol>\n",
       "<symbol overflow=\"visible\" id=\"glyph2-4\">\n",
       "<path style=\"stroke:none;\" d=\"M -6.28125 -1.796875 L -6.28125 -0.796875 L 0 -0.796875 L 0 -1.796875 Z M -8.75 -1.796875 L -8.75 -0.796875 L -7.484375 -0.796875 L -7.484375 -1.796875 Z M -8.75 -1.796875 \"/>\n",
       "</symbol>\n",
       "<symbol overflow=\"visible\" id=\"glyph2-5\">\n",
       "<path style=\"stroke:none;\" d=\"M -6.28125 -0.84375 L 0 -0.84375 L 0 -1.84375 L -3.46875 -1.84375 C -4.75 -1.84375 -5.59375 -2.515625 -5.59375 -3.546875 C -5.59375 -4.34375 -5.109375 -4.84375 -4.359375 -4.84375 L 0 -4.84375 L 0 -5.84375 L -4.75 -5.84375 C -5.796875 -5.84375 -6.46875 -5.0625 -6.46875 -3.859375 C -6.46875 -2.921875 -6.109375 -2.3125 -5.234375 -1.765625 L -6.28125 -1.765625 Z M -6.28125 -0.84375 \"/>\n",
       "</symbol>\n",
       "<symbol overflow=\"visible\" id=\"glyph2-6\">\n",
       "<path style=\"stroke:none;\" d=\"M -6.28125 -3.046875 L -6.28125 -2.015625 L -8.015625 -2.015625 L -8.015625 -1.015625 L -6.28125 -1.015625 L -6.28125 -0.171875 L -5.46875 -0.171875 L -5.46875 -1.015625 L -0.71875 -1.015625 C -0.078125 -1.015625 0.28125 -1.453125 0.28125 -2.234375 C 0.28125 -2.46875 0.25 -2.71875 0.1875 -3.046875 L -0.640625 -3.046875 C -0.609375 -2.921875 -0.59375 -2.765625 -0.59375 -2.5625 C -0.59375 -2.140625 -0.71875 -2.015625 -1.15625 -2.015625 L -5.46875 -2.015625 L -5.46875 -3.046875 Z M -6.28125 -3.046875 \"/>\n",
       "</symbol>\n",
       "<symbol overflow=\"visible\" id=\"glyph2-7\">\n",
       "<path style=\"stroke:none;\" d=\"M 1.515625 -6.9375 L 1.515625 0.265625 L 2.109375 0.265625 L 2.109375 -6.9375 Z M 1.515625 -6.9375 \"/>\n",
       "</symbol>\n",
       "<symbol overflow=\"visible\" id=\"glyph2-8\">\n",
       "<path style=\"stroke:none;\" d=\"M -4.171875 -5.65625 C -4.78125 -5.609375 -5.1875 -5.46875 -5.53125 -5.234375 C -6.125 -4.796875 -6.46875 -4.046875 -6.46875 -3.171875 C -6.46875 -1.46875 -5.125 -0.375 -3.03125 -0.375 C -1.015625 -0.375 0.28125 -1.453125 0.28125 -3.15625 C 0.28125 -4.65625 -0.625 -5.609375 -2.15625 -5.71875 L -2.15625 -4.71875 C -1.15625 -4.546875 -0.640625 -4.03125 -0.640625 -3.1875 C -0.640625 -2.078125 -1.546875 -1.421875 -3.03125 -1.421875 C -4.609375 -1.421875 -5.546875 -2.0625 -5.546875 -3.15625 C -5.546875 -4 -5.046875 -4.53125 -4.171875 -4.640625 Z M -4.171875 -5.65625 \"/>\n",
       "</symbol>\n",
       "<symbol overflow=\"visible\" id=\"glyph2-9\">\n",
       "<path style=\"stroke:none;\" d=\"M -6.46875 -3.265625 C -6.46875 -1.5 -5.203125 -0.4375 -3.09375 -0.4375 C -0.984375 -0.4375 0.28125 -1.484375 0.28125 -3.28125 C 0.28125 -5.046875 -0.984375 -6.125 -3.046875 -6.125 C -5.21875 -6.125 -6.46875 -5.078125 -6.46875 -3.265625 Z M -5.546875 -3.28125 C -5.546875 -4.40625 -4.625 -5.078125 -3.0625 -5.078125 C -1.578125 -5.078125 -0.640625 -4.375 -0.640625 -3.28125 C -0.640625 -2.15625 -1.578125 -1.46875 -3.09375 -1.46875 C -4.609375 -1.46875 -5.546875 -2.15625 -5.546875 -3.28125 Z M -5.546875 -3.28125 \"/>\n",
       "</symbol>\n",
       "<symbol overflow=\"visible\" id=\"glyph2-10\">\n",
       "<path style=\"stroke:none;\" d=\"M 0 -5.78125 L -6.28125 -5.78125 L -6.28125 -4.78125 L -2.71875 -4.78125 C -1.4375 -4.78125 -0.59375 -4.109375 -0.59375 -3.078125 C -0.59375 -2.28125 -1.078125 -1.78125 -1.84375 -1.78125 L -6.28125 -1.78125 L -6.28125 -0.78125 L -1.4375 -0.78125 C -0.390625 -0.78125 0.28125 -1.5625 0.28125 -2.78125 C 0.28125 -3.703125 -0.046875 -4.296875 -0.875 -4.890625 L 0 -4.890625 Z M 0 -5.78125 \"/>\n",
       "</symbol>\n",
       "</g>\n",
       "<clipPath id=\"clip1\">\n",
       "  <path d=\"M 0 161.238281 L 504 161.238281 L 504 343 L 0 343 Z M 0 161.238281 \"/>\n",
       "</clipPath>\n",
       "<clipPath id=\"clip2\">\n",
       "  <path d=\"M 0 161.238281 L 504 161.238281 L 504 343.757812 L 0 343.757812 Z M 0 161.238281 \"/>\n",
       "</clipPath>\n",
       "<clipPath id=\"clip3\">\n",
       "  <path d=\"M 57.488281 175.640625 L 490 175.640625 L 490 306 L 57.488281 306 Z M 57.488281 175.640625 \"/>\n",
       "</clipPath>\n",
       "<clipPath id=\"clip4\">\n",
       "  <path d=\"M 57.488281 287 L 490 287 L 490 288 L 57.488281 288 Z M 57.488281 287 \"/>\n",
       "</clipPath>\n",
       "<clipPath id=\"clip5\">\n",
       "  <path d=\"M 57.488281 263 L 490 263 L 490 264 L 57.488281 264 Z M 57.488281 263 \"/>\n",
       "</clipPath>\n",
       "<clipPath id=\"clip6\">\n",
       "  <path d=\"M 57.488281 239 L 490 239 L 490 241 L 57.488281 241 Z M 57.488281 239 \"/>\n",
       "</clipPath>\n",
       "<clipPath id=\"clip7\">\n",
       "  <path d=\"M 57.488281 215 L 490 215 L 490 217 L 57.488281 217 Z M 57.488281 215 \"/>\n",
       "</clipPath>\n",
       "<clipPath id=\"clip8\">\n",
       "  <path d=\"M 57.488281 191 L 490 191 L 490 193 L 57.488281 193 Z M 57.488281 191 \"/>\n",
       "</clipPath>\n",
       "<clipPath id=\"clip9\">\n",
       "  <path d=\"M 123 175.640625 L 124 175.640625 L 124 306 L 123 306 Z M 123 175.640625 \"/>\n",
       "</clipPath>\n",
       "<clipPath id=\"clip10\">\n",
       "  <path d=\"M 217 175.640625 L 218 175.640625 L 218 306 L 217 306 Z M 217 175.640625 \"/>\n",
       "</clipPath>\n",
       "<clipPath id=\"clip11\">\n",
       "  <path d=\"M 311 175.640625 L 312 175.640625 L 312 306 L 311 306 Z M 311 175.640625 \"/>\n",
       "</clipPath>\n",
       "<clipPath id=\"clip12\">\n",
       "  <path d=\"M 405 175.640625 L 406 175.640625 L 406 306 L 405 306 Z M 405 175.640625 \"/>\n",
       "</clipPath>\n",
       "<clipPath id=\"clip13\">\n",
       "  <path d=\"M 57.488281 298 L 490.601562 298 L 490.601562 300 L 57.488281 300 Z M 57.488281 298 \"/>\n",
       "</clipPath>\n",
       "<clipPath id=\"clip14\">\n",
       "  <path d=\"M 57.488281 275 L 490.601562 275 L 490.601562 277 L 57.488281 277 Z M 57.488281 275 \"/>\n",
       "</clipPath>\n",
       "<clipPath id=\"clip15\">\n",
       "  <path d=\"M 57.488281 251 L 490.601562 251 L 490.601562 253 L 57.488281 253 Z M 57.488281 251 \"/>\n",
       "</clipPath>\n",
       "<clipPath id=\"clip16\">\n",
       "  <path d=\"M 57.488281 227 L 490.601562 227 L 490.601562 229 L 57.488281 229 Z M 57.488281 227 \"/>\n",
       "</clipPath>\n",
       "<clipPath id=\"clip17\">\n",
       "  <path d=\"M 57.488281 203 L 490.601562 203 L 490.601562 205 L 57.488281 205 Z M 57.488281 203 \"/>\n",
       "</clipPath>\n",
       "<clipPath id=\"clip18\">\n",
       "  <path d=\"M 57.488281 179 L 490.601562 179 L 490.601562 181 L 57.488281 181 Z M 57.488281 179 \"/>\n",
       "</clipPath>\n",
       "<clipPath id=\"clip19\">\n",
       "  <path d=\"M 76 175.640625 L 78 175.640625 L 78 306 L 76 306 Z M 76 175.640625 \"/>\n",
       "</clipPath>\n",
       "<clipPath id=\"clip20\">\n",
       "  <path d=\"M 170 175.640625 L 172 175.640625 L 172 306 L 170 306 Z M 170 175.640625 \"/>\n",
       "</clipPath>\n",
       "<clipPath id=\"clip21\">\n",
       "  <path d=\"M 264 175.640625 L 266 175.640625 L 266 306 L 264 306 Z M 264 175.640625 \"/>\n",
       "</clipPath>\n",
       "<clipPath id=\"clip22\">\n",
       "  <path d=\"M 358 175.640625 L 360 175.640625 L 360 306 L 358 306 Z M 358 175.640625 \"/>\n",
       "</clipPath>\n",
       "<clipPath id=\"clip23\">\n",
       "  <path d=\"M 452 175.640625 L 454 175.640625 L 454 306 L 452 306 Z M 452 175.640625 \"/>\n",
       "</clipPath>\n",
       "</defs>\n",
       "<g id=\"surface58\">\n",
       "<rect x=\"0\" y=\"0\" width=\"504\" height=\"504\" style=\"fill:rgb(100%,100%,100%);fill-opacity:1;stroke:none;\"/>\n",
       "<g clip-path=\"url(#clip1)\" clip-rule=\"nonzero\">\n",
       "<path style=\" stroke:none;fill-rule:nonzero;fill:rgb(100%,100%,100%);fill-opacity:1;\" d=\"M 0 342.761719 L 504 342.761719 L 504 161.242188 L 0 161.242188 Z M 0 342.761719 \"/>\n",
       "</g>\n",
       "<g clip-path=\"url(#clip2)\" clip-rule=\"nonzero\">\n",
       "<path style=\"fill:none;stroke-width:1.062992;stroke-linecap:round;stroke-linejoin:round;stroke:rgb(100%,100%,100%);stroke-opacity:1;stroke-miterlimit:10;\" d=\"M 0 342.761719 L 504 342.761719 L 504 161.242188 L 0 161.242188 Z M 0 342.761719 \"/>\n",
       "</g>\n",
       "<g clip-path=\"url(#clip3)\" clip-rule=\"nonzero\">\n",
       "<path style=\" stroke:none;fill-rule:nonzero;fill:rgb(89.803922%,89.803922%,89.803922%);fill-opacity:1;\" d=\"M 57.488281 305.273438 L 489.601562 305.273438 L 489.601562 175.640625 L 57.488281 175.640625 Z M 57.488281 305.273438 \"/>\n",
       "</g>\n",
       "<g clip-path=\"url(#clip4)\" clip-rule=\"nonzero\">\n",
       "<path style=\"fill:none;stroke-width:0.531496;stroke-linecap:butt;stroke-linejoin:round;stroke:rgb(94.901961%,94.901961%,94.901961%);stroke-opacity:1;stroke-miterlimit:10;\" d=\"M 57.488281 287.472656 L 489.601562 287.472656 \"/>\n",
       "</g>\n",
       "<g clip-path=\"url(#clip5)\" clip-rule=\"nonzero\">\n",
       "<path style=\"fill:none;stroke-width:0.531496;stroke-linecap:butt;stroke-linejoin:round;stroke:rgb(94.901961%,94.901961%,94.901961%);stroke-opacity:1;stroke-miterlimit:10;\" d=\"M 57.488281 263.644531 L 489.601562 263.644531 \"/>\n",
       "</g>\n",
       "<g clip-path=\"url(#clip6)\" clip-rule=\"nonzero\">\n",
       "<path style=\"fill:none;stroke-width:0.531496;stroke-linecap:butt;stroke-linejoin:round;stroke:rgb(94.901961%,94.901961%,94.901961%);stroke-opacity:1;stroke-miterlimit:10;\" d=\"M 57.488281 239.820312 L 489.601562 239.820312 \"/>\n",
       "</g>\n",
       "<g clip-path=\"url(#clip7)\" clip-rule=\"nonzero\">\n",
       "<path style=\"fill:none;stroke-width:0.531496;stroke-linecap:butt;stroke-linejoin:round;stroke:rgb(94.901961%,94.901961%,94.901961%);stroke-opacity:1;stroke-miterlimit:10;\" d=\"M 57.488281 215.992188 L 489.601562 215.992188 \"/>\n",
       "</g>\n",
       "<g clip-path=\"url(#clip8)\" clip-rule=\"nonzero\">\n",
       "<path style=\"fill:none;stroke-width:0.531496;stroke-linecap:butt;stroke-linejoin:round;stroke:rgb(94.901961%,94.901961%,94.901961%);stroke-opacity:1;stroke-miterlimit:10;\" d=\"M 57.488281 192.167969 L 489.601562 192.167969 \"/>\n",
       "</g>\n",
       "<g clip-path=\"url(#clip9)\" clip-rule=\"nonzero\">\n",
       "<path style=\"fill:none;stroke-width:0.531496;stroke-linecap:butt;stroke-linejoin:round;stroke:rgb(94.901961%,94.901961%,94.901961%);stroke-opacity:1;stroke-miterlimit:10;\" d=\"M 123.648438 305.273438 L 123.648438 175.640625 \"/>\n",
       "</g>\n",
       "<g clip-path=\"url(#clip10)\" clip-rule=\"nonzero\">\n",
       "<path style=\"fill:none;stroke-width:0.531496;stroke-linecap:butt;stroke-linejoin:round;stroke:rgb(94.901961%,94.901961%,94.901961%);stroke-opacity:1;stroke-miterlimit:10;\" d=\"M 217.625 305.273438 L 217.625 175.640625 \"/>\n",
       "</g>\n",
       "<g clip-path=\"url(#clip11)\" clip-rule=\"nonzero\">\n",
       "<path style=\"fill:none;stroke-width:0.531496;stroke-linecap:butt;stroke-linejoin:round;stroke:rgb(94.901961%,94.901961%,94.901961%);stroke-opacity:1;stroke-miterlimit:10;\" d=\"M 311.605469 305.273438 L 311.605469 175.640625 \"/>\n",
       "</g>\n",
       "<g clip-path=\"url(#clip12)\" clip-rule=\"nonzero\">\n",
       "<path style=\"fill:none;stroke-width:0.531496;stroke-linecap:butt;stroke-linejoin:round;stroke:rgb(94.901961%,94.901961%,94.901961%);stroke-opacity:1;stroke-miterlimit:10;\" d=\"M 405.582031 305.273438 L 405.582031 175.640625 \"/>\n",
       "</g>\n",
       "<g clip-path=\"url(#clip13)\" clip-rule=\"nonzero\">\n",
       "<path style=\"fill:none;stroke-width:1.062992;stroke-linecap:butt;stroke-linejoin:round;stroke:rgb(100%,100%,100%);stroke-opacity:1;stroke-miterlimit:10;\" d=\"M 57.488281 299.382812 L 489.601562 299.382812 \"/>\n",
       "</g>\n",
       "<g clip-path=\"url(#clip14)\" clip-rule=\"nonzero\">\n",
       "<path style=\"fill:none;stroke-width:1.062992;stroke-linecap:butt;stroke-linejoin:round;stroke:rgb(100%,100%,100%);stroke-opacity:1;stroke-miterlimit:10;\" d=\"M 57.488281 275.558594 L 489.601562 275.558594 \"/>\n",
       "</g>\n",
       "<g clip-path=\"url(#clip15)\" clip-rule=\"nonzero\">\n",
       "<path style=\"fill:none;stroke-width:1.062992;stroke-linecap:butt;stroke-linejoin:round;stroke:rgb(100%,100%,100%);stroke-opacity:1;stroke-miterlimit:10;\" d=\"M 57.488281 251.730469 L 489.601562 251.730469 \"/>\n",
       "</g>\n",
       "<g clip-path=\"url(#clip16)\" clip-rule=\"nonzero\">\n",
       "<path style=\"fill:none;stroke-width:1.062992;stroke-linecap:butt;stroke-linejoin:round;stroke:rgb(100%,100%,100%);stroke-opacity:1;stroke-miterlimit:10;\" d=\"M 57.488281 227.90625 L 489.601562 227.90625 \"/>\n",
       "</g>\n",
       "<g clip-path=\"url(#clip17)\" clip-rule=\"nonzero\">\n",
       "<path style=\"fill:none;stroke-width:1.062992;stroke-linecap:butt;stroke-linejoin:round;stroke:rgb(100%,100%,100%);stroke-opacity:1;stroke-miterlimit:10;\" d=\"M 57.488281 204.082031 L 489.601562 204.082031 \"/>\n",
       "</g>\n",
       "<g clip-path=\"url(#clip18)\" clip-rule=\"nonzero\">\n",
       "<path style=\"fill:none;stroke-width:1.062992;stroke-linecap:butt;stroke-linejoin:round;stroke:rgb(100%,100%,100%);stroke-opacity:1;stroke-miterlimit:10;\" d=\"M 57.488281 180.253906 L 489.601562 180.253906 \"/>\n",
       "</g>\n",
       "<g clip-path=\"url(#clip19)\" clip-rule=\"nonzero\">\n",
       "<path style=\"fill:none;stroke-width:1.062992;stroke-linecap:butt;stroke-linejoin:round;stroke:rgb(100%,100%,100%);stroke-opacity:1;stroke-miterlimit:10;\" d=\"M 76.660156 305.273438 L 76.660156 175.640625 \"/>\n",
       "</g>\n",
       "<g clip-path=\"url(#clip20)\" clip-rule=\"nonzero\">\n",
       "<path style=\"fill:none;stroke-width:1.062992;stroke-linecap:butt;stroke-linejoin:round;stroke:rgb(100%,100%,100%);stroke-opacity:1;stroke-miterlimit:10;\" d=\"M 170.636719 305.273438 L 170.636719 175.640625 \"/>\n",
       "</g>\n",
       "<g clip-path=\"url(#clip21)\" clip-rule=\"nonzero\">\n",
       "<path style=\"fill:none;stroke-width:1.062992;stroke-linecap:butt;stroke-linejoin:round;stroke:rgb(100%,100%,100%);stroke-opacity:1;stroke-miterlimit:10;\" d=\"M 264.617188 305.273438 L 264.617188 175.640625 \"/>\n",
       "</g>\n",
       "<g clip-path=\"url(#clip22)\" clip-rule=\"nonzero\">\n",
       "<path style=\"fill:none;stroke-width:1.062992;stroke-linecap:butt;stroke-linejoin:round;stroke:rgb(100%,100%,100%);stroke-opacity:1;stroke-miterlimit:10;\" d=\"M 358.59375 305.273438 L 358.59375 175.640625 \"/>\n",
       "</g>\n",
       "<g clip-path=\"url(#clip23)\" clip-rule=\"nonzero\">\n",
       "<path style=\"fill:none;stroke-width:1.062992;stroke-linecap:butt;stroke-linejoin:round;stroke:rgb(100%,100%,100%);stroke-opacity:1;stroke-miterlimit:10;\" d=\"M 452.574219 305.273438 L 452.574219 175.640625 \"/>\n",
       "</g>\n",
       "<path style=\"fill:none;stroke-width:1.062992;stroke-linecap:butt;stroke-linejoin:round;stroke:rgb(0%,0%,0%);stroke-opacity:1;stroke-miterlimit:1;\" d=\"M 77.128906 297.082031 L 78.066406 293.53125 L 79.007812 298.46875 L 79.949219 292.699219 L 80.886719 298.3125 L 81.828125 298.257812 L 82.765625 295.921875 L 83.707031 293.007812 L 84.644531 289.78125 L 85.585938 296.277344 L 86.527344 297.3125 L 87.464844 294.800781 L 88.40625 290.175781 L 89.34375 295.640625 L 90.285156 297.484375 L 91.226562 290.992188 L 92.164062 288.757812 L 93.105469 287.195312 L 94.042969 286.996094 L 94.984375 281.703125 L 95.925781 276.542969 L 96.863281 279.03125 L 97.804688 278.78125 L 98.742188 285.875 L 99.683594 280.96875 L 100.621094 283.445312 L 101.5625 280.128906 L 102.503906 285.957031 L 103.441406 277.105469 L 104.382812 276.65625 L 105.320312 280.691406 L 106.261719 279.445312 L 107.203125 278.832031 L 108.140625 280.066406 L 109.082031 273.457031 L 110.019531 274.347656 L 110.960938 277.832031 L 111.898438 279.546875 L 112.839844 278.839844 L 113.78125 279.652344 L 114.71875 282.527344 L 115.660156 283.605469 L 116.597656 289.851562 L 117.539062 298.132812 L 118.480469 297.503906 L 119.417969 299.109375 L 120.359375 299.082031 L 121.296875 298.761719 L 122.238281 281.511719 L 123.175781 292.574219 L 124.117188 283.199219 L 125.058594 276.753906 L 125.996094 280.238281 L 126.9375 272.65625 L 127.875 274.660156 L 128.816406 279.394531 L 129.757812 272.320312 L 130.695312 274.308594 L 131.636719 278.566406 L 132.574219 273.292969 L 133.515625 277.714844 L 134.453125 282.808594 L 135.394531 274.425781 L 136.335938 280.730469 L 137.273438 279.296875 L 138.214844 274.796875 L 139.152344 267.535156 L 140.09375 264.832031 L 141.035156 275.992188 L 141.972656 272.851562 L 142.914062 275.363281 L 143.851562 288.972656 L 144.792969 298.871094 L 145.734375 287.484375 L 146.671875 290.917969 L 147.613281 287.261719 L 148.550781 270.011719 L 149.492188 297.671875 L 150.429688 272.25 L 151.371094 276.71875 L 152.3125 270.359375 L 153.25 285.589844 L 154.191406 269.511719 L 155.128906 267.238281 L 156.070312 263.3125 L 157.011719 259.355469 L 157.949219 266.105469 L 158.890625 267.332031 L 159.828125 269.03125 L 160.769531 275.78125 L 161.707031 271.039062 L 162.648438 274.136719 L 163.589844 288.824219 L 164.527344 256.953125 L 165.46875 277.292969 L 166.40625 284.996094 L 167.347656 265.4375 L 168.289062 268.589844 L 169.226562 279.6875 L 170.167969 299.15625 L 171.105469 261.222656 L 172.046875 282.816406 L 172.984375 260.472656 L 173.925781 268.863281 L 174.867188 251.351562 L 175.804688 261.113281 L 176.746094 261.132812 L 177.683594 260.875 L 178.625 274.285156 L 179.566406 272.273438 L 180.503906 262.027344 L 181.445312 278.722656 L 182.382812 278.417969 L 183.324219 247.359375 L 184.265625 262.453125 L 185.203125 280.699219 L 186.144531 268.210938 L 187.082031 247.210938 L 188.023438 240.496094 L 188.960938 251.234375 L 189.902344 256.527344 L 190.84375 251.664062 L 191.78125 257.105469 L 192.722656 260.90625 L 193.660156 247.316406 L 194.601562 227.132812 L 195.542969 256.699219 L 196.480469 241.851562 L 197.421875 248.121094 L 198.359375 262.539062 L 199.300781 243.15625 L 200.238281 254.203125 L 201.179688 245.117188 L 202.121094 235.839844 L 203.058594 235.191406 L 204 251.40625 L 204.9375 237.015625 L 205.878906 280.28125 L 206.820312 273.882812 L 207.757812 273.457031 L 208.699219 230.324219 L 209.636719 221.0625 L 210.578125 224.992188 L 211.515625 240.609375 L 212.457031 258.652344 L 213.398438 262.46875 L 214.335938 244.449219 L 215.277344 222.679688 L 216.214844 239.9375 L 217.15625 229.535156 L 218.097656 226.949219 L 219.035156 229.621094 L 219.976562 241.839844 L 220.914062 229.679688 L 221.855469 235.4375 L 222.792969 267.617188 L 223.734375 261.207031 L 224.675781 252 L 225.613281 238.292969 L 226.554688 282.273438 L 227.492188 265.066406 L 228.433594 289.914062 L 229.375 268.011719 L 230.3125 226.722656 L 231.253906 230.207031 L 232.191406 232.742188 L 233.132812 214.828125 L 234.074219 215.09375 L 235.011719 218.449219 L 235.953125 215.472656 L 236.890625 222.042969 L 237.832031 228.242188 L 238.769531 209.769531 L 239.710938 221.808594 L 240.652344 234.316406 L 241.589844 226.867188 L 242.53125 234.230469 L 243.46875 236.640625 L 244.410156 248.324219 L 245.351562 273.863281 L 246.289062 218.722656 L 247.230469 241.542969 L 248.167969 234.917969 L 249.109375 217.21875 L 250.046875 206.023438 L 250.988281 204.1875 L 251.929688 217.867188 L 252.867188 221.425781 L 253.808594 224.261719 L 254.746094 233.949219 L 255.6875 215.945312 L 256.628906 228.71875 L 257.566406 228.101562 L 258.507812 226.363281 L 259.445312 227.890625 L 260.386719 228.621094 L 261.324219 229.058594 L 262.265625 213.804688 L 263.207031 236.390625 L 264.144531 246.539062 L 265.085938 242.546875 L 266.023438 224.570312 L 266.964844 253.363281 L 267.90625 299.144531 L 268.84375 240.09375 L 269.785156 236.234375 L 270.722656 231.429688 L 271.664062 234.601562 L 272.605469 255.496094 L 273.542969 237.761719 L 274.484375 247.6875 L 275.421875 232.417969 L 276.363281 224.285156 L 277.300781 223.738281 L 278.242188 245.054688 L 279.183594 238.195312 L 280.121094 243.949219 L 281.0625 224.542969 L 282 271.632812 L 282.941406 241.507812 L 283.882812 223.5625 L 284.820312 223.183594 L 285.761719 226.515625 L 286.699219 214.765625 L 287.640625 240.65625 L 288.578125 206.957031 L 289.519531 214.660156 L 290.460938 238.667969 L 291.398438 209.058594 L 292.339844 216.851562 L 293.277344 246.320312 L 294.21875 249.746094 L 295.160156 270.03125 L 296.097656 299.382812 L 297.039062 278.589844 L 297.976562 262.140625 L 298.917969 226.820312 L 299.855469 229.980469 L 300.796875 263.210938 L 301.738281 253.144531 L 302.675781 225.597656 L 303.617188 226.699219 L 304.554688 214.328125 L 305.496094 224.214844 L 306.4375 248.625 L 307.375 268.554688 L 308.316406 275.917969 L 309.253906 237.296875 L 310.195312 220.261719 L 311.132812 227.855469 L 312.074219 220.710938 L 313.015625 224.0625 L 313.953125 223.511719 L 314.894531 239.160156 L 315.832031 253.617188 L 316.773438 240.734375 L 317.714844 236.503906 L 318.652344 234.792969 L 319.59375 220.832031 L 320.53125 214.960938 L 321.472656 213.589844 L 322.414062 213.542969 L 323.351562 236.894531 L 324.292969 215.464844 L 325.230469 237.613281 L 326.171875 243.179688 L 327.109375 234.496094 L 328.050781 224.316406 L 328.992188 252.152344 L 329.929688 269.761719 L 330.871094 237.1875 L 331.808594 220.496094 L 332.75 233.304688 L 333.691406 199.1875 L 334.628906 210.527344 L 335.570312 195.714844 L 336.507812 226.695312 L 337.449219 223.730469 L 338.386719 216.929688 L 339.328125 217.78125 L 340.269531 215.816406 L 341.207031 222.457031 L 342.148438 213.640625 L 343.085938 228.585938 L 344.027344 247.160156 L 344.96875 226.703125 L 345.90625 242.378906 L 346.847656 228.933594 L 347.785156 226.25 L 348.726562 210.847656 L 349.664062 245.414062 L 350.605469 222.101562 L 351.546875 230.007812 L 352.484375 214.597656 L 353.425781 207.332031 L 354.363281 193.488281 L 355.304688 209.136719 L 356.246094 188.589844 L 357.183594 203.128906 L 358.125 219.175781 L 359.0625 235.734375 L 360.003906 227.660156 L 360.945312 210.777344 L 361.882812 218.375 L 362.824219 227.597656 L 363.761719 221.347656 L 364.703125 221 L 365.640625 216.570312 L 366.582031 218.527344 L 367.523438 222.628906 L 368.460938 243.191406 L 369.402344 261.796875 L 370.339844 239.703125 L 371.28125 205.382812 L 372.222656 221.828125 L 373.160156 216.257812 L 374.101562 219.089844 L 375.039062 228.28125 L 375.980469 230.410156 L 376.917969 215.554688 L 377.859375 238.976562 L 378.800781 233.519531 L 379.738281 222.613281 L 380.679688 216.835938 L 381.617188 222.84375 L 382.558594 209.347656 L 383.5 217.949219 L 384.4375 202.5 L 385.378906 244.15625 L 386.316406 234.382812 L 387.257812 225.761719 L 388.195312 239.164062 L 389.136719 232.851562 L 390.078125 235.5625 L 391.015625 220.765625 L 391.957031 223.722656 L 392.894531 218.875 L 393.835938 223.023438 L 394.777344 223.75 L 395.714844 215.828125 L 396.65625 218.179688 L 397.59375 219.960938 L 398.535156 210.882812 L 399.472656 209.640625 L 400.414062 207 L 401.355469 211.664062 L 402.292969 229.175781 L 403.234375 208.644531 L 404.171875 228.222656 L 405.113281 214.484375 L 406.054688 208.132812 L 406.992188 231.59375 L 407.933594 228.691406 L 408.871094 213.667969 L 409.8125 218.234375 L 410.753906 217.996094 L 411.691406 237.378906 L 412.632812 215.015625 L 413.570312 251.8125 L 414.511719 204.421875 L 415.449219 228.480469 L 416.390625 228.96875 L 417.332031 263.023438 L 418.269531 271.464844 L 419.210938 293.328125 L 420.148438 254.957031 L 421.089844 235.871094 L 422.03125 210.324219 L 422.96875 230.835938 L 423.910156 215.765625 L 424.847656 209.078125 L 425.789062 222.417969 L 426.726562 249.195312 L 427.667969 266.445312 L 428.609375 233.367188 L 429.546875 252.054688 L 430.488281 226.445312 L 431.425781 222.398438 L 432.367188 228.714844 L 433.308594 235.882812 L 434.246094 238.152344 L 435.1875 233.355469 L 436.125 238.136719 L 437.066406 237.609375 L 438.003906 228.546875 L 438.945312 212.113281 L 439.886719 274.328125 L 440.824219 220.085938 L 441.765625 205.425781 L 442.703125 220.738281 L 443.644531 232.800781 L 444.585938 229.9375 L 445.523438 211.929688 L 446.464844 201.625 L 447.402344 198.503906 L 448.34375 211.570312 L 449.28125 236.496094 L 450.222656 222.609375 L 451.164062 220.382812 L 452.101562 204.535156 L 453.042969 197.875 L 453.980469 204.355469 L 454.921875 188.011719 L 455.863281 202.328125 L 456.800781 181.53125 L 457.742188 183.210938 L 458.679688 186.175781 L 459.621094 215.480469 L 460.5625 221.054688 L 461.5 196.808594 L 462.441406 256.914062 L 463.378906 223.238281 L 464.320312 196.746094 L 465.257812 206.441406 L 466.199219 202.578125 L 467.140625 217.417969 L 468.078125 218.804688 L 469.019531 254.503906 L 469.957031 276.898438 \"/>\n",
       "<g style=\"fill:rgb(49.803922%,49.803922%,49.803922%);fill-opacity:1;\">\n",
       "  <use xlink:href=\"#glyph0-1\" x=\"44.398438\" y=\"302.030273\"/>\n",
       "</g>\n",
       "<g style=\"fill:rgb(49.803922%,49.803922%,49.803922%);fill-opacity:1;\">\n",
       "  <use xlink:href=\"#glyph0-2\" x=\"23.398438\" y=\"278.206055\"/>\n",
       "  <use xlink:href=\"#glyph0-1\" x=\"28.732422\" y=\"278.206055\"/>\n",
       "  <use xlink:href=\"#glyph0-1\" x=\"34.066406\" y=\"278.206055\"/>\n",
       "  <use xlink:href=\"#glyph0-1\" x=\"39.400391\" y=\"278.206055\"/>\n",
       "  <use xlink:href=\"#glyph0-1\" x=\"44.734375\" y=\"278.206055\"/>\n",
       "</g>\n",
       "<g style=\"fill:rgb(49.803922%,49.803922%,49.803922%);fill-opacity:1;\">\n",
       "  <use xlink:href=\"#glyph0-3\" x=\"23.398438\" y=\"254.37793\"/>\n",
       "  <use xlink:href=\"#glyph0-1\" x=\"28.732422\" y=\"254.37793\"/>\n",
       "  <use xlink:href=\"#glyph0-1\" x=\"34.066406\" y=\"254.37793\"/>\n",
       "  <use xlink:href=\"#glyph0-1\" x=\"39.400391\" y=\"254.37793\"/>\n",
       "  <use xlink:href=\"#glyph0-1\" x=\"44.734375\" y=\"254.37793\"/>\n",
       "</g>\n",
       "<g style=\"fill:rgb(49.803922%,49.803922%,49.803922%);fill-opacity:1;\">\n",
       "  <use xlink:href=\"#glyph0-4\" x=\"23.398438\" y=\"230.553711\"/>\n",
       "  <use xlink:href=\"#glyph0-1\" x=\"28.732422\" y=\"230.553711\"/>\n",
       "  <use xlink:href=\"#glyph0-1\" x=\"34.066406\" y=\"230.553711\"/>\n",
       "  <use xlink:href=\"#glyph0-1\" x=\"39.400391\" y=\"230.553711\"/>\n",
       "  <use xlink:href=\"#glyph0-1\" x=\"44.734375\" y=\"230.553711\"/>\n",
       "</g>\n",
       "<g style=\"fill:rgb(49.803922%,49.803922%,49.803922%);fill-opacity:1;\">\n",
       "  <use xlink:href=\"#glyph0-5\" x=\"23.398438\" y=\"206.729492\"/>\n",
       "  <use xlink:href=\"#glyph0-1\" x=\"28.732422\" y=\"206.729492\"/>\n",
       "  <use xlink:href=\"#glyph0-1\" x=\"34.066406\" y=\"206.729492\"/>\n",
       "  <use xlink:href=\"#glyph0-1\" x=\"39.400391\" y=\"206.729492\"/>\n",
       "  <use xlink:href=\"#glyph0-1\" x=\"44.734375\" y=\"206.729492\"/>\n",
       "</g>\n",
       "<g style=\"fill:rgb(49.803922%,49.803922%,49.803922%);fill-opacity:1;\">\n",
       "  <use xlink:href=\"#glyph0-6\" x=\"23.398438\" y=\"182.901367\"/>\n",
       "  <use xlink:href=\"#glyph0-1\" x=\"28.732422\" y=\"182.901367\"/>\n",
       "  <use xlink:href=\"#glyph0-1\" x=\"34.066406\" y=\"182.901367\"/>\n",
       "  <use xlink:href=\"#glyph0-1\" x=\"39.400391\" y=\"182.901367\"/>\n",
       "  <use xlink:href=\"#glyph0-1\" x=\"44.734375\" y=\"182.901367\"/>\n",
       "</g>\n",
       "<path style=\"fill:none;stroke-width:1.062992;stroke-linecap:butt;stroke-linejoin:round;stroke:rgb(49.803922%,49.803922%,49.803922%);stroke-opacity:1;stroke-miterlimit:10;\" d=\"M 53.234375 299.382812 L 57.488281 299.382812 \"/>\n",
       "<path style=\"fill:none;stroke-width:1.062992;stroke-linecap:butt;stroke-linejoin:round;stroke:rgb(49.803922%,49.803922%,49.803922%);stroke-opacity:1;stroke-miterlimit:10;\" d=\"M 53.234375 275.558594 L 57.488281 275.558594 \"/>\n",
       "<path style=\"fill:none;stroke-width:1.062992;stroke-linecap:butt;stroke-linejoin:round;stroke:rgb(49.803922%,49.803922%,49.803922%);stroke-opacity:1;stroke-miterlimit:10;\" d=\"M 53.234375 251.730469 L 57.488281 251.730469 \"/>\n",
       "<path style=\"fill:none;stroke-width:1.062992;stroke-linecap:butt;stroke-linejoin:round;stroke:rgb(49.803922%,49.803922%,49.803922%);stroke-opacity:1;stroke-miterlimit:10;\" d=\"M 53.234375 227.90625 L 57.488281 227.90625 \"/>\n",
       "<path style=\"fill:none;stroke-width:1.062992;stroke-linecap:butt;stroke-linejoin:round;stroke:rgb(49.803922%,49.803922%,49.803922%);stroke-opacity:1;stroke-miterlimit:10;\" d=\"M 53.234375 204.082031 L 57.488281 204.082031 \"/>\n",
       "<path style=\"fill:none;stroke-width:1.062992;stroke-linecap:butt;stroke-linejoin:round;stroke:rgb(49.803922%,49.803922%,49.803922%);stroke-opacity:1;stroke-miterlimit:10;\" d=\"M 53.234375 180.253906 L 57.488281 180.253906 \"/>\n",
       "<path style=\"fill:none;stroke-width:1.062992;stroke-linecap:butt;stroke-linejoin:round;stroke:rgb(49.803922%,49.803922%,49.803922%);stroke-opacity:1;stroke-miterlimit:10;\" d=\"M 76.660156 309.527344 L 76.660156 305.273438 \"/>\n",
       "<path style=\"fill:none;stroke-width:1.062992;stroke-linecap:butt;stroke-linejoin:round;stroke:rgb(49.803922%,49.803922%,49.803922%);stroke-opacity:1;stroke-miterlimit:10;\" d=\"M 170.636719 309.527344 L 170.636719 305.273438 \"/>\n",
       "<path style=\"fill:none;stroke-width:1.062992;stroke-linecap:butt;stroke-linejoin:round;stroke:rgb(49.803922%,49.803922%,49.803922%);stroke-opacity:1;stroke-miterlimit:10;\" d=\"M 264.617188 309.527344 L 264.617188 305.273438 \"/>\n",
       "<path style=\"fill:none;stroke-width:1.062992;stroke-linecap:butt;stroke-linejoin:round;stroke:rgb(49.803922%,49.803922%,49.803922%);stroke-opacity:1;stroke-miterlimit:10;\" d=\"M 358.59375 309.527344 L 358.59375 305.273438 \"/>\n",
       "<path style=\"fill:none;stroke-width:1.062992;stroke-linecap:butt;stroke-linejoin:round;stroke:rgb(49.803922%,49.803922%,49.803922%);stroke-opacity:1;stroke-miterlimit:10;\" d=\"M 452.574219 309.527344 L 452.574219 305.273438 \"/>\n",
       "<g style=\"fill:rgb(49.803922%,49.803922%,49.803922%);fill-opacity:1;\">\n",
       "  <use xlink:href=\"#glyph0-1\" x=\"63.160156\" y=\"318.506836\"/>\n",
       "  <use xlink:href=\"#glyph0-7\" x=\"68.494141\" y=\"318.506836\"/>\n",
       "  <use xlink:href=\"#glyph0-8\" x=\"73.828125\" y=\"318.506836\"/>\n",
       "  <use xlink:href=\"#glyph0-1\" x=\"79.430664\" y=\"318.506836\"/>\n",
       "  <use xlink:href=\"#glyph0-1\" x=\"84.764648\" y=\"318.506836\"/>\n",
       "</g>\n",
       "<g style=\"fill:rgb(49.803922%,49.803922%,49.803922%);fill-opacity:1;\">\n",
       "  <use xlink:href=\"#glyph0-2\" x=\"157.136719\" y=\"318.506836\"/>\n",
       "  <use xlink:href=\"#glyph0-7\" x=\"162.470703\" y=\"318.506836\"/>\n",
       "  <use xlink:href=\"#glyph0-8\" x=\"167.804688\" y=\"318.506836\"/>\n",
       "  <use xlink:href=\"#glyph0-1\" x=\"173.407227\" y=\"318.506836\"/>\n",
       "  <use xlink:href=\"#glyph0-9\" x=\"178.741211\" y=\"318.506836\"/>\n",
       "</g>\n",
       "<g style=\"fill:rgb(49.803922%,49.803922%,49.803922%);fill-opacity:1;\">\n",
       "  <use xlink:href=\"#glyph0-3\" x=\"251.117188\" y=\"318.506836\"/>\n",
       "  <use xlink:href=\"#glyph0-7\" x=\"256.451172\" y=\"318.506836\"/>\n",
       "  <use xlink:href=\"#glyph0-8\" x=\"261.785156\" y=\"318.506836\"/>\n",
       "  <use xlink:href=\"#glyph0-1\" x=\"267.387695\" y=\"318.506836\"/>\n",
       "  <use xlink:href=\"#glyph0-9\" x=\"272.72168\" y=\"318.506836\"/>\n",
       "</g>\n",
       "<g style=\"fill:rgb(49.803922%,49.803922%,49.803922%);fill-opacity:1;\">\n",
       "  <use xlink:href=\"#glyph0-4\" x=\"345.09375\" y=\"318.506836\"/>\n",
       "  <use xlink:href=\"#glyph0-7\" x=\"350.427734\" y=\"318.506836\"/>\n",
       "  <use xlink:href=\"#glyph0-8\" x=\"355.761719\" y=\"318.506836\"/>\n",
       "  <use xlink:href=\"#glyph0-1\" x=\"361.364258\" y=\"318.506836\"/>\n",
       "  <use xlink:href=\"#glyph0-9\" x=\"366.698242\" y=\"318.506836\"/>\n",
       "</g>\n",
       "<g style=\"fill:rgb(49.803922%,49.803922%,49.803922%);fill-opacity:1;\">\n",
       "  <use xlink:href=\"#glyph0-5\" x=\"439.074219\" y=\"318.506836\"/>\n",
       "  <use xlink:href=\"#glyph0-7\" x=\"444.408203\" y=\"318.506836\"/>\n",
       "  <use xlink:href=\"#glyph0-8\" x=\"449.742188\" y=\"318.506836\"/>\n",
       "  <use xlink:href=\"#glyph0-1\" x=\"455.344727\" y=\"318.506836\"/>\n",
       "  <use xlink:href=\"#glyph0-9\" x=\"460.678711\" y=\"318.506836\"/>\n",
       "</g>\n",
       "<g style=\"fill:rgb(0%,0%,0%);fill-opacity:1;\">\n",
       "  <use xlink:href=\"#glyph1-1\" x=\"252.542969\" y=\"331.396484\"/>\n",
       "  <use xlink:href=\"#glyph1-2\" x=\"259.214844\" y=\"331.396484\"/>\n",
       "  <use xlink:href=\"#glyph1-3\" x=\"265.886719\" y=\"331.396484\"/>\n",
       "  <use xlink:href=\"#glyph1-4\" x=\"271.886719\" y=\"331.396484\"/>\n",
       "  <use xlink:href=\"#glyph1-5\" x=\"274.550781\" y=\"331.396484\"/>\n",
       "  <use xlink:href=\"#glyph1-4\" x=\"277.886719\" y=\"331.396484\"/>\n",
       "  <use xlink:href=\"#glyph1-2\" x=\"280.550781\" y=\"331.396484\"/>\n",
       "  <use xlink:href=\"#glyph1-6\" x=\"287.222656\" y=\"331.396484\"/>\n",
       "</g>\n",
       "<g style=\"fill:rgb(0%,0%,0%);fill-opacity:1;\">\n",
       "  <use xlink:href=\"#glyph2-1\" x=\"19.236328\" y=\"276.957031\"/>\n",
       "  <use xlink:href=\"#glyph2-2\" x=\"19.236328\" y=\"270.957031\"/>\n",
       "  <use xlink:href=\"#glyph2-3\" x=\"19.236328\" y=\"264.285156\"/>\n",
       "  <use xlink:href=\"#glyph2-4\" x=\"19.236328\" y=\"260.289062\"/>\n",
       "  <use xlink:href=\"#glyph2-2\" x=\"19.236328\" y=\"257.625\"/>\n",
       "  <use xlink:href=\"#glyph2-5\" x=\"19.236328\" y=\"250.953125\"/>\n",
       "  <use xlink:href=\"#glyph2-6\" x=\"19.236328\" y=\"244.28125\"/>\n",
       "  <use xlink:href=\"#glyph2-7\" x=\"19.236328\" y=\"240.945312\"/>\n",
       "  <use xlink:href=\"#glyph2-8\" x=\"19.236328\" y=\"234.273438\"/>\n",
       "  <use xlink:href=\"#glyph2-9\" x=\"19.236328\" y=\"228.273438\"/>\n",
       "  <use xlink:href=\"#glyph2-10\" x=\"19.236328\" y=\"221.601562\"/>\n",
       "  <use xlink:href=\"#glyph2-5\" x=\"19.236328\" y=\"214.929688\"/>\n",
       "  <use xlink:href=\"#glyph2-6\" x=\"19.236328\" y=\"208.257812\"/>\n",
       "</g>\n",
       "</g>\n",
       "</svg>\n"
      ],
      "text/plain": [
       "plot without title"
      ]
     },
     "metadata": {
      "image/svg+xml": {
       "isolated": true
      }
     },
     "output_type": "display_data"
    }
   ],
   "source": [
    "# plot in windows\n",
    "p <- with(count_variants, ggplot(\n",
    "    data.frame(position=get_midpoint(windows), variant_count=values),\n",
    "    aes(x=position, y=variant_count)))\n",
    "\n",
    "p + geom_line() + theme(aspect.ratio=0.3)"
   ]
  },
  {
   "cell_type": "code",
   "execution_count": 82,
   "metadata": {
    "collapsed": true
   },
   "outputs": [],
   "source": [
    "n_snps = 1000"
   ]
  },
  {
   "cell_type": "code",
   "execution_count": 162,
   "metadata": {
    "collapsed": false
   },
   "outputs": [],
   "source": [
    "num_alleles = fh[\"/3L/variants/num_alleles\"][1:n_snps]\n",
    "ok <- num_alleles <= 2"
   ]
  },
  {
   "cell_type": "code",
   "execution_count": 163,
   "metadata": {
    "collapsed": false
   },
   "outputs": [],
   "source": [
    "d <- (fh[\"/3L/calldata/genotype\"][which(ok),1:10,1:2])"
   ]
  },
  {
   "cell_type": "code",
   "execution_count": 178,
   "metadata": {
    "collapsed": false
   },
   "outputs": [],
   "source": [
    "# trick to recode d to 0/1/2/NA handle missing...\n",
    "geno <- apply(d, MARGIN=c(1, 2), FUN=sum)\n",
    "geno[geno < 0] <- NA\n",
    "storage.mode(geno) <- \"integer\""
   ]
  },
  {
   "cell_type": "code",
   "execution_count": 179,
   "metadata": {
    "collapsed": false
   },
   "outputs": [],
   "source": [
    "colnames(geno) <- paste0(\"AG\", seq(1, 10, 1))\n",
    "rownames(geno) <- paste0(\"p\", fh[\"/3L/variants/POS\"][which(ok)])"
   ]
  },
  {
   "cell_type": "code",
   "execution_count": 180,
   "metadata": {
    "collapsed": false
   },
   "outputs": [],
   "source": [
    "xx = data.frame(pop=rep(c(\"POP1\", \"POP2\"), 5), t(geno))"
   ]
  },
  {
   "cell_type": "code",
   "execution_count": 181,
   "metadata": {
    "collapsed": false
   },
   "outputs": [
    {
     "data": {
      "text/plain": [
       "$FST\n",
       "[1] 0.02328335\n",
       "\n",
       "$FIS\n",
       "[1] -0.4464646\n"
      ]
     },
     "execution_count": 181,
     "metadata": {},
     "output_type": "execute_result"
    }
   ],
   "source": [
    "wc(xx)"
   ]
  },
  {
   "cell_type": "markdown",
   "metadata": {},
   "source": [
    "# Calculate Fst between two populations\n",
    "\n",
    "For this we will need some metadata.\n",
    "\n",
    "Have to handle the fact that alleles are coded in 1s and 0s.\n",
    "\n",
    "(Exclude multiallelic variants)\n",
    "\n",
    "Work out allele freq of non missing alleles in each population. \n",
    "Calculate the D, and identify positions where abs(D) > 0.9"
   ]
  },
  {
   "cell_type": "code",
   "execution_count": 182,
   "metadata": {
    "collapsed": false
   },
   "outputs": [
    {
     "name": "stderr",
     "output_type": "stream",
     "text": [
      "Installing package into ‘/usr/local/lib/R/site-library’\n",
      "(as ‘lib’ is unspecified)\n"
     ]
    },
    {
     "name": "stdout",
     "output_type": "stream",
     "text": [
      "\n",
      "The downloaded source packages are in\n",
      "\t‘/tmp/RtmpjzK0ij/downloaded_packages’\n"
     ]
    }
   ],
   "source": [
    "install.packages(\"hierfstat\", repos=\"https://www.stats.bris.ac.uk/R\")\n",
    "library(hierfstat)"
   ]
  },
  {
   "cell_type": "code",
   "execution_count": 183,
   "metadata": {
    "collapsed": false
   },
   "outputs": [],
   "source": [
    "metadata <- read.table(\"/home/samples.meta.txt\",\n",
    "                       sep=\"\\t\", header=TRUE, stringsAsFactors=FALSE, quote=\"\")"
   ]
  },
  {
   "cell_type": "code",
   "execution_count": 186,
   "metadata": {
    "collapsed": false
   },
   "outputs": [
    {
     "data": {
      "text/html": [
       "<table>\n",
       "<thead><tr><th></th><th scope=col>index</th><th scope=col>ox_code</th><th scope=col>src_code</th><th scope=col>sra_sample_accession</th><th scope=col>population</th></tr></thead>\n",
       "<tbody>\n",
       "\t<tr><th scope=row>1</th><td>0</td><td>AB0085-C</td><td>BF2-4</td><td>ERS223996</td><td>BFS</td></tr>\n",
       "\t<tr><th scope=row>2</th><td>1</td><td>AB0087-C</td><td>BF3-3</td><td>ERS224013</td><td>BFM</td></tr>\n",
       "\t<tr><th scope=row>3</th><td>2</td><td>AB0088-C</td><td>BF3-5</td><td>ERS223991</td><td>BFM</td></tr>\n",
       "\t<tr><th scope=row>4</th><td>3</td><td>AB0089-C</td><td>BF3-8</td><td>ERS224031</td><td>BFM</td></tr>\n",
       "\t<tr><th scope=row>5</th><td>4</td><td>AB0090-C</td><td>BF3-10</td><td>ERS223936</td><td>BFM</td></tr>\n",
       "\t<tr><th scope=row>6</th><td>5</td><td>AB0091-C</td><td>BF3-12</td><td>ERS224065</td><td>BFM</td></tr>\n",
       "</tbody>\n",
       "</table>\n"
      ],
      "text/latex": [
       "\\begin{tabular}{r|lllll}\n",
       "  & index & ox_code & src_code & sra_sample_accession & population\\\\\n",
       "\\hline\n",
       "\t1 & 0 & AB0085-C & BF2-4 & ERS223996 & BFS\\\\\n",
       "\t2 & 1 & AB0087-C & BF3-3 & ERS224013 & BFM\\\\\n",
       "\t3 & 2 & AB0088-C & BF3-5 & ERS223991 & BFM\\\\\n",
       "\t4 & 3 & AB0089-C & BF3-8 & ERS224031 & BFM\\\\\n",
       "\t5 & 4 & AB0090-C & BF3-10 & ERS223936 & BFM\\\\\n",
       "\t6 & 5 & AB0091-C & BF3-12 & ERS224065 & BFM\\\\\n",
       "\\end{tabular}\n"
      ],
      "text/plain": [
       "  index  ox_code src_code sra_sample_accession population\n",
       "1     0 AB0085-C    BF2-4            ERS223996        BFS\n",
       "2     1 AB0087-C    BF3-3            ERS224013        BFM\n",
       "3     2 AB0088-C    BF3-5            ERS223991        BFM\n",
       "4     3 AB0089-C    BF3-8            ERS224031        BFM\n",
       "5     4 AB0090-C   BF3-10            ERS223936        BFM\n",
       "6     5 AB0091-C   BF3-12            ERS224065        BFM"
      ]
     },
     "execution_count": 186,
     "metadata": {},
     "output_type": "execute_result"
    }
   ],
   "source": [
    "head(metadata[,1:5])"
   ]
  },
  {
   "cell_type": "code",
   "execution_count": 253,
   "metadata": {
    "collapsed": false
   },
   "outputs": [],
   "source": [
    "# calculate windowed fst using weir and cockerham\n",
    "calculate_windowed_fst <- function(data, popA_ix, popB_ix, window_size=100000, \n",
    "                                   start=NULL, stop=NULL){\n",
    "    \n",
    "    positions <- data[\"/3L/variants/POS\"]\n",
    "    \n",
    "    if (is.null(start)){\n",
    "        start = 0\n",
    "    }\n",
    "    \n",
    "    if (is.null(stop)){\n",
    "        stop <- positions[attr(positions, \"dim\")]\n",
    "    }\n",
    "    \n",
    "    windows <- seq(start, stop, by=window_size)\n",
    "    ix = findInterval(windows, positions[], all.inside=TRUE)\n",
    "    fst = rep(NA, length(windows) - 1)\n",
    "    \n",
    "    ordering <- order(c(popA_ix, popB_ix))\n",
    "    indices <- c(popA_ix, popB_ix)[ordering]\n",
    "    \n",
    "    populations = c(rep(\"popA\", length(popA_ix)),\n",
    "                    rep(\"popB\", length(popB_ix)))[ordering]\n",
    "\n",
    "    for (i in 1:(length(ix)-1)){\n",
    "        start = ix[i]\n",
    "        stop  = ix[i + 1]\n",
    "        \n",
    "        num_alleles = data[\"/3L/variants/num_alleles\"][start:stop]\n",
    "        ok <- num_alleles <= 2\n",
    "                \n",
    "        # only biallelic\n",
    "        d <- data[\"/3L/calldata/genotype\"][start:stop, indices, 1:2]\n",
    "        d <- d[ok,,]\n",
    "        \n",
    "        # sum and transpose\n",
    "        geno <- apply(d, MARGIN=c(1, 2), FUN=sum)\n",
    "        geno[geno < 0] <- NA\n",
    "        storage.mode(geno) <- \"integer\"\n",
    "        \n",
    "        colnames(geno) <- paste0(\"id\", seq(1, length(populations), 1))\n",
    "        rownames(geno) <- paste0(\"p\", positions[start:stop][which(ok)])\n",
    "        \n",
    "        xx = data.frame(pop=populations, t(geno))\n",
    "        fst[i] = wc(xx)$FST\n",
    "    }\n",
    "    \n",
    "    return (data.frame(\"Fst\"=fst,\n",
    "                       \"start\"=windows[1:length(windows) -1],\n",
    "                       \"stop\"=windows[2:length(windows)]))\n",
    "}"
   ]
  },
  {
   "cell_type": "code",
   "execution_count": 247,
   "metadata": {
    "collapsed": false
   },
   "outputs": [],
   "source": [
    "bfs_ix = which(metadata$population == \"BFS\")\n",
    "bfm_ix = which(metadata$population == \"BFM\")"
   ]
  },
  {
   "cell_type": "code",
   "execution_count": null,
   "metadata": {
    "collapsed": false
   },
   "outputs": [],
   "source": [
    "# slow...so only compute 5/292 windows.\n",
    "result = calculate_windowed_fst(fh, gas_ix, aom_ix, start=10000000, stop=10500000)"
   ]
  },
  {
   "cell_type": "code",
   "execution_count": null,
   "metadata": {
    "collapsed": false
   },
   "outputs": [],
   "source": [
    "result"
   ]
  },
  {
   "cell_type": "markdown",
   "metadata": {},
   "source": [
    "# Plot hz in a KES sample vs CMS sample"
   ]
  },
  {
   "cell_type": "code",
   "execution_count": null,
   "metadata": {
    "collapsed": true
   },
   "outputs": [],
   "source": [
    "wc(xx)"
   ]
  },
  {
   "cell_type": "code",
   "execution_count": null,
   "metadata": {
    "collapsed": true
   },
   "outputs": [],
   "source": []
  }
 ],
 "metadata": {
  "kernelspec": {
   "display_name": "R",
   "language": "R",
   "name": "ir"
  },
  "language_info": {
   "codemirror_mode": "r",
   "file_extension": ".r",
   "mimetype": "text/x-r-source",
   "name": "R",
   "pygments_lexer": "r",
   "version": "3.2.2"
  }
 },
 "nbformat": 4,
 "nbformat_minor": 0
}
